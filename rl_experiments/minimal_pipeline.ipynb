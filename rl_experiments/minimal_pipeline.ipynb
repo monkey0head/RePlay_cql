{
 "cells": [
  {
   "cell_type": "code",
   "execution_count": 117,
   "id": "59caeaf4",
   "metadata": {},
   "outputs": [],
   "source": [
    "import os\n",
    "os.environ[\"PROTOCOL_BUFFERS_PYTHON_IMPLEMENTATION\"] = 'python'\n",
    "import rs_datasets\n",
    "import numpy as np \n",
    "import pandas as pd\n",
    "from d3rlpy.dataset import MDPDataset"
   ]
  },
  {
   "cell_type": "code",
   "execution_count": 2,
   "id": "edbf7249",
   "metadata": {},
   "outputs": [],
   "source": [
    "import d3rlpy"
   ]
  },
  {
   "cell_type": "code",
   "execution_count": 4,
   "id": "bef70fc9",
   "metadata": {},
   "outputs": [
    {
     "name": "stderr",
     "output_type": "stream",
     "text": [
      "991kB [00:05, 188kB/s]                                                                                                                                                                        \n"
     ]
    }
   ],
   "source": [
    "ml = rs_datasets.MovieLens()\n",
    "raitings = ml.ratings\n",
    "raitings['date'] = pd.to_datetime(raitings[\"timestamp\"].astype(int), unit='s')"
   ]
  },
  {
   "cell_type": "code",
   "execution_count": 22,
   "id": "90a859b2",
   "metadata": {},
   "outputs": [
    {
     "data": {
      "text/plain": [
       "Index(['user_id', 'item_id', 'rating', 'timestamp', 'date'], dtype='object')"
      ]
     },
     "execution_count": 22,
     "metadata": {},
     "output_type": "execute_result"
    }
   ],
   "source": [
    "raitings.keys()"
   ]
  },
  {
   "cell_type": "markdown",
   "id": "964d449d",
   "metadata": {},
   "source": [
    "### Items encoding"
   ]
  },
  {
   "cell_type": "code",
   "execution_count": 23,
   "id": "ee3c3434",
   "metadata": {},
   "outputs": [],
   "source": [
    "EMBEDDING_SIZE = 64"
   ]
  },
  {
   "cell_type": "code",
   "execution_count": 20,
   "id": "72ef75f2",
   "metadata": {},
   "outputs": [],
   "source": [
    "items_mapping = dict()\n",
    "items = list(set(raitings['item_id']))\n",
    "for item in items:\n",
    "    new_vector = np.random.uniform(0,1, size = EMBEDDING_SIZE)\n",
    "    items_mapping[item] = new_vector\n",
    "    "
   ]
  },
  {
   "cell_type": "markdown",
   "id": "77d8f979",
   "metadata": {},
   "source": [
    "### MDP"
   ]
  },
  {
   "cell_type": "markdown",
   "id": "8ec4023e",
   "metadata": {},
   "source": [
    "#### Make mdp for user"
   ]
  },
  {
   "cell_type": "code",
   "execution_count": 167,
   "id": "389a5daa",
   "metadata": {},
   "outputs": [],
   "source": [
    "def calc_states_one_episode(episode_logs, mapping, framestack = 5):\n",
    "    no_op_framestack = np.zeros((framestack,EMBEDDING_SIZE))\n",
    "    chooses = np.asarray([mapping[item_idx] for item_idx in episode_logs['item_id']])\n",
    "    chooses = np.append(no_op_framestack, chooses, axis = 0)\n",
    "    states = []\n",
    "    for i in range(len(episode_logs)):\n",
    "        state = chooses[i: i+framestack]\n",
    "        states.append(state)\n",
    "    return states\n",
    "    \n",
    "def user_mdps(user_df, mapping, window_size = 20, framestack = 5):\n",
    "    no_op_framestack = np.zeros((5,EMBEDDING_SIZE))\n",
    "    states = []\n",
    "    rewars = []\n",
    "    actions = []\n",
    "    termations = []\n",
    "    for i in range(len(user_df)-window_size):\n",
    "        logs = user_df[i:i+window_size]\n",
    "        states_one_episode = calc_states_one_episode(logs, mapping, framestack)\n",
    "        rewards_one_episode = logs['rating']\n",
    "        actions_one_episode = logs['item_id']\n",
    "        \n",
    "        ### remove_no_op\n",
    "        states_one_episode = states_one_episode[framestack:]\n",
    "        rewards_one_episode = rewards_one_episode[framestack:]\n",
    "        actions_one_episode = actions_one_episode[framestack:]\n",
    "        ### \n",
    "        termations_one_episode = np.zeros_like(actions_one_episode)\n",
    "        termations_one_episode[-1] = 1\n",
    "        \n",
    "        rewars.append(rewards_one_episode)\n",
    "        states.append(states_one_episode)\n",
    "        actions.append(actions_one_episode)\n",
    "        termations.append(termations_one_episode)\n",
    "    return np.asarray(states), np.asarray(rewars), np.asarray(actions), np.asarray(termations)\n",
    "\n",
    "def make_mdp(df, items_mapping, window_size = 20, framestack = 5):\n",
    "    users = list(set(df['user_id']))\n",
    "    full_states = []\n",
    "    full_rewards = []\n",
    "    full_actions = []\n",
    "    full_termates = []\n",
    "    for user in users:\n",
    "        user_df = df[df['user_id'] == user].sort_values('timestamp')\n",
    "        states, rewards, actions, termates = user_mdps(user_df, items_mapping, window_size, framestack)\n",
    "        full_states += states.tolist()\n",
    "        full_rewards += rewards.tolist()\n",
    "        full_actions += actions.tolist()\n",
    "        full_termates += termates.tolist()      \n",
    "    return full_states, full_rewards, full_actions, full_termates\n",
    "        \n",
    "        \n",
    "def to_d3rlpy_form(full_states, full_rewards, full_actions, full_termates):\n",
    "     users_pesodes, steps_in_episode, framestack, emb_size = np.asarray(full_states).shape \n",
    "     states = np.asarray(full_states)\n",
    "     states = states.reshape(-1, framestack*emb_size)     \n",
    "    # print(states.shape)\n",
    "     rewards = np.asarray(full_rewards).reshape(-1,1)    \n",
    "     actions = np.asarray(full_actions).reshape(-1,1)        \n",
    "     termates = np.asarray(full_termates).reshape(-1,1)\n",
    "     \n",
    "     \n",
    "     dataset = MDPDataset(\n",
    "            observations=states[:5000],\n",
    "            actions=actions[:5000],\n",
    "            rewards=rewards[:5000],\n",
    "            terminals=termates[:5000]\n",
    "        )\n",
    "    \n",
    "     return dataset\n",
    "        "
   ]
  },
  {
   "cell_type": "code",
   "execution_count": 88,
   "id": "26f7f5c1",
   "metadata": {},
   "outputs": [
    {
     "name": "stderr",
     "output_type": "stream",
     "text": [
      "/tmp/ipykernel_129223/1089091575.py:23: FutureWarning: The behavior of `series[i:j]` with an integer-dtype index is deprecated. In a future version, this will be treated as *label-based* indexing, consistent with e.g. `series[i]` lookups. To retain the old behavior, use `series.iloc[i:j]`. To get the future behavior, use `series.loc[i:j]`.\n",
      "  rewards_one_episode = rewards_one_episode[framestack:]\n",
      "/tmp/ipykernel_129223/1089091575.py:24: FutureWarning: The behavior of `series[i:j]` with an integer-dtype index is deprecated. In a future version, this will be treated as *label-based* indexing, consistent with e.g. `series[i]` lookups. To retain the old behavior, use `series.iloc[i:j]`. To get the future behavior, use `series.loc[i:j]`.\n",
      "  actions_one_episode = actions_one_episode[framestack:]\n"
     ]
    }
   ],
   "source": [
    "states, rewards, actions = user_mdps(raitings[raitings['user_id']<5], items_mapping)"
   ]
  },
  {
   "cell_type": "markdown",
   "id": "8cccfe57",
   "metadata": {},
   "source": [
    "### Train CQL"
   ]
  },
  {
   "cell_type": "code",
   "execution_count": 162,
   "id": "c355c624",
   "metadata": {},
   "outputs": [
    {
     "name": "stderr",
     "output_type": "stream",
     "text": [
      "/tmp/ipykernel_129223/2256493093.py:25: FutureWarning: The behavior of `series[i:j]` with an integer-dtype index is deprecated. In a future version, this will be treated as *label-based* indexing, consistent with e.g. `series[i]` lookups. To retain the old behavior, use `series.iloc[i:j]`. To get the future behavior, use `series.loc[i:j]`.\n",
      "  rewards_one_episode = rewards_one_episode[framestack:]\n",
      "/tmp/ipykernel_129223/2256493093.py:26: FutureWarning: The behavior of `series[i:j]` with an integer-dtype index is deprecated. In a future version, this will be treated as *label-based* indexing, consistent with e.g. `series[i]` lookups. To retain the old behavior, use `series.iloc[i:j]`. To get the future behavior, use `series.loc[i:j]`.\n",
      "  actions_one_episode = actions_one_episode[framestack:]\n"
     ]
    }
   ],
   "source": [
    "states, rewards, actions, termates = make_mdp(raitings[raitings['user_id']<1000], items_mapping, window_size = 40, framestack = 5)"
   ]
  },
  {
   "cell_type": "code",
   "execution_count": 168,
   "id": "f6851f6f",
   "metadata": {},
   "outputs": [],
   "source": [
    "dataset = to_d3rlpy_form(states, rewards, actions, termates)\n"
   ]
  },
  {
   "cell_type": "code",
   "execution_count": 169,
   "id": "d962148d",
   "metadata": {},
   "outputs": [],
   "source": [
    "from d3rlpy.algos import DiscreteCQL\n",
    "from d3rlpy.metrics.scorer import evaluate_on_environment\n"
   ]
  },
  {
   "cell_type": "code",
   "execution_count": null,
   "id": "fa38e2ab",
   "metadata": {},
   "outputs": [],
   "source": [
    "import sys\n",
    "sys.path.append(\"../\")\n",
    "from rl_experiments.utils.fake_recommender_env import FakeRecomenderEnv\n",
    "import wandb\n",
    "wandb.init(project=\"RecommendationsSDAC\", group = \"MovieLens_SDAC\")\n",
    "\n",
    "env = FakeRecomenderEnv(wandb, raitings[raitings['user_id']<5][:1000], 10)\n",
    "evaluate_scorer = evaluate_on_environment(env)"
   ]
  },
  {
   "cell_type": "code",
   "execution_count": 170,
   "id": "9fef29ac",
   "metadata": {},
   "outputs": [],
   "source": [
    "algo = DiscreteCQL(use_gpu=True)"
   ]
  },
  {
   "cell_type": "code",
   "execution_count": 171,
   "id": "9204dff7",
   "metadata": {},
   "outputs": [
    {
     "name": "stdout",
     "output_type": "stream",
     "text": [
      "2022-11-08 13:20.46 [debug    ] RoundIterator is selected.\n",
      "2022-11-08 13:20.46 [info     ] Directory is created at d3rlpy_logs/DiscreteCQL_20221108132046\n",
      "2022-11-08 13:20.46 [debug    ] Building models...\n",
      "2022-11-08 13:20.46 [debug    ] Models have been built.\n",
      "2022-11-08 13:20.46 [info     ] Parameters are saved to d3rlpy_logs/DiscreteCQL_20221108132046/params.json params={'action_scaler': None, 'alpha': 1.0, 'batch_size': 32, 'encoder_factory': {'type': 'default', 'params': {'activation': 'relu', 'use_batch_norm': False, 'dropout_rate': None}}, 'gamma': 0.99, 'generated_maxlen': 100000, 'learning_rate': 6.25e-05, 'n_critics': 1, 'n_frames': 1, 'n_steps': 1, 'optim_factory': {'optim_cls': 'Adam', 'betas': (0.9, 0.999), 'eps': 1e-08, 'weight_decay': 0, 'amsgrad': False}, 'q_func_factory': {'type': 'mean', 'params': {'share_encoder': False}}, 'real_ratio': 1.0, 'reward_scaler': None, 'scaler': None, 'target_update_interval': 8000, 'use_gpu': 0, 'algorithm': 'DiscreteCQL', 'observation_shape': (320,), 'action_size': 4007}\n"
     ]
    },
    {
     "data": {
      "application/vnd.jupyter.widget-view+json": {
       "model_id": "af2eb73758e24ee3a2a2c2c91b5bb29d",
       "version_major": 2,
       "version_minor": 0
      },
      "text/plain": [
       "Epoch 1/10:   0%|          | 0/155 [00:00<?, ?it/s]"
      ]
     },
     "metadata": {},
     "output_type": "display_data"
    },
    {
     "name": "stdout",
     "output_type": "stream",
     "text": [
      "2022-11-08 13:20.47 [info     ] DiscreteCQL_20221108132046: epoch=1 step=155 epoch=1 metrics={'time_sample_batch': 0.00013720143225885207, 'time_algorithm_update': 0.007556327696769468, 'loss': 11.207797191989037, 'time_step': 0.007765654594667496} step=155\n",
      "2022-11-08 13:20.47 [info     ] Model parameters are saved to d3rlpy_logs/DiscreteCQL_20221108132046/model_155.pt\n"
     ]
    },
    {
     "data": {
      "application/vnd.jupyter.widget-view+json": {
       "model_id": "25697b52e22d49bbbc4a941d09cba8ad",
       "version_major": 2,
       "version_minor": 0
      },
      "text/plain": [
       "Epoch 2/10:   0%|          | 0/155 [00:00<?, ?it/s]"
      ]
     },
     "metadata": {},
     "output_type": "display_data"
    },
    {
     "name": "stdout",
     "output_type": "stream",
     "text": [
      "2022-11-08 13:20.48 [info     ] DiscreteCQL_20221108132046: epoch=2 step=310 epoch=2 metrics={'time_sample_batch': 0.00015003142818327872, 'time_algorithm_update': 0.008050481734737273, 'loss': 6.248589804864699, 'time_step': 0.008291052233788275} step=310\n",
      "2022-11-08 13:20.48 [info     ] Model parameters are saved to d3rlpy_logs/DiscreteCQL_20221108132046/model_310.pt\n"
     ]
    },
    {
     "data": {
      "application/vnd.jupyter.widget-view+json": {
       "model_id": "3624b24b726340baa456ac6aa04dcad7",
       "version_major": 2,
       "version_minor": 0
      },
      "text/plain": [
       "Epoch 3/10:   0%|          | 0/155 [00:00<?, ?it/s]"
      ]
     },
     "metadata": {},
     "output_type": "display_data"
    },
    {
     "name": "stdout",
     "output_type": "stream",
     "text": [
      "2022-11-08 13:20.50 [info     ] DiscreteCQL_20221108132046: epoch=3 step=465 epoch=3 metrics={'time_sample_batch': 0.00014419863300938761, 'time_algorithm_update': 0.008009650630335654, 'loss': 5.097815369021508, 'time_step': 0.008235423795638545} step=465\n",
      "2022-11-08 13:20.50 [info     ] Model parameters are saved to d3rlpy_logs/DiscreteCQL_20221108132046/model_465.pt\n"
     ]
    },
    {
     "data": {
      "application/vnd.jupyter.widget-view+json": {
       "model_id": "668568b3e68441e6ab035ae467b6f9c2",
       "version_major": 2,
       "version_minor": 0
      },
      "text/plain": [
       "Epoch 4/10:   0%|          | 0/155 [00:00<?, ?it/s]"
      ]
     },
     "metadata": {},
     "output_type": "display_data"
    },
    {
     "name": "stdout",
     "output_type": "stream",
     "text": [
      "2022-11-08 13:20.51 [info     ] DiscreteCQL_20221108132046: epoch=4 step=620 epoch=4 metrics={'time_sample_batch': 0.00014169754520539316, 'time_algorithm_update': 0.007737321238363942, 'loss': 4.942206299689508, 'time_step': 0.0079546328513853} step=620\n",
      "2022-11-08 13:20.51 [info     ] Model parameters are saved to d3rlpy_logs/DiscreteCQL_20221108132046/model_620.pt\n"
     ]
    },
    {
     "data": {
      "application/vnd.jupyter.widget-view+json": {
       "model_id": "cfa74f500c4549dd83e4672d9b6f5e85",
       "version_major": 2,
       "version_minor": 0
      },
      "text/plain": [
       "Epoch 5/10:   0%|          | 0/155 [00:00<?, ?it/s]"
      ]
     },
     "metadata": {},
     "output_type": "display_data"
    },
    {
     "name": "stdout",
     "output_type": "stream",
     "text": [
      "2022-11-08 13:20.52 [info     ] DiscreteCQL_20221108132046: epoch=5 step=775 epoch=5 metrics={'time_sample_batch': 0.00014964995845671622, 'time_algorithm_update': 0.00814522312533471, 'loss': 4.810022729442966, 'time_step': 0.008375298592352098} step=775\n",
      "2022-11-08 13:20.52 [info     ] Model parameters are saved to d3rlpy_logs/DiscreteCQL_20221108132046/model_775.pt\n"
     ]
    },
    {
     "data": {
      "application/vnd.jupyter.widget-view+json": {
       "model_id": "71512494dc7241c2b876643136ae49ff",
       "version_major": 2,
       "version_minor": 0
      },
      "text/plain": [
       "Epoch 6/10:   0%|          | 0/155 [00:00<?, ?it/s]"
      ]
     },
     "metadata": {},
     "output_type": "display_data"
    },
    {
     "name": "stdout",
     "output_type": "stream",
     "text": [
      "2022-11-08 13:20.54 [info     ] DiscreteCQL_20221108132046: epoch=6 step=930 epoch=6 metrics={'time_sample_batch': 0.00014400789814610635, 'time_algorithm_update': 0.008138984249484154, 'loss': 4.664327178462859, 'time_step': 0.008352679591025076} step=930\n",
      "2022-11-08 13:20.54 [info     ] Model parameters are saved to d3rlpy_logs/DiscreteCQL_20221108132046/model_930.pt\n"
     ]
    },
    {
     "data": {
      "application/vnd.jupyter.widget-view+json": {
       "model_id": "a5df05d7ca4a4710a58bda0e589c353e",
       "version_major": 2,
       "version_minor": 0
      },
      "text/plain": [
       "Epoch 7/10:   0%|          | 0/155 [00:00<?, ?it/s]"
      ]
     },
     "metadata": {},
     "output_type": "display_data"
    },
    {
     "name": "stdout",
     "output_type": "stream",
     "text": [
      "2022-11-08 13:20.55 [info     ] DiscreteCQL_20221108132046: epoch=7 step=1085 epoch=7 metrics={'time_sample_batch': 0.0001445970227641444, 'time_algorithm_update': 0.007526057766329857, 'loss': 4.500921049425679, 'time_step': 0.007747734746625347} step=1085\n",
      "2022-11-08 13:20.55 [info     ] Model parameters are saved to d3rlpy_logs/DiscreteCQL_20221108132046/model_1085.pt\n"
     ]
    },
    {
     "data": {
      "application/vnd.jupyter.widget-view+json": {
       "model_id": "4144d7e46f5e4a81a100874b55c56c7d",
       "version_major": 2,
       "version_minor": 0
      },
      "text/plain": [
       "Epoch 8/10:   0%|          | 0/155 [00:00<?, ?it/s]"
      ]
     },
     "metadata": {},
     "output_type": "display_data"
    },
    {
     "name": "stdout",
     "output_type": "stream",
     "text": [
      "2022-11-08 13:20.56 [info     ] DiscreteCQL_20221108132046: epoch=8 step=1240 epoch=8 metrics={'time_sample_batch': 0.00014451396080755418, 'time_algorithm_update': 0.007696676254272461, 'loss': 4.313734223765712, 'time_step': 0.007917684124362084} step=1240\n",
      "2022-11-08 13:20.56 [info     ] Model parameters are saved to d3rlpy_logs/DiscreteCQL_20221108132046/model_1240.pt\n"
     ]
    },
    {
     "data": {
      "application/vnd.jupyter.widget-view+json": {
       "model_id": "080daa1079c347e3b40716bf7ca655e2",
       "version_major": 2,
       "version_minor": 0
      },
      "text/plain": [
       "Epoch 9/10:   0%|          | 0/155 [00:00<?, ?it/s]"
      ]
     },
     "metadata": {},
     "output_type": "display_data"
    },
    {
     "name": "stdout",
     "output_type": "stream",
     "text": [
      "2022-11-08 13:20.57 [info     ] DiscreteCQL_20221108132046: epoch=9 step=1395 epoch=9 metrics={'time_sample_batch': 0.0001403331756591797, 'time_algorithm_update': 0.008188439953711725, 'loss': 4.093966231807586, 'time_step': 0.008408592593285346} step=1395\n",
      "2022-11-08 13:20.58 [info     ] Model parameters are saved to d3rlpy_logs/DiscreteCQL_20221108132046/model_1395.pt\n"
     ]
    },
    {
     "data": {
      "application/vnd.jupyter.widget-view+json": {
       "model_id": "7585c740224d474990e1b36d61ffcd7e",
       "version_major": 2,
       "version_minor": 0
      },
      "text/plain": [
       "Epoch 10/10:   0%|          | 0/155 [00:00<?, ?it/s]"
      ]
     },
     "metadata": {},
     "output_type": "display_data"
    },
    {
     "name": "stdout",
     "output_type": "stream",
     "text": [
      "2022-11-08 13:20.59 [info     ] DiscreteCQL_20221108132046: epoch=10 step=1550 epoch=10 metrics={'time_sample_batch': 0.00014486774321525328, 'time_algorithm_update': 0.008166379313315115, 'loss': 3.8470312041621053, 'time_step': 0.008394378231417749} step=1550\n",
      "2022-11-08 13:20.59 [info     ] Model parameters are saved to d3rlpy_logs/DiscreteCQL_20221108132046/model_1550.pt\n"
     ]
    },
    {
     "data": {
      "text/plain": [
       "[(1,\n",
       "  {'time_sample_batch': 0.00013720143225885207,\n",
       "   'time_algorithm_update': 0.007556327696769468,\n",
       "   'loss': 11.207797191989037,\n",
       "   'time_step': 0.007765654594667496}),\n",
       " (2,\n",
       "  {'time_sample_batch': 0.00015003142818327872,\n",
       "   'time_algorithm_update': 0.008050481734737273,\n",
       "   'loss': 6.248589804864699,\n",
       "   'time_step': 0.008291052233788275}),\n",
       " (3,\n",
       "  {'time_sample_batch': 0.00014419863300938761,\n",
       "   'time_algorithm_update': 0.008009650630335654,\n",
       "   'loss': 5.097815369021508,\n",
       "   'time_step': 0.008235423795638545}),\n",
       " (4,\n",
       "  {'time_sample_batch': 0.00014169754520539316,\n",
       "   'time_algorithm_update': 0.007737321238363942,\n",
       "   'loss': 4.942206299689508,\n",
       "   'time_step': 0.0079546328513853}),\n",
       " (5,\n",
       "  {'time_sample_batch': 0.00014964995845671622,\n",
       "   'time_algorithm_update': 0.00814522312533471,\n",
       "   'loss': 4.810022729442966,\n",
       "   'time_step': 0.008375298592352098}),\n",
       " (6,\n",
       "  {'time_sample_batch': 0.00014400789814610635,\n",
       "   'time_algorithm_update': 0.008138984249484154,\n",
       "   'loss': 4.664327178462859,\n",
       "   'time_step': 0.008352679591025076}),\n",
       " (7,\n",
       "  {'time_sample_batch': 0.0001445970227641444,\n",
       "   'time_algorithm_update': 0.007526057766329857,\n",
       "   'loss': 4.500921049425679,\n",
       "   'time_step': 0.007747734746625347}),\n",
       " (8,\n",
       "  {'time_sample_batch': 0.00014451396080755418,\n",
       "   'time_algorithm_update': 0.007696676254272461,\n",
       "   'loss': 4.313734223765712,\n",
       "   'time_step': 0.007917684124362084}),\n",
       " (9,\n",
       "  {'time_sample_batch': 0.0001403331756591797,\n",
       "   'time_algorithm_update': 0.008188439953711725,\n",
       "   'loss': 4.093966231807586,\n",
       "   'time_step': 0.008408592593285346}),\n",
       " (10,\n",
       "  {'time_sample_batch': 0.00014486774321525328,\n",
       "   'time_algorithm_update': 0.008166379313315115,\n",
       "   'loss': 3.8470312041621053,\n",
       "   'time_step': 0.008394378231417749})]"
      ]
     },
     "execution_count": 171,
     "metadata": {},
     "output_type": "execute_result"
    }
   ],
   "source": [
    "algo.fit(dataset, n_epochs=10)"
   ]
  },
  {
   "cell_type": "code",
   "execution_count": 195,
   "id": "5a5fc831",
   "metadata": {},
   "outputs": [],
   "source": [
    "import math\n",
    "def ndcg(k, pred, ground_truth) -> float:\n",
    "        pred_len = min(k, len(pred))\n",
    "        ground_truth_len = min(k, len(ground_truth))\n",
    "        denom = [1 / math.log2(i + 2) for i in range(k)]\n",
    "        dcg = sum(denom[i] for i in range(pred_len) if pred[i] in ground_truth)\n",
    "        idcg = sum(denom[:ground_truth_len])\n",
    "\n",
    "        return dcg / idcg"
   ]
  },
  {
   "cell_type": "code",
   "execution_count": 206,
   "id": "55ebeae5",
   "metadata": {},
   "outputs": [
    {
     "name": "stdout",
     "output_type": "stream",
     "text": [
      "[ 596 2948 1136 2427 1031 1136 1031 3671 2948 1196 1031 1136 1031 2700\n",
      " 2395  596 3253 1517 2141 1732]\n"
     ]
    }
   ],
   "source": [
    "preds = algo.predict(dataset.episodes[0].observations[:20])\n",
    "print(preds)"
   ]
  },
  {
   "cell_type": "code",
   "execution_count": 207,
   "id": "6407c47e",
   "metadata": {},
   "outputs": [
    {
     "name": "stdout",
     "output_type": "stream",
     "text": [
      "[3578 3617 3744 2858  101  441 1473 2997  235 1060  356  223 1500 2700\n",
      " 2395 3243 3253 1517 1580 1732]\n"
     ]
    }
   ],
   "source": [
    "true_acts = dataset.episodes[0].actions[:20]\n",
    "print(true_acts)"
   ]
  },
  {
   "cell_type": "code",
   "execution_count": 205,
   "id": "6b83f3c4",
   "metadata": {},
   "outputs": [
    {
     "data": {
      "text/plain": [
       "0.2445923242397208"
      ]
     },
     "execution_count": 205,
     "metadata": {},
     "output_type": "execute_result"
    }
   ],
   "source": [
    "ndcg(20, preds, true_acts)"
   ]
  },
  {
   "cell_type": "code",
   "execution_count": 208,
   "id": "428f8074",
   "metadata": {},
   "outputs": [],
   "source": [
    "def mean_ndcg():\n",
    "    mean_ndcg_v = []\n",
    "    for i in range(100):\n",
    "        preds = algo.predict(dataset.episodes[i].observations[:20])\n",
    "        true_acts = dataset.episodes[i].actions[:20]\n",
    "        mean_ndcg_v.append(ndcg(20, preds, true_acts))\n",
    "    return np.mean(mean_ndcg_v)"
   ]
  },
  {
   "cell_type": "code",
   "execution_count": 210,
   "id": "9d16fd3f",
   "metadata": {},
   "outputs": [
    {
     "data": {
      "text/plain": [
       "0.8509331578215731"
      ]
     },
     "execution_count": 210,
     "metadata": {},
     "output_type": "execute_result"
    }
   ],
   "source": [
    "mean_ndcg()"
   ]
  },
  {
   "cell_type": "code",
   "execution_count": null,
   "id": "513d0900",
   "metadata": {},
   "outputs": [],
   "source": []
  }
 ],
 "metadata": {
  "kernelspec": {
   "display_name": "Python 3 (ipykernel)",
   "language": "python",
   "name": "python3"
  },
  "language_info": {
   "codemirror_mode": {
    "name": "ipython",
    "version": 3
   },
   "file_extension": ".py",
   "mimetype": "text/x-python",
   "name": "python",
   "nbconvert_exporter": "python",
   "pygments_lexer": "ipython3",
   "version": "3.8.10"
  }
 },
 "nbformat": 4,
 "nbformat_minor": 5
}
