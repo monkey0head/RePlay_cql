{
 "cells": [
  {
   "cell_type": "code",
   "execution_count": 1,
   "id": "a916b014-c79b-4c69-9866-aa188982b706",
   "metadata": {},
   "outputs": [],
   "source": [
    "from matplotlib import pyplot as plt\n",
    "import pickle\n",
    "import torch\n",
    "import tqdm\n",
    "import warnings\n",
    "import numpy as np\n",
    "import pandas as pd\n",
    "import seaborn as sns\n",
    "from optuna.exceptions import ExperimentalWarning\n",
    "warnings.filterwarnings(\"ignore\", category=UserWarning)\n",
    "warnings.filterwarnings(\"ignore\", category=ExperimentalWarning)"
   ]
  },
  {
   "cell_type": "markdown",
   "id": "9d1fbcae-6dc0-4ce7-8d0e-3249abb5510f",
   "metadata": {},
   "source": [
    "## Data reading"
   ]
  },
  {
   "cell_type": "markdown",
   "id": "82b23d73-f52d-4a14-a737-02a8a57b66e2",
   "metadata": {},
   "source": [
    "### clickstream\n",
    "\n",
    "Defines listening events"
   ]
  },
  {
   "cell_type": "code",
   "execution_count": 25,
   "id": "349c032d-8f84-42c0-aeef-1642945a4f4b",
   "metadata": {},
   "outputs": [
    {
     "data": {
      "text/plain": [
       "(1000000, 6)"
      ]
     },
     "execution_count": 25,
     "metadata": {},
     "output_type": "execute_result"
    }
   ],
   "source": [
    "from pathlib import Path\n",
    "data_path = Path.home().joinpath('data/sberzvuk/ailab_data/')\n",
    "\n",
    "clickstream = pd.read_csv(data_path.joinpath('clickstream.csv'), nrows=1_000_000)\n",
    "clickstream.shape"
   ]
  },
  {
   "cell_type": "code",
   "execution_count": 26,
   "id": "c0a91c55-9144-4589-bb44-4b5eff250a3a",
   "metadata": {},
   "outputs": [
    {
     "data": {
      "text/plain": [
       "Index(['user_id', 'track_id', 'event_nm', 'action_nm',\n",
       "       'playevent_play_duration', 'proc_dt'],\n",
       "      dtype='object')"
      ]
     },
     "execution_count": 26,
     "metadata": {},
     "output_type": "execute_result"
    }
   ],
   "source": [
    "clickstream.columns"
   ]
  },
  {
   "cell_type": "code",
   "execution_count": null,
   "id": "9cefcefd-a1b5-49db-842d-1432ebeb2152",
   "metadata": {},
   "outputs": [],
   "source": []
  },
  {
   "cell_type": "code",
   "execution_count": 12,
   "id": "74931229-7abb-4552-a7e8-552bcaaa245c",
   "metadata": {},
   "outputs": [
    {
     "data": {
      "text/html": [
       "<div>\n",
       "<style scoped>\n",
       "    .dataframe tbody tr th:only-of-type {\n",
       "        vertical-align: middle;\n",
       "    }\n",
       "\n",
       "    .dataframe tbody tr th {\n",
       "        vertical-align: top;\n",
       "    }\n",
       "\n",
       "    .dataframe thead th {\n",
       "        text-align: right;\n",
       "    }\n",
       "</style>\n",
       "<table border=\"1\" class=\"dataframe\">\n",
       "  <thead>\n",
       "    <tr style=\"text-align: right;\">\n",
       "      <th></th>\n",
       "      <th>user_id</th>\n",
       "      <th>track_id</th>\n",
       "      <th>event_nm</th>\n",
       "      <th>action_nm</th>\n",
       "      <th>playevent_play_duration</th>\n",
       "      <th>proc_dt</th>\n",
       "    </tr>\n",
       "  </thead>\n",
       "  <tbody>\n",
       "    <tr>\n",
       "      <th>134240</th>\n",
       "      <td>b2915447835a49d228f59558ef5747f9</td>\n",
       "      <td>62845175</td>\n",
       "      <td>playevent</td>\n",
       "      <td>NaN</td>\n",
       "      <td>209</td>\n",
       "      <td>2022-05-03</td>\n",
       "    </tr>\n",
       "    <tr>\n",
       "      <th>73373</th>\n",
       "      <td>04cc3494d5371fba027b9e7866c2e269</td>\n",
       "      <td>116848845</td>\n",
       "      <td>playevent</td>\n",
       "      <td>NaN</td>\n",
       "      <td>3</td>\n",
       "      <td>2022-05-02</td>\n",
       "    </tr>\n",
       "    <tr>\n",
       "      <th>29680</th>\n",
       "      <td>c6c35633e66b7b8731adcf751317e11b</td>\n",
       "      <td>60332069</td>\n",
       "      <td>playevent</td>\n",
       "      <td>NaN</td>\n",
       "      <td>17</td>\n",
       "      <td>2022-05-04</td>\n",
       "    </tr>\n",
       "    <tr>\n",
       "      <th>925696</th>\n",
       "      <td>d3004b7054c90ff574d8acb80b479a14</td>\n",
       "      <td>108506423</td>\n",
       "      <td>playevent</td>\n",
       "      <td>NaN</td>\n",
       "      <td>8</td>\n",
       "      <td>2022-05-01</td>\n",
       "    </tr>\n",
       "    <tr>\n",
       "      <th>728742</th>\n",
       "      <td>112c633b1cd81f4d628f17d8abb7f0b7</td>\n",
       "      <td>88836238</td>\n",
       "      <td>playevent</td>\n",
       "      <td>NaN</td>\n",
       "      <td>126</td>\n",
       "      <td>2022-04-29</td>\n",
       "    </tr>\n",
       "  </tbody>\n",
       "</table>\n",
       "</div>"
      ],
      "text/plain": [
       "                                 user_id   track_id   event_nm action_nm  \\\n",
       "134240  b2915447835a49d228f59558ef5747f9   62845175  playevent       NaN   \n",
       "73373   04cc3494d5371fba027b9e7866c2e269  116848845  playevent       NaN   \n",
       "29680   c6c35633e66b7b8731adcf751317e11b   60332069  playevent       NaN   \n",
       "925696  d3004b7054c90ff574d8acb80b479a14  108506423  playevent       NaN   \n",
       "728742  112c633b1cd81f4d628f17d8abb7f0b7   88836238  playevent       NaN   \n",
       "\n",
       "        playevent_play_duration     proc_dt  \n",
       "134240                      209  2022-05-03  \n",
       "73373                         3  2022-05-02  \n",
       "29680                        17  2022-05-04  \n",
       "925696                        8  2022-05-01  \n",
       "728742                      126  2022-04-29  "
      ]
     },
     "execution_count": 12,
     "metadata": {},
     "output_type": "execute_result"
    }
   ],
   "source": [
    "clickstream.sample(5)"
   ]
  },
  {
   "cell_type": "code",
   "execution_count": 13,
   "id": "a451e35e-0f25-44bf-a112-3ceb6dc4adda",
   "metadata": {},
   "outputs": [],
   "source": [
    "clickstream.rename(columns={'playevent_play_duration': 'dur_sec', 'proc_dt': 'event_dt'}, inplace=True)"
   ]
  },
  {
   "cell_type": "code",
   "execution_count": 15,
   "id": "aa2228bb-c3d3-40d6-bbce-b8a2c522ce8f",
   "metadata": {},
   "outputs": [
    {
     "data": {
      "text/plain": [
       "count    1000000.000000\n",
       "mean         100.188872\n",
       "std          103.286989\n",
       "min           -1.000000\n",
       "25%            3.000000\n",
       "50%           71.000000\n",
       "75%          187.000000\n",
       "max         7365.000000\n",
       "Name: dur_sec, dtype: float64"
      ]
     },
     "execution_count": 15,
     "metadata": {},
     "output_type": "execute_result"
    }
   ],
   "source": [
    "clickstream.dur_sec.describe()"
   ]
  },
  {
   "cell_type": "code",
   "execution_count": 20,
   "id": "53c1bb3f-8cd9-4111-a706-a680111b7ebb",
   "metadata": {},
   "outputs": [
    {
     "data": {
      "text/plain": [
       "array(['playevent', 'content_action_event'], dtype=object)"
      ]
     },
     "execution_count": 20,
     "metadata": {},
     "output_type": "execute_result"
    }
   ],
   "source": [
    "clickstream['event_nm'].unique()"
   ]
  },
  {
   "cell_type": "markdown",
   "id": "edcaba12-b7ba-4c6e-ae13-66177ddd2518",
   "metadata": {},
   "source": [
    "### user-track-score\n",
    "\n",
    "Defines user-to-track scores"
   ]
  },
  {
   "cell_type": "code",
   "execution_count": 17,
   "id": "30a15317-1193-457d-bcec-84043da67777",
   "metadata": {},
   "outputs": [
    {
     "data": {
      "text/plain": [
       "(1000000, 3)"
      ]
     },
     "execution_count": 17,
     "metadata": {},
     "output_type": "execute_result"
    }
   ],
   "source": [
    "user_track_score = pd.read_csv(data_path.joinpath('user-track-score.csv'), nrows=1_000_000)\n",
    "user_track_score.shape"
   ]
  },
  {
   "cell_type": "code",
   "execution_count": 27,
   "id": "d7468df1-8996-41ce-a042-7f70008eb44e",
   "metadata": {},
   "outputs": [
    {
     "data": {
      "text/plain": [
       "Index(['user_id', 'track_id', 'score'], dtype='object')"
      ]
     },
     "execution_count": 27,
     "metadata": {},
     "output_type": "execute_result"
    }
   ],
   "source": [
    "user_track_score.columns"
   ]
  },
  {
   "cell_type": "code",
   "execution_count": 18,
   "id": "6c0cc6fc-0d66-451b-bb76-42331a33796c",
   "metadata": {},
   "outputs": [
    {
     "data": {
      "text/html": [
       "<div>\n",
       "<style scoped>\n",
       "    .dataframe tbody tr th:only-of-type {\n",
       "        vertical-align: middle;\n",
       "    }\n",
       "\n",
       "    .dataframe tbody tr th {\n",
       "        vertical-align: top;\n",
       "    }\n",
       "\n",
       "    .dataframe thead th {\n",
       "        text-align: right;\n",
       "    }\n",
       "</style>\n",
       "<table border=\"1\" class=\"dataframe\">\n",
       "  <thead>\n",
       "    <tr style=\"text-align: right;\">\n",
       "      <th></th>\n",
       "      <th>user_id</th>\n",
       "      <th>track_id</th>\n",
       "      <th>score</th>\n",
       "    </tr>\n",
       "  </thead>\n",
       "  <tbody>\n",
       "    <tr>\n",
       "      <th>649559</th>\n",
       "      <td>d507dfe5e9cff144bf03b50ae4fa86d1</td>\n",
       "      <td>66902640</td>\n",
       "      <td>0.103570</td>\n",
       "    </tr>\n",
       "    <tr>\n",
       "      <th>542274</th>\n",
       "      <td>cf701af6bab247f9f5698adc81e9827e</td>\n",
       "      <td>54460671</td>\n",
       "      <td>0.060316</td>\n",
       "    </tr>\n",
       "    <tr>\n",
       "      <th>513698</th>\n",
       "      <td>dff8ec266fd40af995b3cb77e0114d10</td>\n",
       "      <td>33953267</td>\n",
       "      <td>0.141988</td>\n",
       "    </tr>\n",
       "    <tr>\n",
       "      <th>122364</th>\n",
       "      <td>47fe373732d6b689f3c8922d37496519</td>\n",
       "      <td>78181826</td>\n",
       "      <td>-0.016377</td>\n",
       "    </tr>\n",
       "    <tr>\n",
       "      <th>622782</th>\n",
       "      <td>c16739cd73d7aab8315c52a4099cef4e</td>\n",
       "      <td>91200837</td>\n",
       "      <td>0.509125</td>\n",
       "    </tr>\n",
       "  </tbody>\n",
       "</table>\n",
       "</div>"
      ],
      "text/plain": [
       "                                 user_id  track_id     score\n",
       "649559  d507dfe5e9cff144bf03b50ae4fa86d1  66902640  0.103570\n",
       "542274  cf701af6bab247f9f5698adc81e9827e  54460671  0.060316\n",
       "513698  dff8ec266fd40af995b3cb77e0114d10  33953267  0.141988\n",
       "122364  47fe373732d6b689f3c8922d37496519  78181826 -0.016377\n",
       "622782  c16739cd73d7aab8315c52a4099cef4e  91200837  0.509125"
      ]
     },
     "execution_count": 18,
     "metadata": {},
     "output_type": "execute_result"
    }
   ],
   "source": [
    "user_track_score.sample(5)"
   ]
  },
  {
   "cell_type": "code",
   "execution_count": 21,
   "id": "d7520a0f-b047-4d40-9de8-df150b1d2e98",
   "metadata": {},
   "outputs": [
    {
     "data": {
      "text/plain": [
       "count    1000000.000000\n",
       "mean           0.305944\n",
       "std            0.241200\n",
       "min           -0.371067\n",
       "25%            0.116889\n",
       "50%            0.254101\n",
       "75%            0.447083\n",
       "max            1.524466\n",
       "Name: score, dtype: float64"
      ]
     },
     "execution_count": 21,
     "metadata": {},
     "output_type": "execute_result"
    }
   ],
   "source": [
    "user_track_score.score.describe()"
   ]
  },
  {
   "cell_type": "markdown",
   "id": "2ce5db4f-2512-4806-b658-68bcd51d7ce2",
   "metadata": {},
   "source": [
    "### track-content-embedding\n",
    "\n",
    "Defines embeddings for tracks"
   ]
  },
  {
   "cell_type": "code",
   "execution_count": 30,
   "id": "12a5b221-8ad2-414b-9fcf-554a13758c14",
   "metadata": {},
   "outputs": [
    {
     "data": {
      "text/plain": [
       "(929571, 179)"
      ]
     },
     "execution_count": 30,
     "metadata": {},
     "output_type": "execute_result"
    }
   ],
   "source": [
    "track_content_embedding = pd.read_csv(data_path.joinpath('track-content-embedding.csv'), delimiter='|') #, nrows=1_000_000)\n",
    "track_content_embedding.shape"
   ]
  },
  {
   "cell_type": "code",
   "execution_count": 33,
   "id": "e8fa23b7-3c5d-415f-bab3-cd4ba12a6346",
   "metadata": {},
   "outputs": [
    {
     "data": {
      "text/plain": [
       "Index(['track_id', 'rock', 'pop', 'alternative', 'indie', 'electronic',\n",
       "       'female vocalists', 'dance', '00s', 'alternative rock',\n",
       "       ...\n",
       "       'vggish_119', 'vggish_120', 'vggish_121', 'vggish_122', 'vggish_123',\n",
       "       'vggish_124', 'vggish_125', 'vggish_126', 'vggish_127', 'vggish_128'],\n",
       "      dtype='object', length=179)"
      ]
     },
     "execution_count": 33,
     "metadata": {},
     "output_type": "execute_result"
    }
   ],
   "source": [
    "track_content_embedding.columns"
   ]
  },
  {
   "cell_type": "code",
   "execution_count": 34,
   "id": "cc9b3e25-e9ef-4957-b851-c0b1a6fa1012",
   "metadata": {},
   "outputs": [
    {
     "data": {
      "text/html": [
       "<div>\n",
       "<style scoped>\n",
       "    .dataframe tbody tr th:only-of-type {\n",
       "        vertical-align: middle;\n",
       "    }\n",
       "\n",
       "    .dataframe tbody tr th {\n",
       "        vertical-align: top;\n",
       "    }\n",
       "\n",
       "    .dataframe thead th {\n",
       "        text-align: right;\n",
       "    }\n",
       "</style>\n",
       "<table border=\"1\" class=\"dataframe\">\n",
       "  <thead>\n",
       "    <tr style=\"text-align: right;\">\n",
       "      <th></th>\n",
       "      <th>track_id</th>\n",
       "      <th>rock</th>\n",
       "      <th>pop</th>\n",
       "      <th>alternative</th>\n",
       "      <th>indie</th>\n",
       "      <th>electronic</th>\n",
       "      <th>female vocalists</th>\n",
       "      <th>dance</th>\n",
       "      <th>00s</th>\n",
       "      <th>alternative rock</th>\n",
       "      <th>...</th>\n",
       "      <th>vggish_119</th>\n",
       "      <th>vggish_120</th>\n",
       "      <th>vggish_121</th>\n",
       "      <th>vggish_122</th>\n",
       "      <th>vggish_123</th>\n",
       "      <th>vggish_124</th>\n",
       "      <th>vggish_125</th>\n",
       "      <th>vggish_126</th>\n",
       "      <th>vggish_127</th>\n",
       "      <th>vggish_128</th>\n",
       "    </tr>\n",
       "  </thead>\n",
       "  <tbody>\n",
       "    <tr>\n",
       "      <th>536969</th>\n",
       "      <td>66005393</td>\n",
       "      <td>0.071554</td>\n",
       "      <td>0.306421</td>\n",
       "      <td>0.048542</td>\n",
       "      <td>0.054100</td>\n",
       "      <td>0.062061</td>\n",
       "      <td>0.325613</td>\n",
       "      <td>0.040742</td>\n",
       "      <td>0.021728</td>\n",
       "      <td>0.011157</td>\n",
       "      <td>...</td>\n",
       "      <td>0.543726</td>\n",
       "      <td>-0.208680</td>\n",
       "      <td>-0.185012</td>\n",
       "      <td>-0.134909</td>\n",
       "      <td>-0.438505</td>\n",
       "      <td>0.124369</td>\n",
       "      <td>0.138185</td>\n",
       "      <td>-0.637147</td>\n",
       "      <td>-0.017909</td>\n",
       "      <td>-0.003953</td>\n",
       "    </tr>\n",
       "    <tr>\n",
       "      <th>378883</th>\n",
       "      <td>45460100</td>\n",
       "      <td>0.036997</td>\n",
       "      <td>0.086162</td>\n",
       "      <td>0.024377</td>\n",
       "      <td>0.037385</td>\n",
       "      <td>0.426340</td>\n",
       "      <td>0.043818</td>\n",
       "      <td>0.300892</td>\n",
       "      <td>0.014645</td>\n",
       "      <td>0.006188</td>\n",
       "      <td>...</td>\n",
       "      <td>-0.018932</td>\n",
       "      <td>-0.024307</td>\n",
       "      <td>-0.110146</td>\n",
       "      <td>-0.035656</td>\n",
       "      <td>-0.343013</td>\n",
       "      <td>-0.059930</td>\n",
       "      <td>-0.018535</td>\n",
       "      <td>-0.596535</td>\n",
       "      <td>0.199394</td>\n",
       "      <td>-0.041864</td>\n",
       "    </tr>\n",
       "    <tr>\n",
       "      <th>167590</th>\n",
       "      <td>40281676</td>\n",
       "      <td>0.047446</td>\n",
       "      <td>0.318348</td>\n",
       "      <td>0.037440</td>\n",
       "      <td>0.046209</td>\n",
       "      <td>0.241585</td>\n",
       "      <td>0.165512</td>\n",
       "      <td>0.303018</td>\n",
       "      <td>0.021383</td>\n",
       "      <td>0.007285</td>\n",
       "      <td>...</td>\n",
       "      <td>0.365033</td>\n",
       "      <td>-0.148051</td>\n",
       "      <td>-0.103554</td>\n",
       "      <td>0.055882</td>\n",
       "      <td>-0.386947</td>\n",
       "      <td>0.043183</td>\n",
       "      <td>-0.092979</td>\n",
       "      <td>-0.699584</td>\n",
       "      <td>0.015895</td>\n",
       "      <td>-0.034829</td>\n",
       "    </tr>\n",
       "    <tr>\n",
       "      <th>536080</th>\n",
       "      <td>22485165</td>\n",
       "      <td>0.046817</td>\n",
       "      <td>0.218019</td>\n",
       "      <td>0.019299</td>\n",
       "      <td>0.020978</td>\n",
       "      <td>0.217206</td>\n",
       "      <td>0.088055</td>\n",
       "      <td>0.480829</td>\n",
       "      <td>0.011503</td>\n",
       "      <td>0.005262</td>\n",
       "      <td>...</td>\n",
       "      <td>0.111647</td>\n",
       "      <td>0.004004</td>\n",
       "      <td>-0.062023</td>\n",
       "      <td>0.046582</td>\n",
       "      <td>-0.394918</td>\n",
       "      <td>-0.043548</td>\n",
       "      <td>-0.041702</td>\n",
       "      <td>-0.630187</td>\n",
       "      <td>0.071891</td>\n",
       "      <td>-0.052904</td>\n",
       "    </tr>\n",
       "    <tr>\n",
       "      <th>641948</th>\n",
       "      <td>44134329</td>\n",
       "      <td>0.440288</td>\n",
       "      <td>0.061867</td>\n",
       "      <td>0.152635</td>\n",
       "      <td>0.115335</td>\n",
       "      <td>0.020610</td>\n",
       "      <td>0.040031</td>\n",
       "      <td>0.009992</td>\n",
       "      <td>0.025221</td>\n",
       "      <td>0.122237</td>\n",
       "      <td>...</td>\n",
       "      <td>0.589130</td>\n",
       "      <td>-0.188643</td>\n",
       "      <td>-0.302071</td>\n",
       "      <td>-0.186909</td>\n",
       "      <td>-0.365565</td>\n",
       "      <td>0.188420</td>\n",
       "      <td>-0.189164</td>\n",
       "      <td>-0.624328</td>\n",
       "      <td>0.219976</td>\n",
       "      <td>0.321445</td>\n",
       "    </tr>\n",
       "  </tbody>\n",
       "</table>\n",
       "<p>5 rows × 179 columns</p>\n",
       "</div>"
      ],
      "text/plain": [
       "        track_id      rock       pop  alternative     indie  electronic  \\\n",
       "536969  66005393  0.071554  0.306421     0.048542  0.054100    0.062061   \n",
       "378883  45460100  0.036997  0.086162     0.024377  0.037385    0.426340   \n",
       "167590  40281676  0.047446  0.318348     0.037440  0.046209    0.241585   \n",
       "536080  22485165  0.046817  0.218019     0.019299  0.020978    0.217206   \n",
       "641948  44134329  0.440288  0.061867     0.152635  0.115335    0.020610   \n",
       "\n",
       "        female vocalists     dance       00s  alternative rock  ...  \\\n",
       "536969          0.325613  0.040742  0.021728          0.011157  ...   \n",
       "378883          0.043818  0.300892  0.014645          0.006188  ...   \n",
       "167590          0.165512  0.303018  0.021383          0.007285  ...   \n",
       "536080          0.088055  0.480829  0.011503          0.005262  ...   \n",
       "641948          0.040031  0.009992  0.025221          0.122237  ...   \n",
       "\n",
       "        vggish_119  vggish_120  vggish_121  vggish_122  vggish_123  \\\n",
       "536969    0.543726   -0.208680   -0.185012   -0.134909   -0.438505   \n",
       "378883   -0.018932   -0.024307   -0.110146   -0.035656   -0.343013   \n",
       "167590    0.365033   -0.148051   -0.103554    0.055882   -0.386947   \n",
       "536080    0.111647    0.004004   -0.062023    0.046582   -0.394918   \n",
       "641948    0.589130   -0.188643   -0.302071   -0.186909   -0.365565   \n",
       "\n",
       "        vggish_124  vggish_125  vggish_126  vggish_127  vggish_128  \n",
       "536969    0.124369    0.138185   -0.637147   -0.017909   -0.003953  \n",
       "378883   -0.059930   -0.018535   -0.596535    0.199394   -0.041864  \n",
       "167590    0.043183   -0.092979   -0.699584    0.015895   -0.034829  \n",
       "536080   -0.043548   -0.041702   -0.630187    0.071891   -0.052904  \n",
       "641948    0.188420   -0.189164   -0.624328    0.219976    0.321445  \n",
       "\n",
       "[5 rows x 179 columns]"
      ]
     },
     "execution_count": 34,
     "metadata": {},
     "output_type": "execute_result"
    }
   ],
   "source": [
    "track_content_embedding.sample(5)"
   ]
  },
  {
   "cell_type": "markdown",
   "id": "eb11c907-647b-4f69-b10c-6a06ade2ac51",
   "metadata": {},
   "source": [
    "### user-genre-embedding\n",
    "\n",
    "Defines embeddings for users"
   ]
  },
  {
   "cell_type": "code",
   "execution_count": 23,
   "id": "bca704d1-9983-4719-a316-c069dea24988",
   "metadata": {},
   "outputs": [
    {
     "data": {
      "text/plain": [
       "(2662604, 66)"
      ]
     },
     "execution_count": 23,
     "metadata": {},
     "output_type": "execute_result"
    }
   ],
   "source": [
    "user_genre_embedding = pd.read_csv(data_path.joinpath('user-genre-embedding.csv')) #, nrows=1_000_000)\n",
    "user_genre_embedding.shape"
   ]
  },
  {
   "cell_type": "code",
   "execution_count": 36,
   "id": "f7443501-f1c1-4586-96c5-cea69eb13de5",
   "metadata": {},
   "outputs": [
    {
     "data": {
      "text/plain": [
       "Index(['user_id', 'genre_1_cnt', 'genre_2_cnt', 'genre_3_cnt', 'genre_4_cnt',\n",
       "       'genre_5_cnt', 'genre_6_cnt', 'genre_7_cnt', 'genre_8_cnt',\n",
       "       'genre_9_cnt', 'genre_10_cnt', 'genre_11_cnt', 'genre_12_cnt',\n",
       "       'genre_13_cnt', 'genre_14_cnt', 'genre_15_cnt', 'genre_16_cnt',\n",
       "       'genre_17_cnt', 'genre_18_cnt', 'genre_19_cnt', 'genre_20_cnt',\n",
       "       'genre_21_cnt', 'genre_22_cnt', 'genre_23_cnt', 'genre_24_cnt',\n",
       "       'genre_25_cnt', 'genre_26_cnt', 'genre_27_cnt', 'genre_28_cnt',\n",
       "       'genre_29_cnt', 'genre_30_cnt', 'genre_31_cnt', 'genre_32_cnt',\n",
       "       'genre_33_cnt', 'genre_34_cnt', 'genre_35_cnt', 'genre_36_cnt',\n",
       "       'genre_37_cnt', 'genre_38_cnt', 'genre_39_cnt', 'genre_40_cnt',\n",
       "       'genre_41_cnt', 'genre_42_cnt', 'genre_43_cnt', 'genre_44_cnt',\n",
       "       'genre_45_cnt', 'genre_46_cnt', 'genre_47_cnt', 'genre_48_cnt',\n",
       "       'genre_49_cnt', 'genre_50_cnt', 'genre_51_cnt', 'genre_52_cnt',\n",
       "       'genre_53_cnt', 'genre_54_cnt', 'genre_55_cnt', 'genre_56_cnt',\n",
       "       'genre_57_cnt', 'genre_58_cnt', 'genre_59_cnt', 'genre_60_cnt',\n",
       "       'genre_61_cnt', 'genre_62_cnt', 'genre_63_cnt', 'genre_64_cnt',\n",
       "       'genre_65_cnt'],\n",
       "      dtype='object')"
      ]
     },
     "execution_count": 36,
     "metadata": {},
     "output_type": "execute_result"
    }
   ],
   "source": [
    "user_genre_embedding.columns"
   ]
  },
  {
   "cell_type": "code",
   "execution_count": 35,
   "id": "e84bb869-cf60-422d-aed1-24cde5d0923d",
   "metadata": {},
   "outputs": [
    {
     "data": {
      "text/html": [
       "<div>\n",
       "<style scoped>\n",
       "    .dataframe tbody tr th:only-of-type {\n",
       "        vertical-align: middle;\n",
       "    }\n",
       "\n",
       "    .dataframe tbody tr th {\n",
       "        vertical-align: top;\n",
       "    }\n",
       "\n",
       "    .dataframe thead th {\n",
       "        text-align: right;\n",
       "    }\n",
       "</style>\n",
       "<table border=\"1\" class=\"dataframe\">\n",
       "  <thead>\n",
       "    <tr style=\"text-align: right;\">\n",
       "      <th></th>\n",
       "      <th>user_id</th>\n",
       "      <th>genre_1_cnt</th>\n",
       "      <th>genre_2_cnt</th>\n",
       "      <th>genre_3_cnt</th>\n",
       "      <th>genre_4_cnt</th>\n",
       "      <th>genre_5_cnt</th>\n",
       "      <th>genre_6_cnt</th>\n",
       "      <th>genre_7_cnt</th>\n",
       "      <th>genre_8_cnt</th>\n",
       "      <th>genre_9_cnt</th>\n",
       "      <th>...</th>\n",
       "      <th>genre_56_cnt</th>\n",
       "      <th>genre_57_cnt</th>\n",
       "      <th>genre_58_cnt</th>\n",
       "      <th>genre_59_cnt</th>\n",
       "      <th>genre_60_cnt</th>\n",
       "      <th>genre_61_cnt</th>\n",
       "      <th>genre_62_cnt</th>\n",
       "      <th>genre_63_cnt</th>\n",
       "      <th>genre_64_cnt</th>\n",
       "      <th>genre_65_cnt</th>\n",
       "    </tr>\n",
       "  </thead>\n",
       "  <tbody>\n",
       "    <tr>\n",
       "      <th>1269919</th>\n",
       "      <td>6ff52026460cb8de54751f5f38e4832c</td>\n",
       "      <td>0.000000</td>\n",
       "      <td>0.0</td>\n",
       "      <td>0.0</td>\n",
       "      <td>0.0</td>\n",
       "      <td>0.0</td>\n",
       "      <td>0.0</td>\n",
       "      <td>0.0</td>\n",
       "      <td>0.0</td>\n",
       "      <td>0.0</td>\n",
       "      <td>...</td>\n",
       "      <td>0.0</td>\n",
       "      <td>0.0</td>\n",
       "      <td>0.0</td>\n",
       "      <td>0.0</td>\n",
       "      <td>0.0</td>\n",
       "      <td>0.0</td>\n",
       "      <td>0.0</td>\n",
       "      <td>0.0</td>\n",
       "      <td>0.0</td>\n",
       "      <td>0.0</td>\n",
       "    </tr>\n",
       "    <tr>\n",
       "      <th>910296</th>\n",
       "      <td>cd2990c897e43d268bcb8437a9b6beb0</td>\n",
       "      <td>0.000000</td>\n",
       "      <td>0.0</td>\n",
       "      <td>0.0</td>\n",
       "      <td>0.0</td>\n",
       "      <td>0.0</td>\n",
       "      <td>0.0</td>\n",
       "      <td>0.0</td>\n",
       "      <td>0.0</td>\n",
       "      <td>0.0</td>\n",
       "      <td>...</td>\n",
       "      <td>0.0</td>\n",
       "      <td>0.0</td>\n",
       "      <td>0.0</td>\n",
       "      <td>0.0</td>\n",
       "      <td>0.0</td>\n",
       "      <td>0.0</td>\n",
       "      <td>0.0</td>\n",
       "      <td>0.0</td>\n",
       "      <td>0.0</td>\n",
       "      <td>0.0</td>\n",
       "    </tr>\n",
       "    <tr>\n",
       "      <th>1780709</th>\n",
       "      <td>56346f101ab0d7d0e14d0f43e7d66a22</td>\n",
       "      <td>0.000000</td>\n",
       "      <td>0.0</td>\n",
       "      <td>0.0</td>\n",
       "      <td>0.0</td>\n",
       "      <td>0.0</td>\n",
       "      <td>0.0</td>\n",
       "      <td>0.0</td>\n",
       "      <td>0.0</td>\n",
       "      <td>0.0</td>\n",
       "      <td>...</td>\n",
       "      <td>0.0</td>\n",
       "      <td>0.0</td>\n",
       "      <td>0.0</td>\n",
       "      <td>0.0</td>\n",
       "      <td>0.0</td>\n",
       "      <td>0.0</td>\n",
       "      <td>0.0</td>\n",
       "      <td>0.0</td>\n",
       "      <td>0.0</td>\n",
       "      <td>0.0</td>\n",
       "    </tr>\n",
       "    <tr>\n",
       "      <th>727129</th>\n",
       "      <td>0b91f9b2981d01c5631a6be05788e3cd</td>\n",
       "      <td>0.000000</td>\n",
       "      <td>0.0</td>\n",
       "      <td>0.0</td>\n",
       "      <td>0.0</td>\n",
       "      <td>0.0</td>\n",
       "      <td>0.0</td>\n",
       "      <td>0.0</td>\n",
       "      <td>0.0</td>\n",
       "      <td>0.0</td>\n",
       "      <td>...</td>\n",
       "      <td>0.0</td>\n",
       "      <td>0.0</td>\n",
       "      <td>0.0</td>\n",
       "      <td>0.0</td>\n",
       "      <td>0.0</td>\n",
       "      <td>0.0</td>\n",
       "      <td>0.0</td>\n",
       "      <td>0.0</td>\n",
       "      <td>0.0</td>\n",
       "      <td>0.0</td>\n",
       "    </tr>\n",
       "    <tr>\n",
       "      <th>718565</th>\n",
       "      <td>20ce2166300bc09ef9e2646f858a291f</td>\n",
       "      <td>0.083333</td>\n",
       "      <td>0.0</td>\n",
       "      <td>0.0</td>\n",
       "      <td>0.0</td>\n",
       "      <td>0.0</td>\n",
       "      <td>0.0</td>\n",
       "      <td>0.0</td>\n",
       "      <td>0.0</td>\n",
       "      <td>0.0</td>\n",
       "      <td>...</td>\n",
       "      <td>0.0</td>\n",
       "      <td>0.0</td>\n",
       "      <td>0.0</td>\n",
       "      <td>0.0</td>\n",
       "      <td>0.0</td>\n",
       "      <td>0.0</td>\n",
       "      <td>0.0</td>\n",
       "      <td>0.0</td>\n",
       "      <td>0.0</td>\n",
       "      <td>0.0</td>\n",
       "    </tr>\n",
       "  </tbody>\n",
       "</table>\n",
       "<p>5 rows × 66 columns</p>\n",
       "</div>"
      ],
      "text/plain": [
       "                                  user_id  genre_1_cnt  genre_2_cnt  \\\n",
       "1269919  6ff52026460cb8de54751f5f38e4832c     0.000000          0.0   \n",
       "910296   cd2990c897e43d268bcb8437a9b6beb0     0.000000          0.0   \n",
       "1780709  56346f101ab0d7d0e14d0f43e7d66a22     0.000000          0.0   \n",
       "727129   0b91f9b2981d01c5631a6be05788e3cd     0.000000          0.0   \n",
       "718565   20ce2166300bc09ef9e2646f858a291f     0.083333          0.0   \n",
       "\n",
       "         genre_3_cnt  genre_4_cnt  genre_5_cnt  genre_6_cnt  genre_7_cnt  \\\n",
       "1269919          0.0          0.0          0.0          0.0          0.0   \n",
       "910296           0.0          0.0          0.0          0.0          0.0   \n",
       "1780709          0.0          0.0          0.0          0.0          0.0   \n",
       "727129           0.0          0.0          0.0          0.0          0.0   \n",
       "718565           0.0          0.0          0.0          0.0          0.0   \n",
       "\n",
       "         genre_8_cnt  genre_9_cnt  ...  genre_56_cnt  genre_57_cnt  \\\n",
       "1269919          0.0          0.0  ...           0.0           0.0   \n",
       "910296           0.0          0.0  ...           0.0           0.0   \n",
       "1780709          0.0          0.0  ...           0.0           0.0   \n",
       "727129           0.0          0.0  ...           0.0           0.0   \n",
       "718565           0.0          0.0  ...           0.0           0.0   \n",
       "\n",
       "         genre_58_cnt  genre_59_cnt  genre_60_cnt  genre_61_cnt  genre_62_cnt  \\\n",
       "1269919           0.0           0.0           0.0           0.0           0.0   \n",
       "910296            0.0           0.0           0.0           0.0           0.0   \n",
       "1780709           0.0           0.0           0.0           0.0           0.0   \n",
       "727129            0.0           0.0           0.0           0.0           0.0   \n",
       "718565            0.0           0.0           0.0           0.0           0.0   \n",
       "\n",
       "         genre_63_cnt  genre_64_cnt  genre_65_cnt  \n",
       "1269919           0.0           0.0           0.0  \n",
       "910296            0.0           0.0           0.0  \n",
       "1780709           0.0           0.0           0.0  \n",
       "727129            0.0           0.0           0.0  \n",
       "718565            0.0           0.0           0.0  \n",
       "\n",
       "[5 rows x 66 columns]"
      ]
     },
     "execution_count": 35,
     "metadata": {},
     "output_type": "execute_result"
    }
   ],
   "source": [
    "user_genre_embedding.sample(5)"
   ]
  },
  {
   "cell_type": "code",
   "execution_count": 41,
   "id": "9fdc585b-772d-457e-ac19-21f8f4c23251",
   "metadata": {},
   "outputs": [
    {
     "data": {
      "text/plain": [
       "(1000000, 7)"
      ]
     },
     "execution_count": 41,
     "metadata": {},
     "output_type": "execute_result"
    }
   ],
   "source": [
    "ailab = pd.read_csv(data_path.joinpath('ailab.csv'), nrows=1_000_000)\n",
    "ailab.shape"
   ]
  },
  {
   "cell_type": "code",
   "execution_count": 43,
   "id": "2e95d296-c269-4234-b42c-9ac65a930a7d",
   "metadata": {},
   "outputs": [
    {
     "data": {
      "text/plain": [
       "Index(['user_id', 'packet_date', 'session_id', 'track_id', 'src_id',\n",
       "       'event_name', 'playevent_play_duration'],\n",
       "      dtype='object')"
      ]
     },
     "execution_count": 43,
     "metadata": {},
     "output_type": "execute_result"
    }
   ],
   "source": [
    "ailab.columns"
   ]
  },
  {
   "cell_type": "code",
   "execution_count": 44,
   "id": "cfd8c829-1bc2-4aa3-9429-7cc0f02665ec",
   "metadata": {},
   "outputs": [
    {
     "data": {
      "text/html": [
       "<div>\n",
       "<style scoped>\n",
       "    .dataframe tbody tr th:only-of-type {\n",
       "        vertical-align: middle;\n",
       "    }\n",
       "\n",
       "    .dataframe tbody tr th {\n",
       "        vertical-align: top;\n",
       "    }\n",
       "\n",
       "    .dataframe thead th {\n",
       "        text-align: right;\n",
       "    }\n",
       "</style>\n",
       "<table border=\"1\" class=\"dataframe\">\n",
       "  <thead>\n",
       "    <tr style=\"text-align: right;\">\n",
       "      <th></th>\n",
       "      <th>user_id</th>\n",
       "      <th>packet_date</th>\n",
       "      <th>session_id</th>\n",
       "      <th>track_id</th>\n",
       "      <th>src_id</th>\n",
       "      <th>event_name</th>\n",
       "      <th>playevent_play_duration</th>\n",
       "    </tr>\n",
       "  </thead>\n",
       "  <tbody>\n",
       "    <tr>\n",
       "      <th>280019</th>\n",
       "      <td>219F86D05C76364E1B212E85F66A4F0C</td>\n",
       "      <td>2022-04-12 14:38:35</td>\n",
       "      <td>2109757323</td>\n",
       "      <td>73253778</td>\n",
       "      <td>73253778</td>\n",
       "      <td>playevent</td>\n",
       "      <td>205</td>\n",
       "    </tr>\n",
       "    <tr>\n",
       "      <th>982791</th>\n",
       "      <td>C071C458AD9CB8B4235C031E77281A62</td>\n",
       "      <td>2022-04-17 22:34:56</td>\n",
       "      <td>-253572135</td>\n",
       "      <td>119584455</td>\n",
       "      <td>6498967</td>\n",
       "      <td>playevent</td>\n",
       "      <td>0</td>\n",
       "    </tr>\n",
       "    <tr>\n",
       "      <th>598716</th>\n",
       "      <td>AF3A7A766BFDECC636E6545D424421E8</td>\n",
       "      <td>2022-04-20 00:17:42</td>\n",
       "      <td>736824604</td>\n",
       "      <td>73226141</td>\n",
       "      <td>1062105</td>\n",
       "      <td>playevent</td>\n",
       "      <td>191</td>\n",
       "    </tr>\n",
       "    <tr>\n",
       "      <th>28432</th>\n",
       "      <td>5B91A90D5C2BFD6029159F2276A524C7</td>\n",
       "      <td>2022-04-26 22:07:23</td>\n",
       "      <td>-1581502475</td>\n",
       "      <td>114283196</td>\n",
       "      <td>1062105</td>\n",
       "      <td>playevent</td>\n",
       "      <td>1</td>\n",
       "    </tr>\n",
       "    <tr>\n",
       "      <th>992106</th>\n",
       "      <td>BA21D52CF37A902024E12782C4A87406</td>\n",
       "      <td>2022-04-27 06:03:33</td>\n",
       "      <td>-2058555095</td>\n",
       "      <td>87962394</td>\n",
       "      <td>6936835</td>\n",
       "      <td>playevent</td>\n",
       "      <td>190</td>\n",
       "    </tr>\n",
       "  </tbody>\n",
       "</table>\n",
       "</div>"
      ],
      "text/plain": [
       "                                 user_id          packet_date  session_id  \\\n",
       "280019  219F86D05C76364E1B212E85F66A4F0C  2022-04-12 14:38:35  2109757323   \n",
       "982791  C071C458AD9CB8B4235C031E77281A62  2022-04-17 22:34:56  -253572135   \n",
       "598716  AF3A7A766BFDECC636E6545D424421E8  2022-04-20 00:17:42   736824604   \n",
       "28432   5B91A90D5C2BFD6029159F2276A524C7  2022-04-26 22:07:23 -1581502475   \n",
       "992106  BA21D52CF37A902024E12782C4A87406  2022-04-27 06:03:33 -2058555095   \n",
       "\n",
       "         track_id    src_id event_name  playevent_play_duration  \n",
       "280019   73253778  73253778  playevent                      205  \n",
       "982791  119584455   6498967  playevent                        0  \n",
       "598716   73226141   1062105  playevent                      191  \n",
       "28432   114283196   1062105  playevent                        1  \n",
       "992106   87962394   6936835  playevent                      190  "
      ]
     },
     "execution_count": 44,
     "metadata": {},
     "output_type": "execute_result"
    }
   ],
   "source": [
    "ailab.sample(5)"
   ]
  }
 ],
 "metadata": {
  "kernelspec": {
   "display_name": "Python 3 (ipykernel)",
   "language": "python",
   "name": "python3"
  },
  "language_info": {
   "codemirror_mode": {
    "name": "ipython",
    "version": 3
   },
   "file_extension": ".py",
   "mimetype": "text/x-python",
   "name": "python",
   "nbconvert_exporter": "python",
   "pygments_lexer": "ipython3",
   "version": "3.9.13"
  }
 },
 "nbformat": 4,
 "nbformat_minor": 5
}
