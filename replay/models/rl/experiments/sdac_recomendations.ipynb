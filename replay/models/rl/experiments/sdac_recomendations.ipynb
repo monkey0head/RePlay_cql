{
 "cells": [
  {
   "cell_type": "code",
   "execution_count": 1,
   "id": "5e51a1fb",
   "metadata": {},
   "outputs": [
    {
     "data": {
      "text/html": [
       "<style type='text/css'>\n",
       ".datatable table.frame { margin-bottom: 0; }\n",
       ".datatable table.frame thead { border-bottom: none; }\n",
       ".datatable table.frame tr.coltypes td {  color: #FFFFFF;  line-height: 6px;  padding: 0 0.5em;}\n",
       ".datatable .bool    { background: #DDDD99; }\n",
       ".datatable .object  { background: #565656; }\n",
       ".datatable .int     { background: #5D9E5D; }\n",
       ".datatable .float   { background: #4040CC; }\n",
       ".datatable .str     { background: #CC4040; }\n",
       ".datatable .time    { background: #40CC40; }\n",
       ".datatable .row_index {  background: var(--jp-border-color3);  border-right: 1px solid var(--jp-border-color0);  color: var(--jp-ui-font-color3);  font-size: 9px;}\n",
       ".datatable .frame tbody td { text-align: left; }\n",
       ".datatable .frame tr.coltypes .row_index {  background: var(--jp-border-color0);}\n",
       ".datatable th:nth-child(2) { padding-left: 12px; }\n",
       ".datatable .hellipsis {  color: var(--jp-cell-editor-border-color);}\n",
       ".datatable .vellipsis {  background: var(--jp-layout-color0);  color: var(--jp-cell-editor-border-color);}\n",
       ".datatable .na {  color: var(--jp-cell-editor-border-color);  font-size: 80%;}\n",
       ".datatable .sp {  opacity: 0.25;}\n",
       ".datatable .footer { font-size: 9px; }\n",
       ".datatable .frame_dimensions {  background: var(--jp-border-color3);  border-top: 1px solid var(--jp-border-color0);  color: var(--jp-ui-font-color3);  display: inline-block;  opacity: 0.6;  padding: 1px 10px 1px 5px;}\n",
       "</style>\n"
      ],
      "text/plain": [
       "<IPython.core.display.HTML object>"
      ]
     },
     "metadata": {},
     "output_type": "display_data"
    }
   ],
   "source": [
    "from rs_datasets import MovieLens\n",
    "from d3rlpy.base import LearnableBase\n",
    "from d3rlpy.dataset import MDPDataset\n",
    "from d3rlpy.models.optimizers import OptimizerFactory, AdamFactory\n",
    "from pyspark.sql import functions as sf, DataFrame\n",
    "import numpy as np\n",
    "from typing import Optional, Callable\n"
   ]
  },
  {
   "cell_type": "code",
   "execution_count": 2,
   "id": "34037e80",
   "metadata": {},
   "outputs": [],
   "source": [
    "ds = MovieLens(version=\"1m\")"
   ]
  },
  {
   "cell_type": "code",
   "execution_count": 3,
   "id": "9d619bd4",
   "metadata": {},
   "outputs": [
    {
     "data": {
      "text/html": [
       "<div>\n",
       "<style scoped>\n",
       "    .dataframe tbody tr th:only-of-type {\n",
       "        vertical-align: middle;\n",
       "    }\n",
       "\n",
       "    .dataframe tbody tr th {\n",
       "        vertical-align: top;\n",
       "    }\n",
       "\n",
       "    .dataframe thead th {\n",
       "        text-align: right;\n",
       "    }\n",
       "</style>\n",
       "<table border=\"1\" class=\"dataframe\">\n",
       "  <thead>\n",
       "    <tr style=\"text-align: right;\">\n",
       "      <th></th>\n",
       "      <th>user_id</th>\n",
       "      <th>item_id</th>\n",
       "      <th>rating</th>\n",
       "      <th>timestamp</th>\n",
       "    </tr>\n",
       "  </thead>\n",
       "  <tbody>\n",
       "    <tr>\n",
       "      <th>0</th>\n",
       "      <td>1</td>\n",
       "      <td>1193</td>\n",
       "      <td>5</td>\n",
       "      <td>978300760</td>\n",
       "    </tr>\n",
       "    <tr>\n",
       "      <th>1</th>\n",
       "      <td>1</td>\n",
       "      <td>661</td>\n",
       "      <td>3</td>\n",
       "      <td>978302109</td>\n",
       "    </tr>\n",
       "    <tr>\n",
       "      <th>2</th>\n",
       "      <td>1</td>\n",
       "      <td>914</td>\n",
       "      <td>3</td>\n",
       "      <td>978301968</td>\n",
       "    </tr>\n",
       "    <tr>\n",
       "      <th>3</th>\n",
       "      <td>1</td>\n",
       "      <td>3408</td>\n",
       "      <td>4</td>\n",
       "      <td>978300275</td>\n",
       "    </tr>\n",
       "    <tr>\n",
       "      <th>4</th>\n",
       "      <td>1</td>\n",
       "      <td>2355</td>\n",
       "      <td>5</td>\n",
       "      <td>978824291</td>\n",
       "    </tr>\n",
       "    <tr>\n",
       "      <th>...</th>\n",
       "      <td>...</td>\n",
       "      <td>...</td>\n",
       "      <td>...</td>\n",
       "      <td>...</td>\n",
       "    </tr>\n",
       "    <tr>\n",
       "      <th>1000204</th>\n",
       "      <td>6040</td>\n",
       "      <td>1091</td>\n",
       "      <td>1</td>\n",
       "      <td>956716541</td>\n",
       "    </tr>\n",
       "    <tr>\n",
       "      <th>1000205</th>\n",
       "      <td>6040</td>\n",
       "      <td>1094</td>\n",
       "      <td>5</td>\n",
       "      <td>956704887</td>\n",
       "    </tr>\n",
       "    <tr>\n",
       "      <th>1000206</th>\n",
       "      <td>6040</td>\n",
       "      <td>562</td>\n",
       "      <td>5</td>\n",
       "      <td>956704746</td>\n",
       "    </tr>\n",
       "    <tr>\n",
       "      <th>1000207</th>\n",
       "      <td>6040</td>\n",
       "      <td>1096</td>\n",
       "      <td>4</td>\n",
       "      <td>956715648</td>\n",
       "    </tr>\n",
       "    <tr>\n",
       "      <th>1000208</th>\n",
       "      <td>6040</td>\n",
       "      <td>1097</td>\n",
       "      <td>4</td>\n",
       "      <td>956715569</td>\n",
       "    </tr>\n",
       "  </tbody>\n",
       "</table>\n",
       "<p>1000209 rows × 4 columns</p>\n",
       "</div>"
      ],
      "text/plain": [
       "         user_id  item_id  rating  timestamp\n",
       "0              1     1193       5  978300760\n",
       "1              1      661       3  978302109\n",
       "2              1      914       3  978301968\n",
       "3              1     3408       4  978300275\n",
       "4              1     2355       5  978824291\n",
       "...          ...      ...     ...        ...\n",
       "1000204     6040     1091       1  956716541\n",
       "1000205     6040     1094       5  956704887\n",
       "1000206     6040      562       5  956704746\n",
       "1000207     6040     1096       4  956715648\n",
       "1000208     6040     1097       4  956715569\n",
       "\n",
       "[1000209 rows x 4 columns]"
      ]
     },
     "execution_count": 3,
     "metadata": {},
     "output_type": "execute_result"
    }
   ],
   "source": [
    "ds.ratings"
   ]
  },
  {
   "cell_type": "markdown",
   "id": "d09863d3",
   "metadata": {},
   "source": [
    "### Data to MDP"
   ]
  },
  {
   "cell_type": "code",
   "execution_count": 4,
   "id": "30d75e7f",
   "metadata": {},
   "outputs": [],
   "source": [
    "def _prepare_data(log: DataFrame) -> MDPDataset:\n",
    "        use_negative_events = True #False\n",
    "        rating_based_reward = False #False\n",
    "        reward_top_k = True\n",
    "        k = 10\n",
    "        \n",
    "        test_size = 0.3\n",
    "        action_randomization_scale = 0.01\n",
    "        raw_rating_to_reward_rescale = {\n",
    "        1.0: -1.0,\n",
    "        2.0: -0.3,\n",
    "        3.0: 0.25,\n",
    "        4.0: 0.7,\n",
    "        5.0: 1.0,\n",
    "    }\n",
    "        binary_rating_to_reward_rescale = {\n",
    "            1.0: -1.0,\n",
    "            2.0: -1.0,\n",
    "            3.0: 1.0,\n",
    "            4.0: 1.0,\n",
    "            5.0: 1.0,\n",
    "        }\n",
    "        if not use_negative_events:\n",
    "            # remove negative events\n",
    "            log = log[log['rating'] >= 3]\n",
    "\n",
    "        # TODO: consider making calculations in Spark before converting to pandas\n",
    "        user_logs = log.sort_values(['user_id', 'timestamp'], ascending=True)\n",
    "\n",
    "        if rating_based_reward:\n",
    "            rescale = raw_rating_to_reward_rescale\n",
    "        else:\n",
    "            rescale = binary_rating_to_reward_rescale\n",
    "        rewards = user_logs['rating'].map(rescale).to_numpy()\n",
    "\n",
    "        if reward_top_k:\n",
    "            # additionally reward top-K watched movies\n",
    "            user_top_k_idxs = (\n",
    "                \n",
    "                user_logs\n",
    "                .sort_values(['rating', 'timestamp'], ascending=[False, True])\n",
    "                .groupby('user_id')\n",
    "                .head(k)\n",
    "                .index\n",
    "            )\n",
    "            # rescale positives and additionally reward top-K watched movies\n",
    "            rewards[rewards > 0] /= 2\n",
    "            rewards[user_top_k_idxs] += 0.5\n",
    "\n",
    "        user_logs['rewards'] = rewards\n",
    "\n",
    "        # every user has his own episode (the latest item is defined as terminal)\n",
    "        user_terminal_idxs = (\n",
    "            user_logs[::-1]\n",
    "            .groupby('user_id')\n",
    "            .head(1)\n",
    "            .index\n",
    "        )\n",
    "        terminals = np.zeros(len(user_logs))\n",
    "        terminals[user_terminal_idxs] = 1\n",
    "        user_logs['terminals'] = terminals\n",
    "\n",
    "        # cannot set zero scale as d3rlpy will treat transitions as discrete :/\n",
    "        \n",
    "        \n",
    "        #разбиение на трейн тест\n",
    "        user_id_list = list(set(user_logs['user_id']))\n",
    "        count_of_test = int(test_size*len(user_id_list))\n",
    "        test_idx = int(user_id_list[-count_of_test])\n",
    "        \n",
    "        user_logs_train = user_logs[user_logs['user_id'].astype(int) < test_idx]\n",
    "        user_logs_test = user_logs[user_logs['user_id'].astype(int) >= test_idx]\n",
    "        \n",
    "        action_randomization_scale = action_randomization_scale + 1e-4\n",
    "        action_randomization = np.random.randn(len(user_logs_train)) * action_randomization_scale\n",
    "\n",
    "        train_dataset = MDPDataset(\n",
    "            observations=np.array(user_logs_train[['user_id', 'item_id']]),\n",
    "            actions=np.array(\n",
    "                user_logs_train['rating']\n",
    "            )[:, None] ,\n",
    "            rewards=user_logs_train['rewards'],\n",
    "            terminals=user_logs_train['terminals']\n",
    "        )\n",
    "      #  print( user_logs_test['rating'])\n",
    "        test_dataset = MDPDataset(\n",
    "            observations=np.array(user_logs_test[['user_id', 'item_id']]),\n",
    "            actions=np.array(\n",
    "                user_logs_test['rating'] \n",
    "            )[:, None],\n",
    "            rewards=user_logs_test['rewards'],\n",
    "            terminals=user_logs_test['terminals']\n",
    "        )\n",
    "        return train_dataset, user_logs_train"
   ]
  },
  {
   "cell_type": "code",
   "execution_count": 5,
   "id": "b2eb0ae2",
   "metadata": {},
   "outputs": [],
   "source": [
    "import pandas as pd\n",
    "\n",
    "def _predict(\n",
    "    model,\n",
    "    log: DataFrame = None,\n",
    "    k: int = 10,\n",
    "    users: DataFrame = None,\n",
    "    items: DataFrame = None,\n",
    "    user_features: Optional[DataFrame] = None,\n",
    "    item_features: Optional[DataFrame] = None,\n",
    "    filter_seen_items: bool = True,\n",
    ") -> DataFrame:\n",
    "    if user_features or item_features:\n",
    "        message = f'RL recommender does not support user/item features'\n",
    "      #  self.logger.debug(message)\n",
    "\n",
    "    users = np.array(users).flatten()\n",
    "    items = np.array(items).flatten()\n",
    "\n",
    "    # TODO: consider size-dependent batch prediction instead of by user\n",
    "    user_predictions = []\n",
    "    for user in users:\n",
    "        user_item_pairs = pd.DataFrame({\n",
    "            'user_idx': np.repeat(user, len(items)),\n",
    "            'item_idx': items\n",
    "        })\n",
    "        user_item_pairs['relevance'] = model.predict(user_item_pairs.to_numpy())\n",
    "        user_predictions.append(user_item_pairs)\n",
    "\n",
    "    prediction = pd.concat(user_predictions)\n",
    "    prediction = prediction.sort_values(['relevance'])[::-1][:k]\n",
    "    # it doesn't explicitly filter seen items and doesn't return top k items\n",
    "    # instead, it keeps all predictions as is to be filtered further by base methods\n",
    "    return prediction\n",
    "\n"
   ]
  },
  {
   "cell_type": "markdown",
   "id": "bdd8d28f",
   "metadata": {},
   "source": [
    "### Metrics"
   ]
  },
  {
   "cell_type": "code",
   "execution_count": 6,
   "id": "7cf0d4fd",
   "metadata": {},
   "outputs": [],
   "source": [
    "import math  \n",
    "def ndcg(k, pred, ground_truth) -> float:\n",
    "        pred_len = min(k, len(pred))\n",
    "        ground_truth_len = min(k, len(ground_truth))\n",
    "        denom = [1 / math.log2(i + 2) for i in range(k)]\n",
    "        dcg = sum(denom[i] for i in range(pred_len) if pred[i] in ground_truth)\n",
    "        idcg = sum(denom[:ground_truth_len])\n",
    "\n",
    "        return dcg / idcg\n",
    "    \n",
    "def mape(k, pred, ground_truth) -> float:\n",
    "        length = min(k, len(pred))\n",
    "        max_good = min(k, len(ground_truth))\n",
    "        if len(ground_truth) == 0 or len(pred) == 0:\n",
    "            return 0\n",
    "        tp_cum = 0\n",
    "        result = 0\n",
    "        for i in range(length):\n",
    "            if pred[i] in ground_truth:\n",
    "                tp_cum += 1\n",
    "                result += tp_cum / ((i + 1) * max_good)\n",
    "        return result"
   ]
  },
  {
   "cell_type": "code",
   "execution_count": 7,
   "id": "e79bbd05",
   "metadata": {},
   "outputs": [],
   "source": [
    "def original_for_user(df, target, k = 10):\n",
    "    mask = df['user_id'] == target\n",
    "    user_relevance = df[mask]\n",
    "    return user_relevance.sort_values(['rating'])[::-1][:k]\n",
    "    \n"
   ]
  },
  {
   "cell_type": "markdown",
   "id": "5ea06cb2",
   "metadata": {},
   "source": [
    "### Fake env for evaluation"
   ]
  },
  {
   "cell_type": "code",
   "execution_count": 8,
   "id": "776d6d0b",
   "metadata": {},
   "outputs": [
    {
     "name": "stderr",
     "output_type": "stream",
     "text": [
      "\u001b[34m\u001b[1mwandb\u001b[0m: Currently logged in as: \u001b[33mbabycar27\u001b[0m. Use \u001b[1m`wandb login --relogin`\u001b[0m to force relogin\n"
     ]
    },
    {
     "data": {
      "text/html": [
       "wandb version 0.13.4 is available!  To upgrade, please run:\n",
       " $ pip install wandb --upgrade"
      ],
      "text/plain": [
       "<IPython.core.display.HTML object>"
      ]
     },
     "metadata": {},
     "output_type": "display_data"
    },
    {
     "data": {
      "text/html": [
       "Tracking run with wandb version 0.12.19"
      ],
      "text/plain": [
       "<IPython.core.display.HTML object>"
      ]
     },
     "metadata": {},
     "output_type": "display_data"
    },
    {
     "data": {
      "text/html": [
       "Run data is saved locally in <code>/home/zoya/Documents/projects/RePlay/experiments/wandb/run-20221024_233812-2ogns05h</code>"
      ],
      "text/plain": [
       "<IPython.core.display.HTML object>"
      ]
     },
     "metadata": {},
     "output_type": "display_data"
    },
    {
     "data": {
      "text/html": [
       "Syncing run <strong><a href=\"https://wandb.ai/babycar27/RecommendationsSDAC/runs/2ogns05h\" target=\"_blank\">revived-violet-25</a></strong> to <a href=\"https://wandb.ai/babycar27/RecommendationsSDAC\" target=\"_blank\">Weights & Biases</a> (<a href=\"https://wandb.me/run\" target=\"_blank\">docs</a>)<br/>"
      ],
      "text/plain": [
       "<IPython.core.display.HTML object>"
      ]
     },
     "metadata": {},
     "output_type": "display_data"
    }
   ],
   "source": [
    "import gym\n",
    "from gym.spaces import Discrete, Box, Tuple\n",
    "import wandb\n",
    "\n",
    "exp = wandb.init(project=\"RecommendationsSDAC\", group = \"MovieLens_SDAC\")\n",
    "\n",
    "class FakeRecomenderEnv(gym.Env):\n",
    "    def __init__(self, test_data, top_k):\n",
    "        self.action_space = gym.spaces.Discrete(5)\n",
    "        self.observation_space = Box(0,100000, (2,))\n",
    "        self.log_data = test_data\n",
    "        self.top_k = top_k\n",
    "        self.steps = 0\n",
    "        self.episode_num = 0\n",
    "        self.episodes = list(set(self.log_data['user_id']))\n",
    "        self.total_episodes = 0\n",
    "        #mask = self.log_data['user_id'] == episodes[episode_num]\n",
    "        self.current_episode = None\n",
    "\n",
    "    def step(self, action): \n",
    "        #print(action)\n",
    "        self.relevance_hist.append(action)\n",
    "        done = False\n",
    "        reward = 0\n",
    "        ob = (self.current_episode['user_id'].values[self.steps], \n",
    "                self.current_episode['item_id'].values[self.steps])\n",
    "        self.steps += 1\n",
    "        if len(self.current_episode['user_id']) == self.steps:\n",
    "            done = True\n",
    "          #  print(len(self.user_hist), len(self.item_hist), len(self.relevance_hist))\n",
    "            pred_df = pd.DataFrame({'user_id': self.user_hist, 'item_hist': self.item_hist,\n",
    "                                    'relevance': self.relevance_hist})\n",
    "            pred_top_k = pred_df.sort_values(['relevance'])[::-1][:self.top_k]\n",
    "            reward = ndcg( self.top_k, pred_top_k['relevance'].values, self.original['rating'].values)\n",
    "            mape_ = mape( self.top_k, pred_top_k['relevance'].values, self.original['rating'].values)\n",
    "            exp.log({\"episode\": self.total_episodes, \"NDCG\": reward, \"MAP\": mape_})\n",
    "            ob = []\n",
    "        else:\n",
    "            self.user_hist.append(self.current_episode['user_id'].values[self.steps])\n",
    "            self.item_hist.append(self.current_episode['item_id'].values[self.steps])\n",
    "        \n",
    "        return np.asarray(ob), reward, done, {}\n",
    "    \n",
    "    def reset(self):\n",
    "        self.user_hist = []\n",
    "        self.item_hist = []\n",
    "        self.relevance_hist = []\n",
    "        self.total_episodes += 1\n",
    "        self.episode_num += 1\n",
    "        if self.episode_num == len(self.episodes):\n",
    "            self.episode_num = 0\n",
    "        self.steps = 0 \n",
    "        mask = self.log_data['user_id'] == self.episodes[self.episode_num]\n",
    "        self.current_episode = self.log_data[mask]\n",
    "       # print(self.current_episode['user_id'])\n",
    "        self.user_hist.append(self.current_episode['user_id'].values[0])\n",
    "        self.item_hist.append( self.current_episode['item_id'].values[0])\n",
    "        self.original = original_for_user(self.log_data, self.current_episode['user_id'].values[0], k = self.top_k)\n",
    "        obs = self.current_episode['user_id'].values[0], \\\n",
    "                       self.current_episode['item_id'].values[0]\n",
    "      #  print( np.asarray(obs))\n",
    "        return np.asarray(obs)\n",
    "\n"
   ]
  },
  {
   "cell_type": "markdown",
   "id": "ce5ab84a",
   "metadata": {},
   "source": [
    "## Train"
   ]
  },
  {
   "cell_type": "code",
   "execution_count": 9,
   "id": "cf8095d3",
   "metadata": {},
   "outputs": [],
   "source": [
    "train_dataset,user_logs_train = _prepare_data(ds.ratings)"
   ]
  },
  {
   "cell_type": "code",
   "execution_count": 10,
   "id": "34a27337",
   "metadata": {},
   "outputs": [],
   "source": [
    "env = FakeRecomenderEnv(user_logs_train[:1000], 10)\n",
    "\n",
    "from d3rlpy.metrics.scorer import evaluate_on_environment\n",
    "evaluate_scorer = evaluate_on_environment(env)"
   ]
  },
  {
   "cell_type": "code",
   "execution_count": 11,
   "id": "a9df9282",
   "metadata": {},
   "outputs": [
    {
     "data": {
      "text/plain": [
       "array([   2, 1198], dtype=int32)"
      ]
     },
     "execution_count": 11,
     "metadata": {},
     "output_type": "execute_result"
    }
   ],
   "source": [
    "env.reset()"
   ]
  },
  {
   "cell_type": "code",
   "execution_count": 12,
   "id": "6a03db70",
   "metadata": {},
   "outputs": [],
   "source": [
    "from d3rlpy.algos import SDAC\n",
    "from d3rlpy.algos import CQL"
   ]
  },
  {
   "cell_type": "code",
   "execution_count": 13,
   "id": "8d1fba24",
   "metadata": {},
   "outputs": [],
   "source": [
    "sdac = SDAC(use_gpu=True)"
   ]
  },
  {
   "cell_type": "code",
   "execution_count": 14,
   "id": "d52852ea",
   "metadata": {},
   "outputs": [
    {
     "name": "stdout",
     "output_type": "stream",
     "text": [
      "2022-10-24 23:38.17 [debug    ] RoundIterator is selected.\n",
      "2022-10-24 23:38.17 [info     ] Directory is created at d3rlpy_logs/SDAC_20221024233817\n",
      "2022-10-24 23:38.17 [debug    ] Building models...\n",
      "2022-10-24 23:38.20 [debug    ] Models have been built.\n",
      "2022-10-24 23:38.20 [info     ] Parameters are saved to d3rlpy_logs/SDAC_20221024233817/params.json params={'action_scaler': None, 'actor_encoder_factory': {'type': 'default', 'params': {'activation': 'relu', 'use_batch_norm': False, 'dropout_rate': None}}, 'actor_learning_rate': 0.0003, 'actor_optim_factory': {'optim_cls': 'Adam', 'betas': (0.9, 0.999), 'eps': 1e-08, 'weight_decay': 0, 'amsgrad': False}, 'batch_size': 256, 'critic_encoder_factory': {'type': 'default', 'params': {'activation': 'relu', 'use_batch_norm': False, 'dropout_rate': None}}, 'critic_learning_rate': 0.0003, 'critic_optim_factory': {'optim_cls': 'Adam', 'betas': (0.9, 0.999), 'eps': 1e-08, 'weight_decay': 0, 'amsgrad': False}, 'gamma': 0.99, 'generated_maxlen': 100000, 'initial_temperature': 1.0, 'n_critics': 2, 'n_frames': 1, 'n_steps': 1, 'q_func_factory': {'type': 'mean', 'params': {'share_encoder': False}}, 'real_ratio': 1.0, 'reward_scaler': None, 'scaler': None, 'tau': 0.005, 'temp_learning_rate': 0.0003, 'temp_optim_factory': {'optim_cls': 'Adam', 'betas': (0.9, 0.999), 'eps': 1e-08, 'weight_decay': 0, 'amsgrad': False}, 'use_gpu': 0, 'algorithm': 'SDAC', 'observation_shape': (2,), 'action_size': 6}\n"
     ]
    },
    {
     "data": {
      "application/vnd.jupyter.widget-view+json": {
       "model_id": "1065f77d82774054854f12dc105e962a",
       "version_major": 2,
       "version_minor": 0
      },
      "text/plain": [
       "Epoch 1/10:   0%|          | 0/2757 [00:00<?, ?it/s]"
      ]
     },
     "metadata": {},
     "output_type": "display_data"
    },
    {
     "name": "stdout",
     "output_type": "stream",
     "text": [
      "2022-10-24 23:39.07 [info     ] SDAC_20221024233817: epoch=1 step=2757 epoch=1 metrics={'time_sample_batch': 0.00031592208577274714, 'time_algorithm_update': 0.016395952116115654, 'temp_loss': 4.688700980538253, 'temp': 0.7025570158492321, 'critic_loss': 497.7889070926605, 'actor_loss': 124.23836702188375, 'time_step': 0.01686050929061563, 'environment': 0.866073276015265} step=2757\n",
      "2022-10-24 23:39.07 [info     ] Model parameters are saved to d3rlpy_logs/SDAC_20221024233817/model_2757.pt\n"
     ]
    },
    {
     "data": {
      "application/vnd.jupyter.widget-view+json": {
       "model_id": "c4e18da689794b40a626431be2a73e89",
       "version_major": 2,
       "version_minor": 0
      },
      "text/plain": [
       "Epoch 2/10:   0%|          | 0/2757 [00:00<?, ?it/s]"
      ]
     },
     "metadata": {},
     "output_type": "display_data"
    },
    {
     "name": "stdout",
     "output_type": "stream",
     "text": [
      "2022-10-24 23:39.55 [info     ] SDAC_20221024233817: epoch=2 step=5514 epoch=2 metrics={'time_sample_batch': 0.0003165322712983694, 'time_algorithm_update': 0.016503631528149404, 'temp_loss': 2.3955926939677537, 'temp': 0.35900406214608893, 'critic_loss': 217.07717646398447, 'actor_loss': 111.70893010584652, 'time_step': 0.01697999790262216, 'environment': 0.850383833502282} step=5514\n",
      "2022-10-24 23:39.55 [info     ] Model parameters are saved to d3rlpy_logs/SDAC_20221024233817/model_5514.pt\n"
     ]
    },
    {
     "data": {
      "application/vnd.jupyter.widget-view+json": {
       "model_id": "323f6877772948769d33a108988c1812",
       "version_major": 2,
       "version_minor": 0
      },
      "text/plain": [
       "Epoch 3/10:   0%|          | 0/2757 [00:00<?, ?it/s]"
      ]
     },
     "metadata": {},
     "output_type": "display_data"
    },
    {
     "name": "stdout",
     "output_type": "stream",
     "text": [
      "2022-10-24 23:40.42 [info     ] SDAC_20221024233817: epoch=3 step=8271 epoch=3 metrics={'time_sample_batch': 0.00031721423318258957, 'time_algorithm_update': 0.01634811784289737, 'temp_loss': 1.2818467911274745, 'temp': 0.19205819038991095, 'critic_loss': 141.74411496157919, 'actor_loss': 90.76071189407166, 'time_step': 0.016822678479847374, 'environment': 0.8282613992113355} step=8271\n",
      "2022-10-24 23:40.42 [info     ] Model parameters are saved to d3rlpy_logs/SDAC_20221024233817/model_8271.pt\n"
     ]
    },
    {
     "data": {
      "application/vnd.jupyter.widget-view+json": {
       "model_id": "c0c2422d07124dafb799c7983b834ffb",
       "version_major": 2,
       "version_minor": 0
      },
      "text/plain": [
       "Epoch 4/10:   0%|          | 0/2757 [00:00<?, ?it/s]"
      ]
     },
     "metadata": {},
     "output_type": "display_data"
    },
    {
     "name": "stdout",
     "output_type": "stream",
     "text": [
      "2022-10-24 23:41.29 [info     ] SDAC_20221024233817: epoch=4 step=11028 epoch=4 metrics={'time_sample_batch': 0.00031318377445346856, 'time_algorithm_update': 0.016273709367399938, 'temp_loss': 0.6910703219513898, 'temp': 0.10355228539130633, 'critic_loss': 93.05168088913872, 'actor_loss': 73.15194988008595, 'time_step': 0.016747509693814052, 'environment': 0.9038113127357011} step=11028\n",
      "2022-10-24 23:41.29 [info     ] Model parameters are saved to d3rlpy_logs/SDAC_20221024233817/model_11028.pt\n"
     ]
    },
    {
     "data": {
      "application/vnd.jupyter.widget-view+json": {
       "model_id": "2111cffce90c4e74b84e1fb34e6bdeb2",
       "version_major": 2,
       "version_minor": 0
      },
      "text/plain": [
       "Epoch 5/10:   0%|          | 0/2757 [00:00<?, ?it/s]"
      ]
     },
     "metadata": {},
     "output_type": "display_data"
    },
    {
     "name": "stdout",
     "output_type": "stream",
     "text": [
      "2022-10-24 23:42.16 [info     ] SDAC_20221024233817: epoch=5 step=13785 epoch=5 metrics={'time_sample_batch': 0.0003087724686360766, 'time_algorithm_update': 0.016028912464345242, 'temp_loss': 0.3730291300573166, 'temp': 0.0558976375639417, 'critic_loss': 58.286689132830354, 'actor_loss': 57.782562399758, 'time_step': 0.016496270819336425, 'environment': 0.7845485335723721} step=13785\n",
      "2022-10-24 23:42.16 [info     ] Model parameters are saved to d3rlpy_logs/SDAC_20221024233817/model_13785.pt\n"
     ]
    },
    {
     "data": {
      "application/vnd.jupyter.widget-view+json": {
       "model_id": "de9ebdaa9b764f8b9708acd985fddb87",
       "version_major": 2,
       "version_minor": 0
      },
      "text/plain": [
       "Epoch 6/10:   0%|          | 0/2757 [00:00<?, ?it/s]"
      ]
     },
     "metadata": {},
     "output_type": "display_data"
    },
    {
     "name": "stdout",
     "output_type": "stream",
     "text": [
      "2022-10-24 23:43.02 [info     ] SDAC_20221024233817: epoch=6 step=16542 epoch=6 metrics={'time_sample_batch': 0.00030817257393777134, 'time_algorithm_update': 0.015980883011318094, 'temp_loss': 0.20138110813343918, 'temp': 0.030178222490429316, 'critic_loss': 37.342537481639106, 'actor_loss': 46.25992627121376, 'time_step': 0.016444091568574293, 'environment': 0.8883173937796588} step=16542\n",
      "2022-10-24 23:43.02 [info     ] Model parameters are saved to d3rlpy_logs/SDAC_20221024233817/model_16542.pt\n"
     ]
    },
    {
     "data": {
      "application/vnd.jupyter.widget-view+json": {
       "model_id": "50fa2b8f14fc48309d8a66553273e768",
       "version_major": 2,
       "version_minor": 0
      },
      "text/plain": [
       "Epoch 7/10:   0%|          | 0/2757 [00:00<?, ?it/s]"
      ]
     },
     "metadata": {},
     "output_type": "display_data"
    },
    {
     "name": "stdout",
     "output_type": "stream",
     "text": [
      "2022-10-24 23:43.49 [info     ] SDAC_20221024233817: epoch=7 step=19299 epoch=7 metrics={'time_sample_batch': 0.0003127688552142487, 'time_algorithm_update': 0.01641291157248922, 'temp_loss': 0.10872782119048173, 'temp': 0.016292811226468612, 'critic_loss': 24.15405641736697, 'actor_loss': 37.14584957727454, 'time_step': 0.0168795941919791, 'environment': 0.8654287632144317} step=19299\n",
      "2022-10-24 23:43.49 [info     ] Model parameters are saved to d3rlpy_logs/SDAC_20221024233817/model_19299.pt\n"
     ]
    },
    {
     "data": {
      "application/vnd.jupyter.widget-view+json": {
       "model_id": "ca76fcbe33164cb0972c20b0b007eede",
       "version_major": 2,
       "version_minor": 0
      },
      "text/plain": [
       "Epoch 8/10:   0%|          | 0/2757 [00:00<?, ?it/s]"
      ]
     },
     "metadata": {},
     "output_type": "display_data"
    },
    {
     "name": "stdout",
     "output_type": "stream",
     "text": [
      "2022-10-24 23:44.36 [info     ] SDAC_20221024233817: epoch=8 step=22056 epoch=8 metrics={'time_sample_batch': 0.00031517751414922, 'time_algorithm_update': 0.016278085736290977, 'temp_loss': 0.058697698515558484, 'temp': 0.008795916823191264, 'critic_loss': 15.487082586162627, 'actor_loss': 29.34837512188214, 'time_step': 0.01675619835173863, 'environment': 0.8605340618160662} step=22056\n",
      "2022-10-24 23:44.36 [info     ] Model parameters are saved to d3rlpy_logs/SDAC_20221024233817/model_22056.pt\n"
     ]
    },
    {
     "data": {
      "application/vnd.jupyter.widget-view+json": {
       "model_id": "bf5b21a90fd340279072e8f1398609c3",
       "version_major": 2,
       "version_minor": 0
      },
      "text/plain": [
       "Epoch 9/10:   0%|          | 0/2757 [00:00<?, ?it/s]"
      ]
     },
     "metadata": {},
     "output_type": "display_data"
    },
    {
     "name": "stdout",
     "output_type": "stream",
     "text": [
      "2022-10-24 23:45.23 [info     ] SDAC_20221024233817: epoch=9 step=24813 epoch=9 metrics={'time_sample_batch': 0.0003087400395583968, 'time_algorithm_update': 0.016004327850839908, 'temp_loss': 0.03168714083839271, 'temp': 0.004748719202041745, 'critic_loss': 9.621754662213137, 'actor_loss': 22.798708118387527, 'time_step': 0.01646675698602377, 'environment': 0.8385267756808069} step=24813\n",
      "2022-10-24 23:45.23 [info     ] Model parameters are saved to d3rlpy_logs/SDAC_20221024233817/model_24813.pt\n"
     ]
    },
    {
     "data": {
      "application/vnd.jupyter.widget-view+json": {
       "model_id": "4c8f5df6b02c449cb1937576a13b4326",
       "version_major": 2,
       "version_minor": 0
      },
      "text/plain": [
       "Epoch 10/10:   0%|          | 0/2757 [00:00<?, ?it/s]"
      ]
     },
     "metadata": {},
     "output_type": "display_data"
    },
    {
     "name": "stdout",
     "output_type": "stream",
     "text": [
      "2022-10-24 23:46.10 [info     ] SDAC_20221024233817: epoch=10 step=27570 epoch=10 metrics={'time_sample_batch': 0.00031466677779514894, 'time_algorithm_update': 0.01632879832796658, 'temp_loss': 0.017108451642263593, 'temp': 0.0025636908337038104, 'critic_loss': 6.698706114447805, 'actor_loss': 18.350095682140704, 'time_step': 0.01680376246912046, 'environment': 0.8753925810756311} step=27570\n",
      "2022-10-24 23:46.10 [info     ] Model parameters are saved to d3rlpy_logs/SDAC_20221024233817/model_27570.pt\n"
     ]
    },
    {
     "data": {
      "text/plain": [
       "[(1,\n",
       "  {'time_sample_batch': 0.00031592208577274714,\n",
       "   'time_algorithm_update': 0.016395952116115654,\n",
       "   'temp_loss': 4.688700980538253,\n",
       "   'temp': 0.7025570158492321,\n",
       "   'critic_loss': 497.7889070926605,\n",
       "   'actor_loss': 124.23836702188375,\n",
       "   'time_step': 0.01686050929061563,\n",
       "   'environment': 0.866073276015265}),\n",
       " (2,\n",
       "  {'time_sample_batch': 0.0003165322712983694,\n",
       "   'time_algorithm_update': 0.016503631528149404,\n",
       "   'temp_loss': 2.3955926939677537,\n",
       "   'temp': 0.35900406214608893,\n",
       "   'critic_loss': 217.07717646398447,\n",
       "   'actor_loss': 111.70893010584652,\n",
       "   'time_step': 0.01697999790262216,\n",
       "   'environment': 0.850383833502282}),\n",
       " (3,\n",
       "  {'time_sample_batch': 0.00031721423318258957,\n",
       "   'time_algorithm_update': 0.01634811784289737,\n",
       "   'temp_loss': 1.2818467911274745,\n",
       "   'temp': 0.19205819038991095,\n",
       "   'critic_loss': 141.74411496157919,\n",
       "   'actor_loss': 90.76071189407166,\n",
       "   'time_step': 0.016822678479847374,\n",
       "   'environment': 0.8282613992113355}),\n",
       " (4,\n",
       "  {'time_sample_batch': 0.00031318377445346856,\n",
       "   'time_algorithm_update': 0.016273709367399938,\n",
       "   'temp_loss': 0.6910703219513898,\n",
       "   'temp': 0.10355228539130633,\n",
       "   'critic_loss': 93.05168088913872,\n",
       "   'actor_loss': 73.15194988008595,\n",
       "   'time_step': 0.016747509693814052,\n",
       "   'environment': 0.9038113127357011}),\n",
       " (5,\n",
       "  {'time_sample_batch': 0.0003087724686360766,\n",
       "   'time_algorithm_update': 0.016028912464345242,\n",
       "   'temp_loss': 0.3730291300573166,\n",
       "   'temp': 0.0558976375639417,\n",
       "   'critic_loss': 58.286689132830354,\n",
       "   'actor_loss': 57.782562399758,\n",
       "   'time_step': 0.016496270819336425,\n",
       "   'environment': 0.7845485335723721}),\n",
       " (6,\n",
       "  {'time_sample_batch': 0.00030817257393777134,\n",
       "   'time_algorithm_update': 0.015980883011318094,\n",
       "   'temp_loss': 0.20138110813343918,\n",
       "   'temp': 0.030178222490429316,\n",
       "   'critic_loss': 37.342537481639106,\n",
       "   'actor_loss': 46.25992627121376,\n",
       "   'time_step': 0.016444091568574293,\n",
       "   'environment': 0.8883173937796588}),\n",
       " (7,\n",
       "  {'time_sample_batch': 0.0003127688552142487,\n",
       "   'time_algorithm_update': 0.01641291157248922,\n",
       "   'temp_loss': 0.10872782119048173,\n",
       "   'temp': 0.016292811226468612,\n",
       "   'critic_loss': 24.15405641736697,\n",
       "   'actor_loss': 37.14584957727454,\n",
       "   'time_step': 0.0168795941919791,\n",
       "   'environment': 0.8654287632144317}),\n",
       " (8,\n",
       "  {'time_sample_batch': 0.00031517751414922,\n",
       "   'time_algorithm_update': 0.016278085736290977,\n",
       "   'temp_loss': 0.058697698515558484,\n",
       "   'temp': 0.008795916823191264,\n",
       "   'critic_loss': 15.487082586162627,\n",
       "   'actor_loss': 29.34837512188214,\n",
       "   'time_step': 0.01675619835173863,\n",
       "   'environment': 0.8605340618160662}),\n",
       " (9,\n",
       "  {'time_sample_batch': 0.0003087400395583968,\n",
       "   'time_algorithm_update': 0.016004327850839908,\n",
       "   'temp_loss': 0.03168714083839271,\n",
       "   'temp': 0.004748719202041745,\n",
       "   'critic_loss': 9.621754662213137,\n",
       "   'actor_loss': 22.798708118387527,\n",
       "   'time_step': 0.01646675698602377,\n",
       "   'environment': 0.8385267756808069}),\n",
       " (10,\n",
       "  {'time_sample_batch': 0.00031466677779514894,\n",
       "   'time_algorithm_update': 0.01632879832796658,\n",
       "   'temp_loss': 0.017108451642263593,\n",
       "   'temp': 0.0025636908337038104,\n",
       "   'critic_loss': 6.698706114447805,\n",
       "   'actor_loss': 18.350095682140704,\n",
       "   'time_step': 0.01680376246912046,\n",
       "   'environment': 0.8753925810756311})]"
      ]
     },
     "execution_count": 14,
     "metadata": {},
     "output_type": "execute_result"
    }
   ],
   "source": [
    "sdac.fit(train_dataset,\n",
    "        eval_episodes=train_dataset,\n",
    "        n_epochs=10,\n",
    "#         n_steps = 100000,\n",
    "#         n_steps_per_epoch=3000,\n",
    "        scorers={'environment': evaluate_scorer})"
   ]
  },
  {
   "cell_type": "code",
   "execution_count": 15,
   "id": "ac12391a",
   "metadata": {},
   "outputs": [
    {
     "data": {
      "text/plain": [
       "array([5])"
      ]
     },
     "execution_count": 15,
     "metadata": {},
     "output_type": "execute_result"
    }
   ],
   "source": [
    "sdac.predict(np.array([(90, 390)]))"
   ]
  },
  {
   "cell_type": "code",
   "execution_count": 16,
   "id": "b6c19a58",
   "metadata": {},
   "outputs": [
    {
     "data": {
      "text/html": [
       "<div>\n",
       "<style scoped>\n",
       "    .dataframe tbody tr th:only-of-type {\n",
       "        vertical-align: middle;\n",
       "    }\n",
       "\n",
       "    .dataframe tbody tr th {\n",
       "        vertical-align: top;\n",
       "    }\n",
       "\n",
       "    .dataframe thead th {\n",
       "        text-align: right;\n",
       "    }\n",
       "</style>\n",
       "<table border=\"1\" class=\"dataframe\">\n",
       "  <thead>\n",
       "    <tr style=\"text-align: right;\">\n",
       "      <th></th>\n",
       "      <th>user_id</th>\n",
       "      <th>item_id</th>\n",
       "      <th>rating</th>\n",
       "      <th>timestamp</th>\n",
       "      <th>rewards</th>\n",
       "      <th>terminals</th>\n",
       "    </tr>\n",
       "  </thead>\n",
       "  <tbody>\n",
       "    <tr>\n",
       "      <th>31</th>\n",
       "      <td>1</td>\n",
       "      <td>3186</td>\n",
       "      <td>4</td>\n",
       "      <td>978300019</td>\n",
       "      <td>1.0</td>\n",
       "      <td>0.0</td>\n",
       "    </tr>\n",
       "    <tr>\n",
       "      <th>22</th>\n",
       "      <td>1</td>\n",
       "      <td>1270</td>\n",
       "      <td>5</td>\n",
       "      <td>978300055</td>\n",
       "      <td>0.5</td>\n",
       "      <td>0.0</td>\n",
       "    </tr>\n",
       "    <tr>\n",
       "      <th>27</th>\n",
       "      <td>1</td>\n",
       "      <td>1721</td>\n",
       "      <td>4</td>\n",
       "      <td>978300055</td>\n",
       "      <td>0.5</td>\n",
       "      <td>0.0</td>\n",
       "    </tr>\n",
       "    <tr>\n",
       "      <th>37</th>\n",
       "      <td>1</td>\n",
       "      <td>1022</td>\n",
       "      <td>5</td>\n",
       "      <td>978300055</td>\n",
       "      <td>0.5</td>\n",
       "      <td>0.0</td>\n",
       "    </tr>\n",
       "    <tr>\n",
       "      <th>24</th>\n",
       "      <td>1</td>\n",
       "      <td>2340</td>\n",
       "      <td>3</td>\n",
       "      <td>978300103</td>\n",
       "      <td>0.5</td>\n",
       "      <td>0.0</td>\n",
       "    </tr>\n",
       "    <tr>\n",
       "      <th>...</th>\n",
       "      <td>...</td>\n",
       "      <td>...</td>\n",
       "      <td>...</td>\n",
       "      <td>...</td>\n",
       "      <td>...</td>\n",
       "      <td>...</td>\n",
       "    </tr>\n",
       "    <tr>\n",
       "      <th>1023</th>\n",
       "      <td>10</td>\n",
       "      <td>1031</td>\n",
       "      <td>4</td>\n",
       "      <td>978228546</td>\n",
       "      <td>0.5</td>\n",
       "      <td>0.0</td>\n",
       "    </tr>\n",
       "    <tr>\n",
       "      <th>1195</th>\n",
       "      <td>10</td>\n",
       "      <td>2045</td>\n",
       "      <td>3</td>\n",
       "      <td>978228575</td>\n",
       "      <td>0.5</td>\n",
       "      <td>0.0</td>\n",
       "    </tr>\n",
       "    <tr>\n",
       "      <th>909</th>\n",
       "      <td>10</td>\n",
       "      <td>3608</td>\n",
       "      <td>3</td>\n",
       "      <td>978228601</td>\n",
       "      <td>0.5</td>\n",
       "      <td>0.0</td>\n",
       "    </tr>\n",
       "    <tr>\n",
       "      <th>1039</th>\n",
       "      <td>10</td>\n",
       "      <td>1042</td>\n",
       "      <td>5</td>\n",
       "      <td>978228601</td>\n",
       "      <td>0.5</td>\n",
       "      <td>0.0</td>\n",
       "    </tr>\n",
       "    <tr>\n",
       "      <th>1118</th>\n",
       "      <td>10</td>\n",
       "      <td>2015</td>\n",
       "      <td>5</td>\n",
       "      <td>978228601</td>\n",
       "      <td>0.5</td>\n",
       "      <td>0.0</td>\n",
       "    </tr>\n",
       "  </tbody>\n",
       "</table>\n",
       "<p>1000 rows × 6 columns</p>\n",
       "</div>"
      ],
      "text/plain": [
       "      user_id  item_id  rating  timestamp  rewards  terminals\n",
       "31          1     3186       4  978300019      1.0        0.0\n",
       "22          1     1270       5  978300055      0.5        0.0\n",
       "27          1     1721       4  978300055      0.5        0.0\n",
       "37          1     1022       5  978300055      0.5        0.0\n",
       "24          1     2340       3  978300103      0.5        0.0\n",
       "...       ...      ...     ...        ...      ...        ...\n",
       "1023       10     1031       4  978228546      0.5        0.0\n",
       "1195       10     2045       3  978228575      0.5        0.0\n",
       "909        10     3608       3  978228601      0.5        0.0\n",
       "1039       10     1042       5  978228601      0.5        0.0\n",
       "1118       10     2015       5  978228601      0.5        0.0\n",
       "\n",
       "[1000 rows x 6 columns]"
      ]
     },
     "execution_count": 16,
     "metadata": {},
     "output_type": "execute_result"
    }
   ],
   "source": [
    "user_logs_train[:1000]"
   ]
  },
  {
   "cell_type": "code",
   "execution_count": null,
   "id": "b98fef11",
   "metadata": {},
   "outputs": [],
   "source": []
  }
 ],
 "metadata": {
  "kernelspec": {
   "display_name": "Python 3 (ipykernel)",
   "language": "python",
   "name": "python3"
  },
  "language_info": {
   "codemirror_mode": {
    "name": "ipython",
    "version": 3
   },
   "file_extension": ".py",
   "mimetype": "text/x-python",
   "name": "python",
   "nbconvert_exporter": "python",
   "pygments_lexer": "ipython3",
   "version": "3.8.10"
  }
 },
 "nbformat": 4,
 "nbformat_minor": 5
}
