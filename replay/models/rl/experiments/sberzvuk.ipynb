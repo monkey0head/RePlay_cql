{
 "cells": [
  {
   "cell_type": "code",
   "execution_count": 1,
   "id": "a916b014-c79b-4c69-9866-aa188982b706",
   "metadata": {},
   "outputs": [],
   "source": [
    "from matplotlib import pyplot as plt\n",
    "import pickle\n",
    "import torch\n",
    "import tqdm\n",
    "import warnings\n",
    "import numpy as np\n",
    "import pandas as pd\n",
    "import seaborn as sns\n",
    "from optuna.exceptions import ExperimentalWarning\n",
    "warnings.filterwarnings(\"ignore\", category=UserWarning)\n",
    "warnings.filterwarnings(\"ignore\", category=ExperimentalWarning)"
   ]
  },
  {
   "cell_type": "markdown",
   "id": "9d1fbcae-6dc0-4ce7-8d0e-3249abb5510f",
   "metadata": {},
   "source": [
    "## Data reading"
   ]
  },
  {
   "cell_type": "markdown",
   "id": "82b23d73-f52d-4a14-a737-02a8a57b66e2",
   "metadata": {},
   "source": [
    "### clickstream\n",
    "\n",
    "Defines listening events"
   ]
  },
  {
   "cell_type": "code",
   "execution_count": 13,
   "id": "349c032d-8f84-42c0-aeef-1642945a4f4b",
   "metadata": {},
   "outputs": [
    {
     "data": {
      "text/plain": [
       "(1000000, 6)"
      ]
     },
     "execution_count": 13,
     "metadata": {},
     "output_type": "execute_result"
    }
   ],
   "source": [
    "from pathlib import Path\n",
    "data_path = Path.home().joinpath('data/sberzvuk/ailab_data/')\n",
    "\n",
    "clickstream = pd.read_csv(data_path.joinpath('clickstream.csv'), nrows=1_000_000)\n",
    "clickstream.shape"
   ]
  },
  {
   "cell_type": "code",
   "execution_count": 14,
   "id": "c0a91c55-9144-4589-bb44-4b5eff250a3a",
   "metadata": {},
   "outputs": [
    {
     "data": {
      "text/plain": [
       "Index(['user_id', 'track_id', 'event_nm', 'action_nm',\n",
       "       'playevent_play_duration', 'proc_dt'],\n",
       "      dtype='object')"
      ]
     },
     "execution_count": 14,
     "metadata": {},
     "output_type": "execute_result"
    }
   ],
   "source": [
    "clickstream.columns"
   ]
  },
  {
   "cell_type": "code",
   "execution_count": 15,
   "id": "74931229-7abb-4552-a7e8-552bcaaa245c",
   "metadata": {},
   "outputs": [
    {
     "data": {
      "text/html": [
       "<div>\n",
       "<style scoped>\n",
       "    .dataframe tbody tr th:only-of-type {\n",
       "        vertical-align: middle;\n",
       "    }\n",
       "\n",
       "    .dataframe tbody tr th {\n",
       "        vertical-align: top;\n",
       "    }\n",
       "\n",
       "    .dataframe thead th {\n",
       "        text-align: right;\n",
       "    }\n",
       "</style>\n",
       "<table border=\"1\" class=\"dataframe\">\n",
       "  <thead>\n",
       "    <tr style=\"text-align: right;\">\n",
       "      <th></th>\n",
       "      <th>user_id</th>\n",
       "      <th>track_id</th>\n",
       "      <th>event_nm</th>\n",
       "      <th>action_nm</th>\n",
       "      <th>playevent_play_duration</th>\n",
       "      <th>proc_dt</th>\n",
       "    </tr>\n",
       "  </thead>\n",
       "  <tbody>\n",
       "    <tr>\n",
       "      <th>0</th>\n",
       "      <td>e90208b469c84a84c91d81d905028fed</td>\n",
       "      <td>55099089</td>\n",
       "      <td>playevent</td>\n",
       "      <td>NaN</td>\n",
       "      <td>18</td>\n",
       "      <td>2022-05-02</td>\n",
       "    </tr>\n",
       "    <tr>\n",
       "      <th>1</th>\n",
       "      <td>e90208b469c84a84c91d81d905028fed</td>\n",
       "      <td>15158288</td>\n",
       "      <td>playevent</td>\n",
       "      <td>NaN</td>\n",
       "      <td>299</td>\n",
       "      <td>2022-05-02</td>\n",
       "    </tr>\n",
       "    <tr>\n",
       "      <th>2</th>\n",
       "      <td>e90208b469c84a84c91d81d905028fed</td>\n",
       "      <td>64292273</td>\n",
       "      <td>playevent</td>\n",
       "      <td>NaN</td>\n",
       "      <td>307</td>\n",
       "      <td>2022-05-02</td>\n",
       "    </tr>\n",
       "    <tr>\n",
       "      <th>3</th>\n",
       "      <td>e90208b469c84a84c91d81d905028fed</td>\n",
       "      <td>53314945</td>\n",
       "      <td>playevent</td>\n",
       "      <td>NaN</td>\n",
       "      <td>665</td>\n",
       "      <td>2022-05-02</td>\n",
       "    </tr>\n",
       "    <tr>\n",
       "      <th>4</th>\n",
       "      <td>e90208b469c84a84c91d81d905028fed</td>\n",
       "      <td>5846537</td>\n",
       "      <td>playevent</td>\n",
       "      <td>NaN</td>\n",
       "      <td>406</td>\n",
       "      <td>2022-05-02</td>\n",
       "    </tr>\n",
       "  </tbody>\n",
       "</table>\n",
       "</div>"
      ],
      "text/plain": [
       "                            user_id  track_id   event_nm action_nm  \\\n",
       "0  e90208b469c84a84c91d81d905028fed  55099089  playevent       NaN   \n",
       "1  e90208b469c84a84c91d81d905028fed  15158288  playevent       NaN   \n",
       "2  e90208b469c84a84c91d81d905028fed  64292273  playevent       NaN   \n",
       "3  e90208b469c84a84c91d81d905028fed  53314945  playevent       NaN   \n",
       "4  e90208b469c84a84c91d81d905028fed   5846537  playevent       NaN   \n",
       "\n",
       "   playevent_play_duration     proc_dt  \n",
       "0                       18  2022-05-02  \n",
       "1                      299  2022-05-02  \n",
       "2                      307  2022-05-02  \n",
       "3                      665  2022-05-02  \n",
       "4                      406  2022-05-02  "
      ]
     },
     "execution_count": 15,
     "metadata": {},
     "output_type": "execute_result"
    }
   ],
   "source": [
    "clickstream.head(5)"
   ]
  },
  {
   "cell_type": "code",
   "execution_count": 16,
   "id": "a451e35e-0f25-44bf-a112-3ceb6dc4adda",
   "metadata": {},
   "outputs": [],
   "source": [
    "clickstream.rename(columns={'playevent_play_duration': 'dur_sec', 'proc_dt': 'event_dt'}, inplace=True)"
   ]
  },
  {
   "cell_type": "code",
   "execution_count": 17,
   "id": "aa2228bb-c3d3-40d6-bbce-b8a2c522ce8f",
   "metadata": {},
   "outputs": [
    {
     "data": {
      "text/plain": [
       "count    1000000.000000\n",
       "mean         100.188872\n",
       "std          103.286989\n",
       "min           -1.000000\n",
       "25%            3.000000\n",
       "50%           71.000000\n",
       "75%          187.000000\n",
       "max         7365.000000\n",
       "Name: dur_sec, dtype: float64"
      ]
     },
     "execution_count": 17,
     "metadata": {},
     "output_type": "execute_result"
    }
   ],
   "source": [
    "clickstream.dur_sec.describe()"
   ]
  },
  {
   "cell_type": "code",
   "execution_count": 18,
   "id": "53c1bb3f-8cd9-4111-a706-a680111b7ebb",
   "metadata": {},
   "outputs": [
    {
     "data": {
      "text/plain": [
       "array(['playevent', 'content_action_event'], dtype=object)"
      ]
     },
     "execution_count": 18,
     "metadata": {},
     "output_type": "execute_result"
    }
   ],
   "source": [
    "clickstream['event_nm'].unique()"
   ]
  },
  {
   "cell_type": "markdown",
   "id": "edcaba12-b7ba-4c6e-ae13-66177ddd2518",
   "metadata": {},
   "source": [
    "### user-track-score\n",
    "\n",
    "Defines user-to-track scores"
   ]
  },
  {
   "cell_type": "code",
   "execution_count": 19,
   "id": "30a15317-1193-457d-bcec-84043da67777",
   "metadata": {},
   "outputs": [
    {
     "data": {
      "text/plain": [
       "(1000000, 3)"
      ]
     },
     "execution_count": 19,
     "metadata": {},
     "output_type": "execute_result"
    }
   ],
   "source": [
    "user_track_score = pd.read_csv(data_path.joinpath('user-track-score.csv'), nrows=1_000_000)\n",
    "user_track_score.shape"
   ]
  },
  {
   "cell_type": "code",
   "execution_count": 20,
   "id": "d7468df1-8996-41ce-a042-7f70008eb44e",
   "metadata": {},
   "outputs": [
    {
     "data": {
      "text/plain": [
       "Index(['user_id', 'track_id', 'score'], dtype='object')"
      ]
     },
     "execution_count": 20,
     "metadata": {},
     "output_type": "execute_result"
    }
   ],
   "source": [
    "user_track_score.columns"
   ]
  },
  {
   "cell_type": "code",
   "execution_count": 21,
   "id": "6c0cc6fc-0d66-451b-bb76-42331a33796c",
   "metadata": {},
   "outputs": [
    {
     "data": {
      "text/html": [
       "<div>\n",
       "<style scoped>\n",
       "    .dataframe tbody tr th:only-of-type {\n",
       "        vertical-align: middle;\n",
       "    }\n",
       "\n",
       "    .dataframe tbody tr th {\n",
       "        vertical-align: top;\n",
       "    }\n",
       "\n",
       "    .dataframe thead th {\n",
       "        text-align: right;\n",
       "    }\n",
       "</style>\n",
       "<table border=\"1\" class=\"dataframe\">\n",
       "  <thead>\n",
       "    <tr style=\"text-align: right;\">\n",
       "      <th></th>\n",
       "      <th>user_id</th>\n",
       "      <th>track_id</th>\n",
       "      <th>score</th>\n",
       "    </tr>\n",
       "  </thead>\n",
       "  <tbody>\n",
       "    <tr>\n",
       "      <th>662518</th>\n",
       "      <td>6ed1dadc53ff81ac4b6646a713e41fe5</td>\n",
       "      <td>109535323</td>\n",
       "      <td>0.049340</td>\n",
       "    </tr>\n",
       "    <tr>\n",
       "      <th>274650</th>\n",
       "      <td>c6ea622888528db370dd727efc004c0b</td>\n",
       "      <td>77962856</td>\n",
       "      <td>0.703453</td>\n",
       "    </tr>\n",
       "    <tr>\n",
       "      <th>817440</th>\n",
       "      <td>44596dbe2de4a1c7fd33cf0170c9edfe</td>\n",
       "      <td>5863493</td>\n",
       "      <td>0.376226</td>\n",
       "    </tr>\n",
       "    <tr>\n",
       "      <th>642668</th>\n",
       "      <td>dc73a5cb6fd0a1743ca9ca085919e6a6</td>\n",
       "      <td>12791308</td>\n",
       "      <td>0.469947</td>\n",
       "    </tr>\n",
       "    <tr>\n",
       "      <th>389367</th>\n",
       "      <td>352ae8f466004bf32e4f3f50e3ea99ab</td>\n",
       "      <td>16677316</td>\n",
       "      <td>0.367778</td>\n",
       "    </tr>\n",
       "  </tbody>\n",
       "</table>\n",
       "</div>"
      ],
      "text/plain": [
       "                                 user_id   track_id     score\n",
       "662518  6ed1dadc53ff81ac4b6646a713e41fe5  109535323  0.049340\n",
       "274650  c6ea622888528db370dd727efc004c0b   77962856  0.703453\n",
       "817440  44596dbe2de4a1c7fd33cf0170c9edfe    5863493  0.376226\n",
       "642668  dc73a5cb6fd0a1743ca9ca085919e6a6   12791308  0.469947\n",
       "389367  352ae8f466004bf32e4f3f50e3ea99ab   16677316  0.367778"
      ]
     },
     "execution_count": 21,
     "metadata": {},
     "output_type": "execute_result"
    }
   ],
   "source": [
    "user_track_score.sample(5)"
   ]
  },
  {
   "cell_type": "code",
   "execution_count": 22,
   "id": "d7520a0f-b047-4d40-9de8-df150b1d2e98",
   "metadata": {},
   "outputs": [
    {
     "data": {
      "text/plain": [
       "count    1000000.000000\n",
       "mean           0.305944\n",
       "std            0.241200\n",
       "min           -0.371067\n",
       "25%            0.116889\n",
       "50%            0.254101\n",
       "75%            0.447083\n",
       "max            1.524466\n",
       "Name: score, dtype: float64"
      ]
     },
     "execution_count": 22,
     "metadata": {},
     "output_type": "execute_result"
    }
   ],
   "source": [
    "user_track_score.score.describe()"
   ]
  },
  {
   "cell_type": "markdown",
   "id": "2ce5db4f-2512-4806-b658-68bcd51d7ce2",
   "metadata": {},
   "source": [
    "### track-content-embedding\n",
    "\n",
    "Defines embeddings for tracks"
   ]
  },
  {
   "cell_type": "code",
   "execution_count": 30,
   "id": "12a5b221-8ad2-414b-9fcf-554a13758c14",
   "metadata": {},
   "outputs": [
    {
     "data": {
      "text/plain": [
       "(929571, 179)"
      ]
     },
     "execution_count": 30,
     "metadata": {},
     "output_type": "execute_result"
    }
   ],
   "source": [
    "track_content_embedding = pd.read_csv(data_path.joinpath('track-content-embedding.csv'), delimiter='|') #, nrows=1_000_000)\n",
    "track_content_embedding.shape"
   ]
  },
  {
   "cell_type": "code",
   "execution_count": 33,
   "id": "e8fa23b7-3c5d-415f-bab3-cd4ba12a6346",
   "metadata": {},
   "outputs": [
    {
     "data": {
      "text/plain": [
       "Index(['track_id', 'rock', 'pop', 'alternative', 'indie', 'electronic',\n",
       "       'female vocalists', 'dance', '00s', 'alternative rock',\n",
       "       ...\n",
       "       'vggish_119', 'vggish_120', 'vggish_121', 'vggish_122', 'vggish_123',\n",
       "       'vggish_124', 'vggish_125', 'vggish_126', 'vggish_127', 'vggish_128'],\n",
       "      dtype='object', length=179)"
      ]
     },
     "execution_count": 33,
     "metadata": {},
     "output_type": "execute_result"
    }
   ],
   "source": [
    "track_content_embedding.columns"
   ]
  },
  {
   "cell_type": "code",
   "execution_count": 34,
   "id": "cc9b3e25-e9ef-4957-b851-c0b1a6fa1012",
   "metadata": {},
   "outputs": [
    {
     "data": {
      "text/html": [
       "<div>\n",
       "<style scoped>\n",
       "    .dataframe tbody tr th:only-of-type {\n",
       "        vertical-align: middle;\n",
       "    }\n",
       "\n",
       "    .dataframe tbody tr th {\n",
       "        vertical-align: top;\n",
       "    }\n",
       "\n",
       "    .dataframe thead th {\n",
       "        text-align: right;\n",
       "    }\n",
       "</style>\n",
       "<table border=\"1\" class=\"dataframe\">\n",
       "  <thead>\n",
       "    <tr style=\"text-align: right;\">\n",
       "      <th></th>\n",
       "      <th>track_id</th>\n",
       "      <th>rock</th>\n",
       "      <th>pop</th>\n",
       "      <th>alternative</th>\n",
       "      <th>indie</th>\n",
       "      <th>electronic</th>\n",
       "      <th>female vocalists</th>\n",
       "      <th>dance</th>\n",
       "      <th>00s</th>\n",
       "      <th>alternative rock</th>\n",
       "      <th>...</th>\n",
       "      <th>vggish_119</th>\n",
       "      <th>vggish_120</th>\n",
       "      <th>vggish_121</th>\n",
       "      <th>vggish_122</th>\n",
       "      <th>vggish_123</th>\n",
       "      <th>vggish_124</th>\n",
       "      <th>vggish_125</th>\n",
       "      <th>vggish_126</th>\n",
       "      <th>vggish_127</th>\n",
       "      <th>vggish_128</th>\n",
       "    </tr>\n",
       "  </thead>\n",
       "  <tbody>\n",
       "    <tr>\n",
       "      <th>536969</th>\n",
       "      <td>66005393</td>\n",
       "      <td>0.071554</td>\n",
       "      <td>0.306421</td>\n",
       "      <td>0.048542</td>\n",
       "      <td>0.054100</td>\n",
       "      <td>0.062061</td>\n",
       "      <td>0.325613</td>\n",
       "      <td>0.040742</td>\n",
       "      <td>0.021728</td>\n",
       "      <td>0.011157</td>\n",
       "      <td>...</td>\n",
       "      <td>0.543726</td>\n",
       "      <td>-0.208680</td>\n",
       "      <td>-0.185012</td>\n",
       "      <td>-0.134909</td>\n",
       "      <td>-0.438505</td>\n",
       "      <td>0.124369</td>\n",
       "      <td>0.138185</td>\n",
       "      <td>-0.637147</td>\n",
       "      <td>-0.017909</td>\n",
       "      <td>-0.003953</td>\n",
       "    </tr>\n",
       "    <tr>\n",
       "      <th>378883</th>\n",
       "      <td>45460100</td>\n",
       "      <td>0.036997</td>\n",
       "      <td>0.086162</td>\n",
       "      <td>0.024377</td>\n",
       "      <td>0.037385</td>\n",
       "      <td>0.426340</td>\n",
       "      <td>0.043818</td>\n",
       "      <td>0.300892</td>\n",
       "      <td>0.014645</td>\n",
       "      <td>0.006188</td>\n",
       "      <td>...</td>\n",
       "      <td>-0.018932</td>\n",
       "      <td>-0.024307</td>\n",
       "      <td>-0.110146</td>\n",
       "      <td>-0.035656</td>\n",
       "      <td>-0.343013</td>\n",
       "      <td>-0.059930</td>\n",
       "      <td>-0.018535</td>\n",
       "      <td>-0.596535</td>\n",
       "      <td>0.199394</td>\n",
       "      <td>-0.041864</td>\n",
       "    </tr>\n",
       "    <tr>\n",
       "      <th>167590</th>\n",
       "      <td>40281676</td>\n",
       "      <td>0.047446</td>\n",
       "      <td>0.318348</td>\n",
       "      <td>0.037440</td>\n",
       "      <td>0.046209</td>\n",
       "      <td>0.241585</td>\n",
       "      <td>0.165512</td>\n",
       "      <td>0.303018</td>\n",
       "      <td>0.021383</td>\n",
       "      <td>0.007285</td>\n",
       "      <td>...</td>\n",
       "      <td>0.365033</td>\n",
       "      <td>-0.148051</td>\n",
       "      <td>-0.103554</td>\n",
       "      <td>0.055882</td>\n",
       "      <td>-0.386947</td>\n",
       "      <td>0.043183</td>\n",
       "      <td>-0.092979</td>\n",
       "      <td>-0.699584</td>\n",
       "      <td>0.015895</td>\n",
       "      <td>-0.034829</td>\n",
       "    </tr>\n",
       "    <tr>\n",
       "      <th>536080</th>\n",
       "      <td>22485165</td>\n",
       "      <td>0.046817</td>\n",
       "      <td>0.218019</td>\n",
       "      <td>0.019299</td>\n",
       "      <td>0.020978</td>\n",
       "      <td>0.217206</td>\n",
       "      <td>0.088055</td>\n",
       "      <td>0.480829</td>\n",
       "      <td>0.011503</td>\n",
       "      <td>0.005262</td>\n",
       "      <td>...</td>\n",
       "      <td>0.111647</td>\n",
       "      <td>0.004004</td>\n",
       "      <td>-0.062023</td>\n",
       "      <td>0.046582</td>\n",
       "      <td>-0.394918</td>\n",
       "      <td>-0.043548</td>\n",
       "      <td>-0.041702</td>\n",
       "      <td>-0.630187</td>\n",
       "      <td>0.071891</td>\n",
       "      <td>-0.052904</td>\n",
       "    </tr>\n",
       "    <tr>\n",
       "      <th>641948</th>\n",
       "      <td>44134329</td>\n",
       "      <td>0.440288</td>\n",
       "      <td>0.061867</td>\n",
       "      <td>0.152635</td>\n",
       "      <td>0.115335</td>\n",
       "      <td>0.020610</td>\n",
       "      <td>0.040031</td>\n",
       "      <td>0.009992</td>\n",
       "      <td>0.025221</td>\n",
       "      <td>0.122237</td>\n",
       "      <td>...</td>\n",
       "      <td>0.589130</td>\n",
       "      <td>-0.188643</td>\n",
       "      <td>-0.302071</td>\n",
       "      <td>-0.186909</td>\n",
       "      <td>-0.365565</td>\n",
       "      <td>0.188420</td>\n",
       "      <td>-0.189164</td>\n",
       "      <td>-0.624328</td>\n",
       "      <td>0.219976</td>\n",
       "      <td>0.321445</td>\n",
       "    </tr>\n",
       "  </tbody>\n",
       "</table>\n",
       "<p>5 rows × 179 columns</p>\n",
       "</div>"
      ],
      "text/plain": [
       "        track_id      rock       pop  alternative     indie  electronic  \\\n",
       "536969  66005393  0.071554  0.306421     0.048542  0.054100    0.062061   \n",
       "378883  45460100  0.036997  0.086162     0.024377  0.037385    0.426340   \n",
       "167590  40281676  0.047446  0.318348     0.037440  0.046209    0.241585   \n",
       "536080  22485165  0.046817  0.218019     0.019299  0.020978    0.217206   \n",
       "641948  44134329  0.440288  0.061867     0.152635  0.115335    0.020610   \n",
       "\n",
       "        female vocalists     dance       00s  alternative rock  ...  \\\n",
       "536969          0.325613  0.040742  0.021728          0.011157  ...   \n",
       "378883          0.043818  0.300892  0.014645          0.006188  ...   \n",
       "167590          0.165512  0.303018  0.021383          0.007285  ...   \n",
       "536080          0.088055  0.480829  0.011503          0.005262  ...   \n",
       "641948          0.040031  0.009992  0.025221          0.122237  ...   \n",
       "\n",
       "        vggish_119  vggish_120  vggish_121  vggish_122  vggish_123  \\\n",
       "536969    0.543726   -0.208680   -0.185012   -0.134909   -0.438505   \n",
       "378883   -0.018932   -0.024307   -0.110146   -0.035656   -0.343013   \n",
       "167590    0.365033   -0.148051   -0.103554    0.055882   -0.386947   \n",
       "536080    0.111647    0.004004   -0.062023    0.046582   -0.394918   \n",
       "641948    0.589130   -0.188643   -0.302071   -0.186909   -0.365565   \n",
       "\n",
       "        vggish_124  vggish_125  vggish_126  vggish_127  vggish_128  \n",
       "536969    0.124369    0.138185   -0.637147   -0.017909   -0.003953  \n",
       "378883   -0.059930   -0.018535   -0.596535    0.199394   -0.041864  \n",
       "167590    0.043183   -0.092979   -0.699584    0.015895   -0.034829  \n",
       "536080   -0.043548   -0.041702   -0.630187    0.071891   -0.052904  \n",
       "641948    0.188420   -0.189164   -0.624328    0.219976    0.321445  \n",
       "\n",
       "[5 rows x 179 columns]"
      ]
     },
     "execution_count": 34,
     "metadata": {},
     "output_type": "execute_result"
    }
   ],
   "source": [
    "track_content_embedding.sample(5)"
   ]
  },
  {
   "cell_type": "markdown",
   "id": "eb11c907-647b-4f69-b10c-6a06ade2ac51",
   "metadata": {},
   "source": [
    "### user-genre-embedding\n",
    "\n",
    "Defines embeddings for users"
   ]
  },
  {
   "cell_type": "code",
   "execution_count": 23,
   "id": "bca704d1-9983-4719-a316-c069dea24988",
   "metadata": {},
   "outputs": [
    {
     "data": {
      "text/plain": [
       "(2662604, 66)"
      ]
     },
     "execution_count": 23,
     "metadata": {},
     "output_type": "execute_result"
    }
   ],
   "source": [
    "user_genre_embedding = pd.read_csv(data_path.joinpath('user-genre-embedding.csv')) #, nrows=1_000_000)\n",
    "user_genre_embedding.shape"
   ]
  },
  {
   "cell_type": "code",
   "execution_count": 36,
   "id": "f7443501-f1c1-4586-96c5-cea69eb13de5",
   "metadata": {},
   "outputs": [
    {
     "data": {
      "text/plain": [
       "Index(['user_id', 'genre_1_cnt', 'genre_2_cnt', 'genre_3_cnt', 'genre_4_cnt',\n",
       "       'genre_5_cnt', 'genre_6_cnt', 'genre_7_cnt', 'genre_8_cnt',\n",
       "       'genre_9_cnt', 'genre_10_cnt', 'genre_11_cnt', 'genre_12_cnt',\n",
       "       'genre_13_cnt', 'genre_14_cnt', 'genre_15_cnt', 'genre_16_cnt',\n",
       "       'genre_17_cnt', 'genre_18_cnt', 'genre_19_cnt', 'genre_20_cnt',\n",
       "       'genre_21_cnt', 'genre_22_cnt', 'genre_23_cnt', 'genre_24_cnt',\n",
       "       'genre_25_cnt', 'genre_26_cnt', 'genre_27_cnt', 'genre_28_cnt',\n",
       "       'genre_29_cnt', 'genre_30_cnt', 'genre_31_cnt', 'genre_32_cnt',\n",
       "       'genre_33_cnt', 'genre_34_cnt', 'genre_35_cnt', 'genre_36_cnt',\n",
       "       'genre_37_cnt', 'genre_38_cnt', 'genre_39_cnt', 'genre_40_cnt',\n",
       "       'genre_41_cnt', 'genre_42_cnt', 'genre_43_cnt', 'genre_44_cnt',\n",
       "       'genre_45_cnt', 'genre_46_cnt', 'genre_47_cnt', 'genre_48_cnt',\n",
       "       'genre_49_cnt', 'genre_50_cnt', 'genre_51_cnt', 'genre_52_cnt',\n",
       "       'genre_53_cnt', 'genre_54_cnt', 'genre_55_cnt', 'genre_56_cnt',\n",
       "       'genre_57_cnt', 'genre_58_cnt', 'genre_59_cnt', 'genre_60_cnt',\n",
       "       'genre_61_cnt', 'genre_62_cnt', 'genre_63_cnt', 'genre_64_cnt',\n",
       "       'genre_65_cnt'],\n",
       "      dtype='object')"
      ]
     },
     "execution_count": 36,
     "metadata": {},
     "output_type": "execute_result"
    }
   ],
   "source": [
    "user_genre_embedding.columns"
   ]
  },
  {
   "cell_type": "code",
   "execution_count": 35,
   "id": "e84bb869-cf60-422d-aed1-24cde5d0923d",
   "metadata": {},
   "outputs": [
    {
     "data": {
      "text/html": [
       "<div>\n",
       "<style scoped>\n",
       "    .dataframe tbody tr th:only-of-type {\n",
       "        vertical-align: middle;\n",
       "    }\n",
       "\n",
       "    .dataframe tbody tr th {\n",
       "        vertical-align: top;\n",
       "    }\n",
       "\n",
       "    .dataframe thead th {\n",
       "        text-align: right;\n",
       "    }\n",
       "</style>\n",
       "<table border=\"1\" class=\"dataframe\">\n",
       "  <thead>\n",
       "    <tr style=\"text-align: right;\">\n",
       "      <th></th>\n",
       "      <th>user_id</th>\n",
       "      <th>genre_1_cnt</th>\n",
       "      <th>genre_2_cnt</th>\n",
       "      <th>genre_3_cnt</th>\n",
       "      <th>genre_4_cnt</th>\n",
       "      <th>genre_5_cnt</th>\n",
       "      <th>genre_6_cnt</th>\n",
       "      <th>genre_7_cnt</th>\n",
       "      <th>genre_8_cnt</th>\n",
       "      <th>genre_9_cnt</th>\n",
       "      <th>...</th>\n",
       "      <th>genre_56_cnt</th>\n",
       "      <th>genre_57_cnt</th>\n",
       "      <th>genre_58_cnt</th>\n",
       "      <th>genre_59_cnt</th>\n",
       "      <th>genre_60_cnt</th>\n",
       "      <th>genre_61_cnt</th>\n",
       "      <th>genre_62_cnt</th>\n",
       "      <th>genre_63_cnt</th>\n",
       "      <th>genre_64_cnt</th>\n",
       "      <th>genre_65_cnt</th>\n",
       "    </tr>\n",
       "  </thead>\n",
       "  <tbody>\n",
       "    <tr>\n",
       "      <th>1269919</th>\n",
       "      <td>6ff52026460cb8de54751f5f38e4832c</td>\n",
       "      <td>0.000000</td>\n",
       "      <td>0.0</td>\n",
       "      <td>0.0</td>\n",
       "      <td>0.0</td>\n",
       "      <td>0.0</td>\n",
       "      <td>0.0</td>\n",
       "      <td>0.0</td>\n",
       "      <td>0.0</td>\n",
       "      <td>0.0</td>\n",
       "      <td>...</td>\n",
       "      <td>0.0</td>\n",
       "      <td>0.0</td>\n",
       "      <td>0.0</td>\n",
       "      <td>0.0</td>\n",
       "      <td>0.0</td>\n",
       "      <td>0.0</td>\n",
       "      <td>0.0</td>\n",
       "      <td>0.0</td>\n",
       "      <td>0.0</td>\n",
       "      <td>0.0</td>\n",
       "    </tr>\n",
       "    <tr>\n",
       "      <th>910296</th>\n",
       "      <td>cd2990c897e43d268bcb8437a9b6beb0</td>\n",
       "      <td>0.000000</td>\n",
       "      <td>0.0</td>\n",
       "      <td>0.0</td>\n",
       "      <td>0.0</td>\n",
       "      <td>0.0</td>\n",
       "      <td>0.0</td>\n",
       "      <td>0.0</td>\n",
       "      <td>0.0</td>\n",
       "      <td>0.0</td>\n",
       "      <td>...</td>\n",
       "      <td>0.0</td>\n",
       "      <td>0.0</td>\n",
       "      <td>0.0</td>\n",
       "      <td>0.0</td>\n",
       "      <td>0.0</td>\n",
       "      <td>0.0</td>\n",
       "      <td>0.0</td>\n",
       "      <td>0.0</td>\n",
       "      <td>0.0</td>\n",
       "      <td>0.0</td>\n",
       "    </tr>\n",
       "    <tr>\n",
       "      <th>1780709</th>\n",
       "      <td>56346f101ab0d7d0e14d0f43e7d66a22</td>\n",
       "      <td>0.000000</td>\n",
       "      <td>0.0</td>\n",
       "      <td>0.0</td>\n",
       "      <td>0.0</td>\n",
       "      <td>0.0</td>\n",
       "      <td>0.0</td>\n",
       "      <td>0.0</td>\n",
       "      <td>0.0</td>\n",
       "      <td>0.0</td>\n",
       "      <td>...</td>\n",
       "      <td>0.0</td>\n",
       "      <td>0.0</td>\n",
       "      <td>0.0</td>\n",
       "      <td>0.0</td>\n",
       "      <td>0.0</td>\n",
       "      <td>0.0</td>\n",
       "      <td>0.0</td>\n",
       "      <td>0.0</td>\n",
       "      <td>0.0</td>\n",
       "      <td>0.0</td>\n",
       "    </tr>\n",
       "    <tr>\n",
       "      <th>727129</th>\n",
       "      <td>0b91f9b2981d01c5631a6be05788e3cd</td>\n",
       "      <td>0.000000</td>\n",
       "      <td>0.0</td>\n",
       "      <td>0.0</td>\n",
       "      <td>0.0</td>\n",
       "      <td>0.0</td>\n",
       "      <td>0.0</td>\n",
       "      <td>0.0</td>\n",
       "      <td>0.0</td>\n",
       "      <td>0.0</td>\n",
       "      <td>...</td>\n",
       "      <td>0.0</td>\n",
       "      <td>0.0</td>\n",
       "      <td>0.0</td>\n",
       "      <td>0.0</td>\n",
       "      <td>0.0</td>\n",
       "      <td>0.0</td>\n",
       "      <td>0.0</td>\n",
       "      <td>0.0</td>\n",
       "      <td>0.0</td>\n",
       "      <td>0.0</td>\n",
       "    </tr>\n",
       "    <tr>\n",
       "      <th>718565</th>\n",
       "      <td>20ce2166300bc09ef9e2646f858a291f</td>\n",
       "      <td>0.083333</td>\n",
       "      <td>0.0</td>\n",
       "      <td>0.0</td>\n",
       "      <td>0.0</td>\n",
       "      <td>0.0</td>\n",
       "      <td>0.0</td>\n",
       "      <td>0.0</td>\n",
       "      <td>0.0</td>\n",
       "      <td>0.0</td>\n",
       "      <td>...</td>\n",
       "      <td>0.0</td>\n",
       "      <td>0.0</td>\n",
       "      <td>0.0</td>\n",
       "      <td>0.0</td>\n",
       "      <td>0.0</td>\n",
       "      <td>0.0</td>\n",
       "      <td>0.0</td>\n",
       "      <td>0.0</td>\n",
       "      <td>0.0</td>\n",
       "      <td>0.0</td>\n",
       "    </tr>\n",
       "  </tbody>\n",
       "</table>\n",
       "<p>5 rows × 66 columns</p>\n",
       "</div>"
      ],
      "text/plain": [
       "                                  user_id  genre_1_cnt  genre_2_cnt  \\\n",
       "1269919  6ff52026460cb8de54751f5f38e4832c     0.000000          0.0   \n",
       "910296   cd2990c897e43d268bcb8437a9b6beb0     0.000000          0.0   \n",
       "1780709  56346f101ab0d7d0e14d0f43e7d66a22     0.000000          0.0   \n",
       "727129   0b91f9b2981d01c5631a6be05788e3cd     0.000000          0.0   \n",
       "718565   20ce2166300bc09ef9e2646f858a291f     0.083333          0.0   \n",
       "\n",
       "         genre_3_cnt  genre_4_cnt  genre_5_cnt  genre_6_cnt  genre_7_cnt  \\\n",
       "1269919          0.0          0.0          0.0          0.0          0.0   \n",
       "910296           0.0          0.0          0.0          0.0          0.0   \n",
       "1780709          0.0          0.0          0.0          0.0          0.0   \n",
       "727129           0.0          0.0          0.0          0.0          0.0   \n",
       "718565           0.0          0.0          0.0          0.0          0.0   \n",
       "\n",
       "         genre_8_cnt  genre_9_cnt  ...  genre_56_cnt  genre_57_cnt  \\\n",
       "1269919          0.0          0.0  ...           0.0           0.0   \n",
       "910296           0.0          0.0  ...           0.0           0.0   \n",
       "1780709          0.0          0.0  ...           0.0           0.0   \n",
       "727129           0.0          0.0  ...           0.0           0.0   \n",
       "718565           0.0          0.0  ...           0.0           0.0   \n",
       "\n",
       "         genre_58_cnt  genre_59_cnt  genre_60_cnt  genre_61_cnt  genre_62_cnt  \\\n",
       "1269919           0.0           0.0           0.0           0.0           0.0   \n",
       "910296            0.0           0.0           0.0           0.0           0.0   \n",
       "1780709           0.0           0.0           0.0           0.0           0.0   \n",
       "727129            0.0           0.0           0.0           0.0           0.0   \n",
       "718565            0.0           0.0           0.0           0.0           0.0   \n",
       "\n",
       "         genre_63_cnt  genre_64_cnt  genre_65_cnt  \n",
       "1269919           0.0           0.0           0.0  \n",
       "910296            0.0           0.0           0.0  \n",
       "1780709           0.0           0.0           0.0  \n",
       "727129            0.0           0.0           0.0  \n",
       "718565            0.0           0.0           0.0  \n",
       "\n",
       "[5 rows x 66 columns]"
      ]
     },
     "execution_count": 35,
     "metadata": {},
     "output_type": "execute_result"
    }
   ],
   "source": [
    "user_genre_embedding.sample(5)"
   ]
  },
  {
   "cell_type": "code",
   "execution_count": 129,
   "id": "9fdc585b-772d-457e-ac19-21f8f4c23251",
   "metadata": {},
   "outputs": [
    {
     "data": {
      "text/plain": [
       "(1000000, 7)"
      ]
     },
     "execution_count": 129,
     "metadata": {},
     "output_type": "execute_result"
    }
   ],
   "source": [
    "ailab = pd.read_csv(data_path.joinpath('ailab.csv'), nrows=1_000_000)\n",
    "ailab.shape"
   ]
  },
  {
   "cell_type": "code",
   "execution_count": 43,
   "id": "2e95d296-c269-4234-b42c-9ac65a930a7d",
   "metadata": {},
   "outputs": [
    {
     "data": {
      "text/plain": [
       "Index(['user_id', 'packet_date', 'session_id', 'track_id', 'src_id',\n",
       "       'event_name', 'playevent_play_duration'],\n",
       "      dtype='object')"
      ]
     },
     "execution_count": 43,
     "metadata": {},
     "output_type": "execute_result"
    }
   ],
   "source": [
    "ailab.columns"
   ]
  },
  {
   "cell_type": "code",
   "execution_count": 44,
   "id": "cfd8c829-1bc2-4aa3-9429-7cc0f02665ec",
   "metadata": {},
   "outputs": [
    {
     "data": {
      "text/html": [
       "<div>\n",
       "<style scoped>\n",
       "    .dataframe tbody tr th:only-of-type {\n",
       "        vertical-align: middle;\n",
       "    }\n",
       "\n",
       "    .dataframe tbody tr th {\n",
       "        vertical-align: top;\n",
       "    }\n",
       "\n",
       "    .dataframe thead th {\n",
       "        text-align: right;\n",
       "    }\n",
       "</style>\n",
       "<table border=\"1\" class=\"dataframe\">\n",
       "  <thead>\n",
       "    <tr style=\"text-align: right;\">\n",
       "      <th></th>\n",
       "      <th>user_id</th>\n",
       "      <th>packet_date</th>\n",
       "      <th>session_id</th>\n",
       "      <th>track_id</th>\n",
       "      <th>src_id</th>\n",
       "      <th>event_name</th>\n",
       "      <th>playevent_play_duration</th>\n",
       "    </tr>\n",
       "  </thead>\n",
       "  <tbody>\n",
       "    <tr>\n",
       "      <th>280019</th>\n",
       "      <td>219F86D05C76364E1B212E85F66A4F0C</td>\n",
       "      <td>2022-04-12 14:38:35</td>\n",
       "      <td>2109757323</td>\n",
       "      <td>73253778</td>\n",
       "      <td>73253778</td>\n",
       "      <td>playevent</td>\n",
       "      <td>205</td>\n",
       "    </tr>\n",
       "    <tr>\n",
       "      <th>982791</th>\n",
       "      <td>C071C458AD9CB8B4235C031E77281A62</td>\n",
       "      <td>2022-04-17 22:34:56</td>\n",
       "      <td>-253572135</td>\n",
       "      <td>119584455</td>\n",
       "      <td>6498967</td>\n",
       "      <td>playevent</td>\n",
       "      <td>0</td>\n",
       "    </tr>\n",
       "    <tr>\n",
       "      <th>598716</th>\n",
       "      <td>AF3A7A766BFDECC636E6545D424421E8</td>\n",
       "      <td>2022-04-20 00:17:42</td>\n",
       "      <td>736824604</td>\n",
       "      <td>73226141</td>\n",
       "      <td>1062105</td>\n",
       "      <td>playevent</td>\n",
       "      <td>191</td>\n",
       "    </tr>\n",
       "    <tr>\n",
       "      <th>28432</th>\n",
       "      <td>5B91A90D5C2BFD6029159F2276A524C7</td>\n",
       "      <td>2022-04-26 22:07:23</td>\n",
       "      <td>-1581502475</td>\n",
       "      <td>114283196</td>\n",
       "      <td>1062105</td>\n",
       "      <td>playevent</td>\n",
       "      <td>1</td>\n",
       "    </tr>\n",
       "    <tr>\n",
       "      <th>992106</th>\n",
       "      <td>BA21D52CF37A902024E12782C4A87406</td>\n",
       "      <td>2022-04-27 06:03:33</td>\n",
       "      <td>-2058555095</td>\n",
       "      <td>87962394</td>\n",
       "      <td>6936835</td>\n",
       "      <td>playevent</td>\n",
       "      <td>190</td>\n",
       "    </tr>\n",
       "  </tbody>\n",
       "</table>\n",
       "</div>"
      ],
      "text/plain": [
       "                                 user_id          packet_date  session_id  \\\n",
       "280019  219F86D05C76364E1B212E85F66A4F0C  2022-04-12 14:38:35  2109757323   \n",
       "982791  C071C458AD9CB8B4235C031E77281A62  2022-04-17 22:34:56  -253572135   \n",
       "598716  AF3A7A766BFDECC636E6545D424421E8  2022-04-20 00:17:42   736824604   \n",
       "28432   5B91A90D5C2BFD6029159F2276A524C7  2022-04-26 22:07:23 -1581502475   \n",
       "992106  BA21D52CF37A902024E12782C4A87406  2022-04-27 06:03:33 -2058555095   \n",
       "\n",
       "         track_id    src_id event_name  playevent_play_duration  \n",
       "280019   73253778  73253778  playevent                      205  \n",
       "982791  119584455   6498967  playevent                        0  \n",
       "598716   73226141   1062105  playevent                      191  \n",
       "28432   114283196   1062105  playevent                        1  \n",
       "992106   87962394   6936835  playevent                      190  "
      ]
     },
     "execution_count": 44,
     "metadata": {},
     "output_type": "execute_result"
    }
   ],
   "source": [
    "ailab.sample(5)"
   ]
  },
  {
   "cell_type": "markdown",
   "id": "6132ea09-5189-49a3-8f85-3b5a92cf43f1",
   "metadata": {},
   "source": [
    "## Extract very small subset"
   ]
  },
  {
   "cell_type": "code",
   "execution_count": 34,
   "id": "20a31377-00b3-493e-868a-cddafc4afb0a",
   "metadata": {},
   "outputs": [
    {
     "data": {
      "text/plain": [
       "(144709347, 6)"
      ]
     },
     "execution_count": 34,
     "metadata": {},
     "output_type": "execute_result"
    }
   ],
   "source": [
    "from pathlib import Path\n",
    "data_path = Path.home().joinpath('data/sberzvuk/ailab_data/')\n",
    "\n",
    "clickstream = pd.read_csv(data_path.joinpath('clickstream.csv'))\n",
    "clickstream.shape"
   ]
  },
  {
   "cell_type": "code",
   "execution_count": 35,
   "id": "d85810df-3a01-481c-aa10-b838e2fc8f3e",
   "metadata": {},
   "outputs": [],
   "source": [
    "clickstream.rename(columns={\n",
    "    'playevent_play_duration': 'dur_sec', 'proc_dt': 'event_dt', 'event_nm': 'event', 'action_nm': 'action',\n",
    "}, inplace=True)"
   ]
  },
  {
   "cell_type": "code",
   "execution_count": 36,
   "id": "227ef48a-9f4c-4d31-a150-f131571f9321",
   "metadata": {},
   "outputs": [
    {
     "data": {
      "text/html": [
       "<div>\n",
       "<style scoped>\n",
       "    .dataframe tbody tr th:only-of-type {\n",
       "        vertical-align: middle;\n",
       "    }\n",
       "\n",
       "    .dataframe tbody tr th {\n",
       "        vertical-align: top;\n",
       "    }\n",
       "\n",
       "    .dataframe thead th {\n",
       "        text-align: right;\n",
       "    }\n",
       "</style>\n",
       "<table border=\"1\" class=\"dataframe\">\n",
       "  <thead>\n",
       "    <tr style=\"text-align: right;\">\n",
       "      <th></th>\n",
       "      <th>user_id</th>\n",
       "      <th>track_id</th>\n",
       "      <th>event</th>\n",
       "      <th>action</th>\n",
       "      <th>dur_sec</th>\n",
       "      <th>event_dt</th>\n",
       "    </tr>\n",
       "  </thead>\n",
       "  <tbody>\n",
       "    <tr>\n",
       "      <th>0</th>\n",
       "      <td>e90208b469c84a84c91d81d905028fed</td>\n",
       "      <td>55099089</td>\n",
       "      <td>playevent</td>\n",
       "      <td>NaN</td>\n",
       "      <td>18</td>\n",
       "      <td>2022-05-02</td>\n",
       "    </tr>\n",
       "    <tr>\n",
       "      <th>1</th>\n",
       "      <td>e90208b469c84a84c91d81d905028fed</td>\n",
       "      <td>15158288</td>\n",
       "      <td>playevent</td>\n",
       "      <td>NaN</td>\n",
       "      <td>299</td>\n",
       "      <td>2022-05-02</td>\n",
       "    </tr>\n",
       "    <tr>\n",
       "      <th>2</th>\n",
       "      <td>e90208b469c84a84c91d81d905028fed</td>\n",
       "      <td>64292273</td>\n",
       "      <td>playevent</td>\n",
       "      <td>NaN</td>\n",
       "      <td>307</td>\n",
       "      <td>2022-05-02</td>\n",
       "    </tr>\n",
       "    <tr>\n",
       "      <th>3</th>\n",
       "      <td>e90208b469c84a84c91d81d905028fed</td>\n",
       "      <td>53314945</td>\n",
       "      <td>playevent</td>\n",
       "      <td>NaN</td>\n",
       "      <td>665</td>\n",
       "      <td>2022-05-02</td>\n",
       "    </tr>\n",
       "    <tr>\n",
       "      <th>4</th>\n",
       "      <td>e90208b469c84a84c91d81d905028fed</td>\n",
       "      <td>5846537</td>\n",
       "      <td>playevent</td>\n",
       "      <td>NaN</td>\n",
       "      <td>406</td>\n",
       "      <td>2022-05-02</td>\n",
       "    </tr>\n",
       "    <tr>\n",
       "      <th>5</th>\n",
       "      <td>e90208b469c84a84c91d81d905028fed</td>\n",
       "      <td>44296244</td>\n",
       "      <td>playevent</td>\n",
       "      <td>NaN</td>\n",
       "      <td>180</td>\n",
       "      <td>2022-05-02</td>\n",
       "    </tr>\n",
       "    <tr>\n",
       "      <th>6</th>\n",
       "      <td>e90208b469c84a84c91d81d905028fed</td>\n",
       "      <td>11453390</td>\n",
       "      <td>playevent</td>\n",
       "      <td>NaN</td>\n",
       "      <td>218</td>\n",
       "      <td>2022-05-02</td>\n",
       "    </tr>\n",
       "    <tr>\n",
       "      <th>7</th>\n",
       "      <td>e90208b469c84a84c91d81d905028fed</td>\n",
       "      <td>23740059</td>\n",
       "      <td>playevent</td>\n",
       "      <td>NaN</td>\n",
       "      <td>396</td>\n",
       "      <td>2022-05-02</td>\n",
       "    </tr>\n",
       "    <tr>\n",
       "      <th>8</th>\n",
       "      <td>e90208b469c84a84c91d81d905028fed</td>\n",
       "      <td>13032107</td>\n",
       "      <td>playevent</td>\n",
       "      <td>NaN</td>\n",
       "      <td>659</td>\n",
       "      <td>2022-05-02</td>\n",
       "    </tr>\n",
       "    <tr>\n",
       "      <th>9</th>\n",
       "      <td>e90208b469c84a84c91d81d905028fed</td>\n",
       "      <td>5508071</td>\n",
       "      <td>playevent</td>\n",
       "      <td>NaN</td>\n",
       "      <td>117</td>\n",
       "      <td>2022-05-02</td>\n",
       "    </tr>\n",
       "  </tbody>\n",
       "</table>\n",
       "</div>"
      ],
      "text/plain": [
       "                            user_id  track_id      event action  dur_sec  \\\n",
       "0  e90208b469c84a84c91d81d905028fed  55099089  playevent    NaN       18   \n",
       "1  e90208b469c84a84c91d81d905028fed  15158288  playevent    NaN      299   \n",
       "2  e90208b469c84a84c91d81d905028fed  64292273  playevent    NaN      307   \n",
       "3  e90208b469c84a84c91d81d905028fed  53314945  playevent    NaN      665   \n",
       "4  e90208b469c84a84c91d81d905028fed   5846537  playevent    NaN      406   \n",
       "5  e90208b469c84a84c91d81d905028fed  44296244  playevent    NaN      180   \n",
       "6  e90208b469c84a84c91d81d905028fed  11453390  playevent    NaN      218   \n",
       "7  e90208b469c84a84c91d81d905028fed  23740059  playevent    NaN      396   \n",
       "8  e90208b469c84a84c91d81d905028fed  13032107  playevent    NaN      659   \n",
       "9  e90208b469c84a84c91d81d905028fed   5508071  playevent    NaN      117   \n",
       "\n",
       "     event_dt  \n",
       "0  2022-05-02  \n",
       "1  2022-05-02  \n",
       "2  2022-05-02  \n",
       "3  2022-05-02  \n",
       "4  2022-05-02  \n",
       "5  2022-05-02  \n",
       "6  2022-05-02  \n",
       "7  2022-05-02  \n",
       "8  2022-05-02  \n",
       "9  2022-05-02  "
      ]
     },
     "execution_count": 36,
     "metadata": {},
     "output_type": "execute_result"
    }
   ],
   "source": [
    "clickstream.head(10)"
   ]
  },
  {
   "cell_type": "code",
   "execution_count": 37,
   "id": "eb781410-2b31-4dc5-ad72-28f0c782728c",
   "metadata": {},
   "outputs": [
    {
     "data": {
      "text/plain": [
       "array(['playevent', 'content_action_event'], dtype=object)"
      ]
     },
     "execution_count": 37,
     "metadata": {},
     "output_type": "execute_result"
    }
   ],
   "source": [
    "clickstream.event.unique()"
   ]
  },
  {
   "cell_type": "code",
   "execution_count": 198,
   "id": "db64e0a8-0780-425e-89c3-54663b8e7d7f",
   "metadata": {},
   "outputs": [
    {
     "data": {
      "text/plain": [
       "array([nan, 'LIKE', 'BLOCK_ITEM_ON'], dtype=object)"
      ]
     },
     "execution_count": 198,
     "metadata": {},
     "output_type": "execute_result"
    }
   ],
   "source": [
    "clickstream.action.unique()"
   ]
  },
  {
   "cell_type": "code",
   "execution_count": 38,
   "id": "1b551f54-6b93-4cc1-ad6f-38b3f0d2bf6a",
   "metadata": {},
   "outputs": [
    {
     "data": {
      "text/plain": [
       "('2022-04-07', '2022-05-05')"
      ]
     },
     "execution_count": 38,
     "metadata": {},
     "output_type": "execute_result"
    }
   ],
   "source": [
    "clickstream.event_dt.min(), clickstream.event_dt.max()"
   ]
  },
  {
   "cell_type": "code",
   "execution_count": 39,
   "id": "ca1a3c3f-5921-4bab-a352-63265ea84887",
   "metadata": {},
   "outputs": [
    {
     "data": {
      "text/plain": [
       "813078"
      ]
     },
     "execution_count": 39,
     "metadata": {},
     "output_type": "execute_result"
    }
   ],
   "source": [
    "clickstream.user_id.nunique()"
   ]
  },
  {
   "cell_type": "code",
   "execution_count": 40,
   "id": "5550e733-cf39-4a76-b068-98db43524d8c",
   "metadata": {},
   "outputs": [
    {
     "data": {
      "text/plain": [
       "2399908"
      ]
     },
     "execution_count": 40,
     "metadata": {},
     "output_type": "execute_result"
    }
   ],
   "source": [
    "clickstream.track_id.nunique()"
   ]
  },
  {
   "cell_type": "code",
   "execution_count": 57,
   "id": "50bc67dc-d163-42bd-b0fb-bc4a00e01464",
   "metadata": {},
   "outputs": [
    {
     "data": {
      "text/plain": [
       "(1000,)"
      ]
     },
     "execution_count": 57,
     "metadata": {},
     "output_type": "execute_result"
    }
   ],
   "source": [
    "rng = np.random.default_rng(43)\n",
    "ds = clickstream\n",
    "users = rng.choice(ds.user_id.unique(), 1000)\n",
    "users.shape"
   ]
  },
  {
   "cell_type": "code",
   "execution_count": 138,
   "id": "25baa278-77e0-4fc4-8925-951898465f8f",
   "metadata": {},
   "outputs": [
    {
     "name": "stdout",
     "output_type": "stream",
     "text": [
      "CPU times: user 2.19 s, sys: 467 ms, total: 2.65 s\n",
      "Wall time: 3.01 s\n"
     ]
    },
    {
     "data": {
      "text/plain": [
       "(192749, 6)"
      ]
     },
     "execution_count": 138,
     "metadata": {},
     "output_type": "execute_result"
    }
   ],
   "source": [
    "%%time\n",
    "\n",
    "ds_small = ds[ds.user_id.isin(users)]\n",
    "ds_small.reset_index(drop=True, inplace=True)\n",
    "ds_small.shape"
   ]
  },
  {
   "cell_type": "code",
   "execution_count": 139,
   "id": "d3b974ec-fa2b-4826-9ed7-aadcbc4508bd",
   "metadata": {},
   "outputs": [
    {
     "data": {
      "text/html": [
       "<div>\n",
       "<style scoped>\n",
       "    .dataframe tbody tr th:only-of-type {\n",
       "        vertical-align: middle;\n",
       "    }\n",
       "\n",
       "    .dataframe tbody tr th {\n",
       "        vertical-align: top;\n",
       "    }\n",
       "\n",
       "    .dataframe thead th {\n",
       "        text-align: right;\n",
       "    }\n",
       "</style>\n",
       "<table border=\"1\" class=\"dataframe\">\n",
       "  <thead>\n",
       "    <tr style=\"text-align: right;\">\n",
       "      <th></th>\n",
       "      <th>user_id</th>\n",
       "      <th>track_id</th>\n",
       "      <th>event</th>\n",
       "      <th>action</th>\n",
       "      <th>dur_sec</th>\n",
       "      <th>event_dt</th>\n",
       "    </tr>\n",
       "  </thead>\n",
       "  <tbody>\n",
       "    <tr>\n",
       "      <th>0</th>\n",
       "      <td>c93f24e9efb2816c8a7fbe32cfdcafe0</td>\n",
       "      <td>16094882</td>\n",
       "      <td>playevent</td>\n",
       "      <td>NaN</td>\n",
       "      <td>4</td>\n",
       "      <td>2022-05-02</td>\n",
       "    </tr>\n",
       "    <tr>\n",
       "      <th>1</th>\n",
       "      <td>c93f24e9efb2816c8a7fbe32cfdcafe0</td>\n",
       "      <td>63311776</td>\n",
       "      <td>playevent</td>\n",
       "      <td>NaN</td>\n",
       "      <td>152</td>\n",
       "      <td>2022-05-02</td>\n",
       "    </tr>\n",
       "    <tr>\n",
       "      <th>2</th>\n",
       "      <td>c93f24e9efb2816c8a7fbe32cfdcafe0</td>\n",
       "      <td>71291041</td>\n",
       "      <td>playevent</td>\n",
       "      <td>NaN</td>\n",
       "      <td>160</td>\n",
       "      <td>2022-05-02</td>\n",
       "    </tr>\n",
       "    <tr>\n",
       "      <th>3</th>\n",
       "      <td>c93f24e9efb2816c8a7fbe32cfdcafe0</td>\n",
       "      <td>62530131</td>\n",
       "      <td>playevent</td>\n",
       "      <td>NaN</td>\n",
       "      <td>315</td>\n",
       "      <td>2022-05-02</td>\n",
       "    </tr>\n",
       "    <tr>\n",
       "      <th>4</th>\n",
       "      <td>c93f24e9efb2816c8a7fbe32cfdcafe0</td>\n",
       "      <td>54018220</td>\n",
       "      <td>playevent</td>\n",
       "      <td>NaN</td>\n",
       "      <td>284</td>\n",
       "      <td>2022-05-02</td>\n",
       "    </tr>\n",
       "    <tr>\n",
       "      <th>5</th>\n",
       "      <td>c93f24e9efb2816c8a7fbe32cfdcafe0</td>\n",
       "      <td>54018270</td>\n",
       "      <td>playevent</td>\n",
       "      <td>NaN</td>\n",
       "      <td>225</td>\n",
       "      <td>2022-05-02</td>\n",
       "    </tr>\n",
       "    <tr>\n",
       "      <th>6</th>\n",
       "      <td>c93f24e9efb2816c8a7fbe32cfdcafe0</td>\n",
       "      <td>47467110</td>\n",
       "      <td>playevent</td>\n",
       "      <td>NaN</td>\n",
       "      <td>308</td>\n",
       "      <td>2022-05-02</td>\n",
       "    </tr>\n",
       "    <tr>\n",
       "      <th>7</th>\n",
       "      <td>c93f24e9efb2816c8a7fbe32cfdcafe0</td>\n",
       "      <td>74874065</td>\n",
       "      <td>playevent</td>\n",
       "      <td>NaN</td>\n",
       "      <td>245</td>\n",
       "      <td>2022-05-02</td>\n",
       "    </tr>\n",
       "    <tr>\n",
       "      <th>8</th>\n",
       "      <td>c93f24e9efb2816c8a7fbe32cfdcafe0</td>\n",
       "      <td>64264942</td>\n",
       "      <td>playevent</td>\n",
       "      <td>NaN</td>\n",
       "      <td>231</td>\n",
       "      <td>2022-05-02</td>\n",
       "    </tr>\n",
       "    <tr>\n",
       "      <th>9</th>\n",
       "      <td>c93f24e9efb2816c8a7fbe32cfdcafe0</td>\n",
       "      <td>63301745</td>\n",
       "      <td>playevent</td>\n",
       "      <td>NaN</td>\n",
       "      <td>106</td>\n",
       "      <td>2022-05-02</td>\n",
       "    </tr>\n",
       "  </tbody>\n",
       "</table>\n",
       "</div>"
      ],
      "text/plain": [
       "                            user_id  track_id      event action  dur_sec  \\\n",
       "0  c93f24e9efb2816c8a7fbe32cfdcafe0  16094882  playevent    NaN        4   \n",
       "1  c93f24e9efb2816c8a7fbe32cfdcafe0  63311776  playevent    NaN      152   \n",
       "2  c93f24e9efb2816c8a7fbe32cfdcafe0  71291041  playevent    NaN      160   \n",
       "3  c93f24e9efb2816c8a7fbe32cfdcafe0  62530131  playevent    NaN      315   \n",
       "4  c93f24e9efb2816c8a7fbe32cfdcafe0  54018220  playevent    NaN      284   \n",
       "5  c93f24e9efb2816c8a7fbe32cfdcafe0  54018270  playevent    NaN      225   \n",
       "6  c93f24e9efb2816c8a7fbe32cfdcafe0  47467110  playevent    NaN      308   \n",
       "7  c93f24e9efb2816c8a7fbe32cfdcafe0  74874065  playevent    NaN      245   \n",
       "8  c93f24e9efb2816c8a7fbe32cfdcafe0  64264942  playevent    NaN      231   \n",
       "9  c93f24e9efb2816c8a7fbe32cfdcafe0  63301745  playevent    NaN      106   \n",
       "\n",
       "     event_dt  \n",
       "0  2022-05-02  \n",
       "1  2022-05-02  \n",
       "2  2022-05-02  \n",
       "3  2022-05-02  \n",
       "4  2022-05-02  \n",
       "5  2022-05-02  \n",
       "6  2022-05-02  \n",
       "7  2022-05-02  \n",
       "8  2022-05-02  \n",
       "9  2022-05-02  "
      ]
     },
     "execution_count": 139,
     "metadata": {},
     "output_type": "execute_result"
    }
   ],
   "source": [
    "ds_small.head(10)"
   ]
  },
  {
   "cell_type": "code",
   "execution_count": 64,
   "id": "4970fa90-f753-4cbb-b36a-66f9745ff598",
   "metadata": {},
   "outputs": [
    {
     "data": {
      "text/plain": [
       "(1000, 34388, '2022-04-07', '2022-05-05')"
      ]
     },
     "execution_count": 64,
     "metadata": {},
     "output_type": "execute_result"
    }
   ],
   "source": [
    "ds_small.user_id.nunique(), ds_small.track_id.nunique(), ds_small.event_dt.min(), ds_small.event_dt.max()"
   ]
  },
  {
   "cell_type": "code",
   "execution_count": 94,
   "id": "d49a058d-f8a8-49e1-99f9-5b3e46496fb4",
   "metadata": {},
   "outputs": [
    {
     "data": {
      "text/plain": [
       "<AxesSubplot: ylabel='Count'>"
      ]
     },
     "execution_count": 94,
     "metadata": {},
     "output_type": "execute_result"
    },
    {
     "data": {
      "image/png": "[encoded data removed]",
      "text/plain": [
       "<Figure size 640x480 with 1 Axes>"
      ]
     },
     "metadata": {},
     "output_type": "display_data"
    }
   ],
   "source": [
    "sns.histplot(\n",
    "    ds_small[['user_id', 'track_id']].groupby(['user_id']).aggregate(['count']), log_scale=(True, True)\n",
    ")"
   ]
  },
  {
   "cell_type": "code",
   "execution_count": 111,
   "id": "e5db7db4-ee77-4933-a441-db72d21aedd5",
   "metadata": {},
   "outputs": [
    {
     "data": {
      "text/plain": [
       "user_id\n",
       "004282410a524fa43939efbc98f4cef8      3\n",
       "004355c17608bf9a4f9a277b6e68ab07     95\n",
       "0056f22bf74d20805e9ac8ee42a07c24      1\n",
       "00964c3a6222e01418047857cc30b55b     11\n",
       "00d203480c12718f5609a26ff16686c8      1\n",
       "                                   ... \n",
       "feff7bd44947ee752ac78d36e474fdb2    353\n",
       "ff5aaf4e8d6063a977c03ecd0da06826      2\n",
       "ff73281ce7c2a55e05e150c1db0ae2c4     71\n",
       "ff942390077474a744b37dce5d5243ea     40\n",
       "ffcb970ac0c27dc1d08f111f041cc672     88\n",
       "Name: count, Length: 1000, dtype: int64"
      ]
     },
     "execution_count": 111,
     "metadata": {},
     "output_type": "execute_result"
    }
   ],
   "source": [
    "cnts = ds_small[['user_id', 'track_id']].groupby(['user_id']).aggregate(['count'])\n",
    "cnts.track_id['count']"
   ]
  },
  {
   "cell_type": "code",
   "execution_count": 93,
   "id": "3d9f4b44-ac7d-4532-8c4a-3f116f898b16",
   "metadata": {},
   "outputs": [
    {
     "data": {
      "text/plain": [
       "<AxesSubplot: ylabel='Count'>"
      ]
     },
     "execution_count": 93,
     "metadata": {},
     "output_type": "execute_result"
    },
    {
     "data": {
      "image/png": "[encoded data removed]",
      "text/plain": [
       "<Figure size 640x480 with 1 Axes>"
      ]
     },
     "metadata": {},
     "output_type": "display_data"
    }
   ],
   "source": [
    "sns.histplot(\n",
    "    ds_small[['user_id', 'track_id']].groupby(['track_id']).aggregate(['count']), log_scale=(True, True)\n",
    ")"
   ]
  },
  {
   "cell_type": "code",
   "execution_count": 101,
   "id": "08d0d13c-1739-4bce-8099-ac46f30fb3c9",
   "metadata": {},
   "outputs": [
    {
     "data": {
      "text/plain": [
       "26796"
      ]
     },
     "execution_count": 101,
     "metadata": {},
     "output_type": "execute_result"
    }
   ],
   "source": [
    "cnts = ds_small[['user_id', 'track_id']].groupby(['track_id']).aggregate(['count']).values.flatten()\n",
    "np.count_nonzero(cnts < 5)"
   ]
  },
  {
   "cell_type": "code",
   "execution_count": 118,
   "id": "eb08ab1e-ba93-45b3-9aaa-3f584845888d",
   "metadata": {},
   "outputs": [
    {
     "data": {
      "text/html": [
       "<div>\n",
       "<style scoped>\n",
       "    .dataframe tbody tr th:only-of-type {\n",
       "        vertical-align: middle;\n",
       "    }\n",
       "\n",
       "    .dataframe tbody tr th {\n",
       "        vertical-align: top;\n",
       "    }\n",
       "\n",
       "    .dataframe thead th {\n",
       "        text-align: right;\n",
       "    }\n",
       "</style>\n",
       "<table border=\"1\" class=\"dataframe\">\n",
       "  <thead>\n",
       "    <tr style=\"text-align: right;\">\n",
       "      <th></th>\n",
       "      <th>user_id</th>\n",
       "      <th>track_id</th>\n",
       "      <th>event</th>\n",
       "      <th>action</th>\n",
       "      <th>dur_sec</th>\n",
       "      <th>event_dt</th>\n",
       "    </tr>\n",
       "  </thead>\n",
       "  <tbody>\n",
       "    <tr>\n",
       "      <th>207999</th>\n",
       "      <td>5156fed06ec82ed93eac560014effb13</td>\n",
       "      <td>55089677</td>\n",
       "      <td>content_action_event</td>\n",
       "      <td>LIKE</td>\n",
       "      <td>-1</td>\n",
       "      <td>2022-05-04</td>\n",
       "    </tr>\n",
       "    <tr>\n",
       "      <th>238289</th>\n",
       "      <td>4cc08a591fff29be3bec3ce29c785c35</td>\n",
       "      <td>119984448</td>\n",
       "      <td>content_action_event</td>\n",
       "      <td>LIKE</td>\n",
       "      <td>-1</td>\n",
       "      <td>2022-05-05</td>\n",
       "    </tr>\n",
       "    <tr>\n",
       "      <th>238290</th>\n",
       "      <td>4cc08a591fff29be3bec3ce29c785c35</td>\n",
       "      <td>119984448</td>\n",
       "      <td>content_action_event</td>\n",
       "      <td>LIKE</td>\n",
       "      <td>-1</td>\n",
       "      <td>2022-05-05</td>\n",
       "    </tr>\n",
       "    <tr>\n",
       "      <th>238291</th>\n",
       "      <td>4cc08a591fff29be3bec3ce29c785c35</td>\n",
       "      <td>119934317</td>\n",
       "      <td>content_action_event</td>\n",
       "      <td>LIKE</td>\n",
       "      <td>-1</td>\n",
       "      <td>2022-05-05</td>\n",
       "    </tr>\n",
       "    <tr>\n",
       "      <th>238292</th>\n",
       "      <td>4cc08a591fff29be3bec3ce29c785c35</td>\n",
       "      <td>119966587</td>\n",
       "      <td>content_action_event</td>\n",
       "      <td>LIKE</td>\n",
       "      <td>-1</td>\n",
       "      <td>2022-05-05</td>\n",
       "    </tr>\n",
       "    <tr>\n",
       "      <th>...</th>\n",
       "      <td>...</td>\n",
       "      <td>...</td>\n",
       "      <td>...</td>\n",
       "      <td>...</td>\n",
       "      <td>...</td>\n",
       "      <td>...</td>\n",
       "    </tr>\n",
       "    <tr>\n",
       "      <th>144616023</th>\n",
       "      <td>0b3b512c7a694efa26d33fa8ff453252</td>\n",
       "      <td>119417949</td>\n",
       "      <td>content_action_event</td>\n",
       "      <td>LIKE</td>\n",
       "      <td>-1</td>\n",
       "      <td>2022-04-08</td>\n",
       "    </tr>\n",
       "    <tr>\n",
       "      <th>144634088</th>\n",
       "      <td>8b70d5a3d9831f9fba45e12b780c759c</td>\n",
       "      <td>50001839</td>\n",
       "      <td>content_action_event</td>\n",
       "      <td>LIKE</td>\n",
       "      <td>-1</td>\n",
       "      <td>2022-04-07</td>\n",
       "    </tr>\n",
       "    <tr>\n",
       "      <th>144634146</th>\n",
       "      <td>8b70d5a3d9831f9fba45e12b780c759c</td>\n",
       "      <td>93010217</td>\n",
       "      <td>content_action_event</td>\n",
       "      <td>LIKE</td>\n",
       "      <td>-1</td>\n",
       "      <td>2022-04-07</td>\n",
       "    </tr>\n",
       "    <tr>\n",
       "      <th>144706776</th>\n",
       "      <td>5ea9208f2970251e4c941bb3a4bd8b57</td>\n",
       "      <td>91166879</td>\n",
       "      <td>content_action_event</td>\n",
       "      <td>LIKE</td>\n",
       "      <td>-1</td>\n",
       "      <td>2022-04-08</td>\n",
       "    </tr>\n",
       "    <tr>\n",
       "      <th>144706781</th>\n",
       "      <td>5ea9208f2970251e4c941bb3a4bd8b57</td>\n",
       "      <td>112207969</td>\n",
       "      <td>content_action_event</td>\n",
       "      <td>LIKE</td>\n",
       "      <td>-1</td>\n",
       "      <td>2022-04-08</td>\n",
       "    </tr>\n",
       "  </tbody>\n",
       "</table>\n",
       "<p>7197 rows × 6 columns</p>\n",
       "</div>"
      ],
      "text/plain": [
       "                                    user_id   track_id                 event  \\\n",
       "207999     5156fed06ec82ed93eac560014effb13   55089677  content_action_event   \n",
       "238289     4cc08a591fff29be3bec3ce29c785c35  119984448  content_action_event   \n",
       "238290     4cc08a591fff29be3bec3ce29c785c35  119984448  content_action_event   \n",
       "238291     4cc08a591fff29be3bec3ce29c785c35  119934317  content_action_event   \n",
       "238292     4cc08a591fff29be3bec3ce29c785c35  119966587  content_action_event   \n",
       "...                                     ...        ...                   ...   \n",
       "144616023  0b3b512c7a694efa26d33fa8ff453252  119417949  content_action_event   \n",
       "144634088  8b70d5a3d9831f9fba45e12b780c759c   50001839  content_action_event   \n",
       "144634146  8b70d5a3d9831f9fba45e12b780c759c   93010217  content_action_event   \n",
       "144706776  5ea9208f2970251e4c941bb3a4bd8b57   91166879  content_action_event   \n",
       "144706781  5ea9208f2970251e4c941bb3a4bd8b57  112207969  content_action_event   \n",
       "\n",
       "          action  dur_sec    event_dt  \n",
       "207999      LIKE       -1  2022-05-04  \n",
       "238289      LIKE       -1  2022-05-05  \n",
       "238290      LIKE       -1  2022-05-05  \n",
       "238291      LIKE       -1  2022-05-05  \n",
       "238292      LIKE       -1  2022-05-05  \n",
       "...          ...      ...         ...  \n",
       "144616023   LIKE       -1  2022-04-08  \n",
       "144634088   LIKE       -1  2022-04-07  \n",
       "144634146   LIKE       -1  2022-04-07  \n",
       "144706776   LIKE       -1  2022-04-08  \n",
       "144706781   LIKE       -1  2022-04-08  \n",
       "\n",
       "[7197 rows x 6 columns]"
      ]
     },
     "execution_count": 118,
     "metadata": {},
     "output_type": "execute_result"
    }
   ],
   "source": [
    "ds_small[ds_small.event == 'content_action_event']"
   ]
  },
  {
   "cell_type": "code",
   "execution_count": 137,
   "id": "fbd5f06d-f710-4bca-9108-e95a89e26573",
   "metadata": {},
   "outputs": [
    {
     "data": {
      "text/html": [
       "<div>\n",
       "<style scoped>\n",
       "    .dataframe tbody tr th:only-of-type {\n",
       "        vertical-align: middle;\n",
       "    }\n",
       "\n",
       "    .dataframe tbody tr th {\n",
       "        vertical-align: top;\n",
       "    }\n",
       "\n",
       "    .dataframe thead th {\n",
       "        text-align: right;\n",
       "    }\n",
       "</style>\n",
       "<table border=\"1\" class=\"dataframe\">\n",
       "  <thead>\n",
       "    <tr style=\"text-align: right;\">\n",
       "      <th></th>\n",
       "      <th>level_0</th>\n",
       "      <th>index</th>\n",
       "      <th>user_id</th>\n",
       "      <th>track_id</th>\n",
       "      <th>event</th>\n",
       "      <th>action</th>\n",
       "      <th>dur_sec</th>\n",
       "      <th>event_dt</th>\n",
       "    </tr>\n",
       "  </thead>\n",
       "  <tbody>\n",
       "    <tr>\n",
       "      <th>0</th>\n",
       "      <td>0</td>\n",
       "      <td>44202</td>\n",
       "      <td>c93f24e9efb2816c8a7fbe32cfdcafe0</td>\n",
       "      <td>16094882</td>\n",
       "      <td>playevent</td>\n",
       "      <td>NaN</td>\n",
       "      <td>4</td>\n",
       "      <td>2022-05-02</td>\n",
       "    </tr>\n",
       "    <tr>\n",
       "      <th>1</th>\n",
       "      <td>1</td>\n",
       "      <td>44203</td>\n",
       "      <td>c93f24e9efb2816c8a7fbe32cfdcafe0</td>\n",
       "      <td>63311776</td>\n",
       "      <td>playevent</td>\n",
       "      <td>NaN</td>\n",
       "      <td>152</td>\n",
       "      <td>2022-05-02</td>\n",
       "    </tr>\n",
       "    <tr>\n",
       "      <th>2</th>\n",
       "      <td>2</td>\n",
       "      <td>44204</td>\n",
       "      <td>c93f24e9efb2816c8a7fbe32cfdcafe0</td>\n",
       "      <td>71291041</td>\n",
       "      <td>playevent</td>\n",
       "      <td>NaN</td>\n",
       "      <td>160</td>\n",
       "      <td>2022-05-02</td>\n",
       "    </tr>\n",
       "    <tr>\n",
       "      <th>3</th>\n",
       "      <td>3</td>\n",
       "      <td>44205</td>\n",
       "      <td>c93f24e9efb2816c8a7fbe32cfdcafe0</td>\n",
       "      <td>62530131</td>\n",
       "      <td>playevent</td>\n",
       "      <td>NaN</td>\n",
       "      <td>315</td>\n",
       "      <td>2022-05-02</td>\n",
       "    </tr>\n",
       "    <tr>\n",
       "      <th>4</th>\n",
       "      <td>4</td>\n",
       "      <td>44206</td>\n",
       "      <td>c93f24e9efb2816c8a7fbe32cfdcafe0</td>\n",
       "      <td>54018220</td>\n",
       "      <td>playevent</td>\n",
       "      <td>NaN</td>\n",
       "      <td>284</td>\n",
       "      <td>2022-05-02</td>\n",
       "    </tr>\n",
       "    <tr>\n",
       "      <th>...</th>\n",
       "      <td>...</td>\n",
       "      <td>...</td>\n",
       "      <td>...</td>\n",
       "      <td>...</td>\n",
       "      <td>...</td>\n",
       "      <td>...</td>\n",
       "      <td>...</td>\n",
       "      <td>...</td>\n",
       "    </tr>\n",
       "    <tr>\n",
       "      <th>192744</th>\n",
       "      <td>192744</td>\n",
       "      <td>144707024</td>\n",
       "      <td>5ea9208f2970251e4c941bb3a4bd8b57</td>\n",
       "      <td>59167165</td>\n",
       "      <td>playevent</td>\n",
       "      <td>NaN</td>\n",
       "      <td>10</td>\n",
       "      <td>2022-04-08</td>\n",
       "    </tr>\n",
       "    <tr>\n",
       "      <th>192745</th>\n",
       "      <td>192745</td>\n",
       "      <td>144707025</td>\n",
       "      <td>5ea9208f2970251e4c941bb3a4bd8b57</td>\n",
       "      <td>59167170</td>\n",
       "      <td>playevent</td>\n",
       "      <td>NaN</td>\n",
       "      <td>27</td>\n",
       "      <td>2022-04-08</td>\n",
       "    </tr>\n",
       "    <tr>\n",
       "      <th>192746</th>\n",
       "      <td>192746</td>\n",
       "      <td>144707026</td>\n",
       "      <td>5ea9208f2970251e4c941bb3a4bd8b57</td>\n",
       "      <td>59167166</td>\n",
       "      <td>playevent</td>\n",
       "      <td>NaN</td>\n",
       "      <td>2</td>\n",
       "      <td>2022-04-08</td>\n",
       "    </tr>\n",
       "    <tr>\n",
       "      <th>192747</th>\n",
       "      <td>192747</td>\n",
       "      <td>144707027</td>\n",
       "      <td>5ea9208f2970251e4c941bb3a4bd8b57</td>\n",
       "      <td>59167164</td>\n",
       "      <td>playevent</td>\n",
       "      <td>NaN</td>\n",
       "      <td>213</td>\n",
       "      <td>2022-04-08</td>\n",
       "    </tr>\n",
       "    <tr>\n",
       "      <th>192748</th>\n",
       "      <td>192748</td>\n",
       "      <td>144707028</td>\n",
       "      <td>5ea9208f2970251e4c941bb3a4bd8b57</td>\n",
       "      <td>59167164</td>\n",
       "      <td>playevent</td>\n",
       "      <td>NaN</td>\n",
       "      <td>15</td>\n",
       "      <td>2022-04-08</td>\n",
       "    </tr>\n",
       "  </tbody>\n",
       "</table>\n",
       "<p>192749 rows × 8 columns</p>\n",
       "</div>"
      ],
      "text/plain": [
       "        level_0      index                           user_id  track_id  \\\n",
       "0             0      44202  c93f24e9efb2816c8a7fbe32cfdcafe0  16094882   \n",
       "1             1      44203  c93f24e9efb2816c8a7fbe32cfdcafe0  63311776   \n",
       "2             2      44204  c93f24e9efb2816c8a7fbe32cfdcafe0  71291041   \n",
       "3             3      44205  c93f24e9efb2816c8a7fbe32cfdcafe0  62530131   \n",
       "4             4      44206  c93f24e9efb2816c8a7fbe32cfdcafe0  54018220   \n",
       "...         ...        ...                               ...       ...   \n",
       "192744   192744  144707024  5ea9208f2970251e4c941bb3a4bd8b57  59167165   \n",
       "192745   192745  144707025  5ea9208f2970251e4c941bb3a4bd8b57  59167170   \n",
       "192746   192746  144707026  5ea9208f2970251e4c941bb3a4bd8b57  59167166   \n",
       "192747   192747  144707027  5ea9208f2970251e4c941bb3a4bd8b57  59167164   \n",
       "192748   192748  144707028  5ea9208f2970251e4c941bb3a4bd8b57  59167164   \n",
       "\n",
       "            event action  dur_sec    event_dt  \n",
       "0       playevent    NaN        4  2022-05-02  \n",
       "1       playevent    NaN      152  2022-05-02  \n",
       "2       playevent    NaN      160  2022-05-02  \n",
       "3       playevent    NaN      315  2022-05-02  \n",
       "4       playevent    NaN      284  2022-05-02  \n",
       "...           ...    ...      ...         ...  \n",
       "192744  playevent    NaN       10  2022-04-08  \n",
       "192745  playevent    NaN       27  2022-04-08  \n",
       "192746  playevent    NaN        2  2022-04-08  \n",
       "192747  playevent    NaN      213  2022-04-08  \n",
       "192748  playevent    NaN       15  2022-04-08  \n",
       "\n",
       "[192749 rows x 8 columns]"
      ]
     },
     "execution_count": 137,
     "metadata": {},
     "output_type": "execute_result"
    }
   ],
   "source": [
    "ds_small.reset_index(drop=True, inplace=True)"
   ]
  },
  {
   "cell_type": "code",
   "execution_count": 164,
   "id": "a70efb42-f091-4a4a-bc8b-dbe33a9263e3",
   "metadata": {},
   "outputs": [],
   "source": [
    "user_track_score = pd.read_csv(data_path.joinpath('user-track-score.csv'))"
   ]
  },
  {
   "cell_type": "code",
   "execution_count": 165,
   "id": "911c5c17-837c-4918-b221-32b6baffe028",
   "metadata": {},
   "outputs": [
    {
     "data": {
      "text/html": [
       "<div>\n",
       "<style scoped>\n",
       "    .dataframe tbody tr th:only-of-type {\n",
       "        vertical-align: middle;\n",
       "    }\n",
       "\n",
       "    .dataframe tbody tr th {\n",
       "        vertical-align: top;\n",
       "    }\n",
       "\n",
       "    .dataframe thead th {\n",
       "        text-align: right;\n",
       "    }\n",
       "</style>\n",
       "<table border=\"1\" class=\"dataframe\">\n",
       "  <thead>\n",
       "    <tr style=\"text-align: right;\">\n",
       "      <th></th>\n",
       "      <th>user_id</th>\n",
       "      <th>track_id</th>\n",
       "      <th>score</th>\n",
       "    </tr>\n",
       "  </thead>\n",
       "  <tbody>\n",
       "    <tr>\n",
       "      <th>0</th>\n",
       "      <td>bc4ae6fc3f10c84061fa624fbf05764c</td>\n",
       "      <td>90965391</td>\n",
       "      <td>0.057314</td>\n",
       "    </tr>\n",
       "    <tr>\n",
       "      <th>1</th>\n",
       "      <td>e8443a4a6cc0340100934cf473f7bcef</td>\n",
       "      <td>90965391</td>\n",
       "      <td>0.030714</td>\n",
       "    </tr>\n",
       "    <tr>\n",
       "      <th>2</th>\n",
       "      <td>2303d09d777fbef2f362db3354fe83f7</td>\n",
       "      <td>90965391</td>\n",
       "      <td>0.161742</td>\n",
       "    </tr>\n",
       "    <tr>\n",
       "      <th>3</th>\n",
       "      <td>3154279c1278d3053f3cf702cf867211</td>\n",
       "      <td>90965391</td>\n",
       "      <td>0.091410</td>\n",
       "    </tr>\n",
       "    <tr>\n",
       "      <th>4</th>\n",
       "      <td>d410e5ab0887c4609bd6362b9f9aa9c3</td>\n",
       "      <td>90965391</td>\n",
       "      <td>0.261495</td>\n",
       "    </tr>\n",
       "    <tr>\n",
       "      <th>5</th>\n",
       "      <td>a0dbb72054d3c17e7198b5a717db1e66</td>\n",
       "      <td>90965391</td>\n",
       "      <td>0.227424</td>\n",
       "    </tr>\n",
       "    <tr>\n",
       "      <th>6</th>\n",
       "      <td>62d0d196b8ebd1f1e536e7889814a6d2</td>\n",
       "      <td>90965391</td>\n",
       "      <td>0.165035</td>\n",
       "    </tr>\n",
       "    <tr>\n",
       "      <th>7</th>\n",
       "      <td>9a95b5881d5e87d44be73779011cb217</td>\n",
       "      <td>90965391</td>\n",
       "      <td>0.466040</td>\n",
       "    </tr>\n",
       "    <tr>\n",
       "      <th>8</th>\n",
       "      <td>0626a7ad0711444acddb9f71a9464730</td>\n",
       "      <td>90965391</td>\n",
       "      <td>0.053395</td>\n",
       "    </tr>\n",
       "    <tr>\n",
       "      <th>9</th>\n",
       "      <td>22896d41f78a9a9d798aeecf07e1c128</td>\n",
       "      <td>90965391</td>\n",
       "      <td>0.099732</td>\n",
       "    </tr>\n",
       "  </tbody>\n",
       "</table>\n",
       "</div>"
      ],
      "text/plain": [
       "                            user_id  track_id     score\n",
       "0  bc4ae6fc3f10c84061fa624fbf05764c  90965391  0.057314\n",
       "1  e8443a4a6cc0340100934cf473f7bcef  90965391  0.030714\n",
       "2  2303d09d777fbef2f362db3354fe83f7  90965391  0.161742\n",
       "3  3154279c1278d3053f3cf702cf867211  90965391  0.091410\n",
       "4  d410e5ab0887c4609bd6362b9f9aa9c3  90965391  0.261495\n",
       "5  a0dbb72054d3c17e7198b5a717db1e66  90965391  0.227424\n",
       "6  62d0d196b8ebd1f1e536e7889814a6d2  90965391  0.165035\n",
       "7  9a95b5881d5e87d44be73779011cb217  90965391  0.466040\n",
       "8  0626a7ad0711444acddb9f71a9464730  90965391  0.053395\n",
       "9  22896d41f78a9a9d798aeecf07e1c128  90965391  0.099732"
      ]
     },
     "execution_count": 165,
     "metadata": {},
     "output_type": "execute_result"
    }
   ],
   "source": [
    "user_track_score.head(10)"
   ]
  },
  {
   "cell_type": "code",
   "execution_count": 166,
   "id": "24daa7d5-01cc-4766-a991-9c970d356bed",
   "metadata": {},
   "outputs": [],
   "source": [
    "user_track_score.set_index('user_id', inplace=True)"
   ]
  },
  {
   "cell_type": "code",
   "execution_count": 168,
   "id": "7d320702-502b-4250-91c7-8f1f42be3750",
   "metadata": {},
   "outputs": [
    {
     "data": {
      "text/html": [
       "<div>\n",
       "<style scoped>\n",
       "    .dataframe tbody tr th:only-of-type {\n",
       "        vertical-align: middle;\n",
       "    }\n",
       "\n",
       "    .dataframe tbody tr th {\n",
       "        vertical-align: top;\n",
       "    }\n",
       "\n",
       "    .dataframe thead th {\n",
       "        text-align: right;\n",
       "    }\n",
       "</style>\n",
       "<table border=\"1\" class=\"dataframe\">\n",
       "  <thead>\n",
       "    <tr style=\"text-align: right;\">\n",
       "      <th></th>\n",
       "      <th>track_id</th>\n",
       "      <th>score</th>\n",
       "    </tr>\n",
       "    <tr>\n",
       "      <th>user_id</th>\n",
       "      <th></th>\n",
       "      <th></th>\n",
       "    </tr>\n",
       "  </thead>\n",
       "  <tbody>\n",
       "    <tr>\n",
       "      <th>bc4ae6fc3f10c84061fa624fbf05764c</th>\n",
       "      <td>90965391</td>\n",
       "      <td>0.057314</td>\n",
       "    </tr>\n",
       "    <tr>\n",
       "      <th>e8443a4a6cc0340100934cf473f7bcef</th>\n",
       "      <td>90965391</td>\n",
       "      <td>0.030714</td>\n",
       "    </tr>\n",
       "  </tbody>\n",
       "</table>\n",
       "</div>"
      ],
      "text/plain": [
       "                                  track_id     score\n",
       "user_id                                             \n",
       "bc4ae6fc3f10c84061fa624fbf05764c  90965391  0.057314\n",
       "e8443a4a6cc0340100934cf473f7bcef  90965391  0.030714"
      ]
     },
     "execution_count": 168,
     "metadata": {},
     "output_type": "execute_result"
    }
   ],
   "source": [
    "user_track_score.head(2)"
   ]
  },
  {
   "cell_type": "code",
   "execution_count": 169,
   "id": "82ddce7d-d4b0-4588-b738-018adb8b7a01",
   "metadata": {},
   "outputs": [],
   "source": [
    "scores = user_track_score[user_track_score.index.isin(users)]"
   ]
  },
  {
   "cell_type": "code",
   "execution_count": 172,
   "id": "c5e4d774-a332-4c4e-9710-5cd80ff0be95",
   "metadata": {},
   "outputs": [],
   "source": [
    "scores.reset_index(level=0, inplace=True)"
   ]
  },
  {
   "cell_type": "code",
   "execution_count": 173,
   "id": "a706382a-b213-4d5a-9171-b7730339515b",
   "metadata": {},
   "outputs": [],
   "source": [
    "scores.set_index(['user_id', 'track_id'], inplace=True)"
   ]
  },
  {
   "cell_type": "code",
   "execution_count": 175,
   "id": "d761d056-cdfb-432c-92c9-3da23b96ecb4",
   "metadata": {},
   "outputs": [
    {
     "data": {
      "text/html": [
       "<div>\n",
       "<style scoped>\n",
       "    .dataframe tbody tr th:only-of-type {\n",
       "        vertical-align: middle;\n",
       "    }\n",
       "\n",
       "    .dataframe tbody tr th {\n",
       "        vertical-align: top;\n",
       "    }\n",
       "\n",
       "    .dataframe thead th {\n",
       "        text-align: right;\n",
       "    }\n",
       "</style>\n",
       "<table border=\"1\" class=\"dataframe\">\n",
       "  <thead>\n",
       "    <tr style=\"text-align: right;\">\n",
       "      <th></th>\n",
       "      <th>user_id</th>\n",
       "      <th>track_id</th>\n",
       "      <th>event</th>\n",
       "      <th>action</th>\n",
       "      <th>dur_sec</th>\n",
       "      <th>event_dt</th>\n",
       "      <th>score</th>\n",
       "    </tr>\n",
       "  </thead>\n",
       "  <tbody>\n",
       "    <tr>\n",
       "      <th>0</th>\n",
       "      <td>c93f24e9efb2816c8a7fbe32cfdcafe0</td>\n",
       "      <td>16094882</td>\n",
       "      <td>playevent</td>\n",
       "      <td>NaN</td>\n",
       "      <td>4</td>\n",
       "      <td>2022-05-02</td>\n",
       "      <td>NaN</td>\n",
       "    </tr>\n",
       "    <tr>\n",
       "      <th>1</th>\n",
       "      <td>c93f24e9efb2816c8a7fbe32cfdcafe0</td>\n",
       "      <td>63311776</td>\n",
       "      <td>playevent</td>\n",
       "      <td>NaN</td>\n",
       "      <td>152</td>\n",
       "      <td>2022-05-02</td>\n",
       "      <td>0.535788</td>\n",
       "    </tr>\n",
       "    <tr>\n",
       "      <th>2</th>\n",
       "      <td>c93f24e9efb2816c8a7fbe32cfdcafe0</td>\n",
       "      <td>71291041</td>\n",
       "      <td>playevent</td>\n",
       "      <td>NaN</td>\n",
       "      <td>160</td>\n",
       "      <td>2022-05-02</td>\n",
       "      <td>NaN</td>\n",
       "    </tr>\n",
       "    <tr>\n",
       "      <th>3</th>\n",
       "      <td>c93f24e9efb2816c8a7fbe32cfdcafe0</td>\n",
       "      <td>62530131</td>\n",
       "      <td>playevent</td>\n",
       "      <td>NaN</td>\n",
       "      <td>315</td>\n",
       "      <td>2022-05-02</td>\n",
       "      <td>0.729073</td>\n",
       "    </tr>\n",
       "    <tr>\n",
       "      <th>4</th>\n",
       "      <td>c93f24e9efb2816c8a7fbe32cfdcafe0</td>\n",
       "      <td>54018220</td>\n",
       "      <td>playevent</td>\n",
       "      <td>NaN</td>\n",
       "      <td>284</td>\n",
       "      <td>2022-05-02</td>\n",
       "      <td>NaN</td>\n",
       "    </tr>\n",
       "    <tr>\n",
       "      <th>...</th>\n",
       "      <td>...</td>\n",
       "      <td>...</td>\n",
       "      <td>...</td>\n",
       "      <td>...</td>\n",
       "      <td>...</td>\n",
       "      <td>...</td>\n",
       "      <td>...</td>\n",
       "    </tr>\n",
       "    <tr>\n",
       "      <th>192744</th>\n",
       "      <td>5ea9208f2970251e4c941bb3a4bd8b57</td>\n",
       "      <td>59167165</td>\n",
       "      <td>playevent</td>\n",
       "      <td>NaN</td>\n",
       "      <td>10</td>\n",
       "      <td>2022-04-08</td>\n",
       "      <td>NaN</td>\n",
       "    </tr>\n",
       "    <tr>\n",
       "      <th>192745</th>\n",
       "      <td>5ea9208f2970251e4c941bb3a4bd8b57</td>\n",
       "      <td>59167170</td>\n",
       "      <td>playevent</td>\n",
       "      <td>NaN</td>\n",
       "      <td>27</td>\n",
       "      <td>2022-04-08</td>\n",
       "      <td>NaN</td>\n",
       "    </tr>\n",
       "    <tr>\n",
       "      <th>192746</th>\n",
       "      <td>5ea9208f2970251e4c941bb3a4bd8b57</td>\n",
       "      <td>59167166</td>\n",
       "      <td>playevent</td>\n",
       "      <td>NaN</td>\n",
       "      <td>2</td>\n",
       "      <td>2022-04-08</td>\n",
       "      <td>NaN</td>\n",
       "    </tr>\n",
       "    <tr>\n",
       "      <th>192747</th>\n",
       "      <td>5ea9208f2970251e4c941bb3a4bd8b57</td>\n",
       "      <td>59167164</td>\n",
       "      <td>playevent</td>\n",
       "      <td>NaN</td>\n",
       "      <td>213</td>\n",
       "      <td>2022-04-08</td>\n",
       "      <td>NaN</td>\n",
       "    </tr>\n",
       "    <tr>\n",
       "      <th>192748</th>\n",
       "      <td>5ea9208f2970251e4c941bb3a4bd8b57</td>\n",
       "      <td>59167164</td>\n",
       "      <td>playevent</td>\n",
       "      <td>NaN</td>\n",
       "      <td>15</td>\n",
       "      <td>2022-04-08</td>\n",
       "      <td>NaN</td>\n",
       "    </tr>\n",
       "  </tbody>\n",
       "</table>\n",
       "<p>192749 rows × 7 columns</p>\n",
       "</div>"
      ],
      "text/plain": [
       "                                 user_id  track_id      event action  dur_sec  \\\n",
       "0       c93f24e9efb2816c8a7fbe32cfdcafe0  16094882  playevent    NaN        4   \n",
       "1       c93f24e9efb2816c8a7fbe32cfdcafe0  63311776  playevent    NaN      152   \n",
       "2       c93f24e9efb2816c8a7fbe32cfdcafe0  71291041  playevent    NaN      160   \n",
       "3       c93f24e9efb2816c8a7fbe32cfdcafe0  62530131  playevent    NaN      315   \n",
       "4       c93f24e9efb2816c8a7fbe32cfdcafe0  54018220  playevent    NaN      284   \n",
       "...                                  ...       ...        ...    ...      ...   \n",
       "192744  5ea9208f2970251e4c941bb3a4bd8b57  59167165  playevent    NaN       10   \n",
       "192745  5ea9208f2970251e4c941bb3a4bd8b57  59167170  playevent    NaN       27   \n",
       "192746  5ea9208f2970251e4c941bb3a4bd8b57  59167166  playevent    NaN        2   \n",
       "192747  5ea9208f2970251e4c941bb3a4bd8b57  59167164  playevent    NaN      213   \n",
       "192748  5ea9208f2970251e4c941bb3a4bd8b57  59167164  playevent    NaN       15   \n",
       "\n",
       "          event_dt     score  \n",
       "0       2022-05-02       NaN  \n",
       "1       2022-05-02  0.535788  \n",
       "2       2022-05-02       NaN  \n",
       "3       2022-05-02  0.729073  \n",
       "4       2022-05-02       NaN  \n",
       "...            ...       ...  \n",
       "192744  2022-04-08       NaN  \n",
       "192745  2022-04-08       NaN  \n",
       "192746  2022-04-08       NaN  \n",
       "192747  2022-04-08       NaN  \n",
       "192748  2022-04-08       NaN  \n",
       "\n",
       "[192749 rows x 7 columns]"
      ]
     },
     "execution_count": 175,
     "metadata": {},
     "output_type": "execute_result"
    }
   ],
   "source": [
    "ds_small.join(scores, on=['user_id', 'track_id'])"
   ]
  },
  {
   "cell_type": "code",
   "execution_count": 178,
   "id": "e531f833-e73b-46be-a6bd-f214c0acb820",
   "metadata": {},
   "outputs": [],
   "source": [
    "ds_small = ds_small.copy()"
   ]
  },
  {
   "cell_type": "code",
   "execution_count": 194,
   "id": "1343bf8e-891f-4ac3-83bd-dbe0e48a414c",
   "metadata": {},
   "outputs": [],
   "source": [
    "ds_small['rating'] = 3.0"
   ]
  },
  {
   "cell_type": "code",
   "execution_count": 199,
   "id": "e81d23cc-b837-4bac-80d4-3b722f6c5c91",
   "metadata": {},
   "outputs": [],
   "source": [
    "ds_small.loc[ds_small.action == 'BLOCK_ITEM_ON', 'rating'] = 1.0\n",
    "ds_small.loc[ds_small.action == 'LIKE', 'rating'] = 5.0"
   ]
  },
  {
   "cell_type": "code",
   "execution_count": 200,
   "id": "75949ca8-a3c5-4acb-91ac-08c789c44e07",
   "metadata": {},
   "outputs": [
    {
     "data": {
      "text/html": [
       "<div>\n",
       "<style scoped>\n",
       "    .dataframe tbody tr th:only-of-type {\n",
       "        vertical-align: middle;\n",
       "    }\n",
       "\n",
       "    .dataframe tbody tr th {\n",
       "        vertical-align: top;\n",
       "    }\n",
       "\n",
       "    .dataframe thead th {\n",
       "        text-align: right;\n",
       "    }\n",
       "</style>\n",
       "<table border=\"1\" class=\"dataframe\">\n",
       "  <thead>\n",
       "    <tr style=\"text-align: right;\">\n",
       "      <th></th>\n",
       "      <th>user_id</th>\n",
       "      <th>track_id</th>\n",
       "      <th>event</th>\n",
       "      <th>action</th>\n",
       "      <th>dur_sec</th>\n",
       "      <th>event_dt</th>\n",
       "      <th>rating</th>\n",
       "    </tr>\n",
       "  </thead>\n",
       "  <tbody>\n",
       "    <tr>\n",
       "      <th>0</th>\n",
       "      <td>c93f24e9efb2816c8a7fbe32cfdcafe0</td>\n",
       "      <td>16094882</td>\n",
       "      <td>playevent</td>\n",
       "      <td>NaN</td>\n",
       "      <td>4</td>\n",
       "      <td>2022-05-02</td>\n",
       "      <td>3.0</td>\n",
       "    </tr>\n",
       "    <tr>\n",
       "      <th>1</th>\n",
       "      <td>c93f24e9efb2816c8a7fbe32cfdcafe0</td>\n",
       "      <td>63311776</td>\n",
       "      <td>playevent</td>\n",
       "      <td>NaN</td>\n",
       "      <td>152</td>\n",
       "      <td>2022-05-02</td>\n",
       "      <td>3.0</td>\n",
       "    </tr>\n",
       "    <tr>\n",
       "      <th>2</th>\n",
       "      <td>c93f24e9efb2816c8a7fbe32cfdcafe0</td>\n",
       "      <td>71291041</td>\n",
       "      <td>playevent</td>\n",
       "      <td>NaN</td>\n",
       "      <td>160</td>\n",
       "      <td>2022-05-02</td>\n",
       "      <td>3.0</td>\n",
       "    </tr>\n",
       "    <tr>\n",
       "      <th>3</th>\n",
       "      <td>c93f24e9efb2816c8a7fbe32cfdcafe0</td>\n",
       "      <td>62530131</td>\n",
       "      <td>playevent</td>\n",
       "      <td>NaN</td>\n",
       "      <td>315</td>\n",
       "      <td>2022-05-02</td>\n",
       "      <td>3.0</td>\n",
       "    </tr>\n",
       "    <tr>\n",
       "      <th>4</th>\n",
       "      <td>c93f24e9efb2816c8a7fbe32cfdcafe0</td>\n",
       "      <td>54018220</td>\n",
       "      <td>playevent</td>\n",
       "      <td>NaN</td>\n",
       "      <td>284</td>\n",
       "      <td>2022-05-02</td>\n",
       "      <td>3.0</td>\n",
       "    </tr>\n",
       "  </tbody>\n",
       "</table>\n",
       "</div>"
      ],
      "text/plain": [
       "                            user_id  track_id      event action  dur_sec  \\\n",
       "0  c93f24e9efb2816c8a7fbe32cfdcafe0  16094882  playevent    NaN        4   \n",
       "1  c93f24e9efb2816c8a7fbe32cfdcafe0  63311776  playevent    NaN      152   \n",
       "2  c93f24e9efb2816c8a7fbe32cfdcafe0  71291041  playevent    NaN      160   \n",
       "3  c93f24e9efb2816c8a7fbe32cfdcafe0  62530131  playevent    NaN      315   \n",
       "4  c93f24e9efb2816c8a7fbe32cfdcafe0  54018220  playevent    NaN      284   \n",
       "\n",
       "     event_dt  rating  \n",
       "0  2022-05-02     3.0  \n",
       "1  2022-05-02     3.0  \n",
       "2  2022-05-02     3.0  \n",
       "3  2022-05-02     3.0  \n",
       "4  2022-05-02     3.0  "
      ]
     },
     "execution_count": 200,
     "metadata": {},
     "output_type": "execute_result"
    }
   ],
   "source": [
    "ds_small.head(5)"
   ]
  },
  {
   "cell_type": "code",
   "execution_count": 202,
   "id": "4d33e7f6-99e6-4a54-8f43-8a954629bb89",
   "metadata": {},
   "outputs": [],
   "source": [
    "ds_small['item_id'] = ds_small['track_id']\n",
    "ds_small['timestamp'] = ds_small['event_dt']"
   ]
  },
  {
   "cell_type": "code",
   "execution_count": 208,
   "id": "13a1ecd3-d726-4433-9c4e-de16f14e5df3",
   "metadata": {},
   "outputs": [
    {
     "data": {
      "text/html": [
       "<div>\n",
       "<style scoped>\n",
       "    .dataframe tbody tr th:only-of-type {\n",
       "        vertical-align: middle;\n",
       "    }\n",
       "\n",
       "    .dataframe tbody tr th {\n",
       "        vertical-align: top;\n",
       "    }\n",
       "\n",
       "    .dataframe thead th {\n",
       "        text-align: right;\n",
       "    }\n",
       "</style>\n",
       "<table border=\"1\" class=\"dataframe\">\n",
       "  <thead>\n",
       "    <tr style=\"text-align: right;\">\n",
       "      <th></th>\n",
       "      <th>user_id</th>\n",
       "      <th>item_id</th>\n",
       "      <th>timestamp</th>\n",
       "      <th>rating</th>\n",
       "    </tr>\n",
       "  </thead>\n",
       "  <tbody>\n",
       "    <tr>\n",
       "      <th>0</th>\n",
       "      <td>c93f24e9efb2816c8a7fbe32cfdcafe0</td>\n",
       "      <td>16094882</td>\n",
       "      <td>2022-05-02</td>\n",
       "      <td>3.0</td>\n",
       "    </tr>\n",
       "    <tr>\n",
       "      <th>1</th>\n",
       "      <td>c93f24e9efb2816c8a7fbe32cfdcafe0</td>\n",
       "      <td>63311776</td>\n",
       "      <td>2022-05-02</td>\n",
       "      <td>3.0</td>\n",
       "    </tr>\n",
       "    <tr>\n",
       "      <th>2</th>\n",
       "      <td>c93f24e9efb2816c8a7fbe32cfdcafe0</td>\n",
       "      <td>71291041</td>\n",
       "      <td>2022-05-02</td>\n",
       "      <td>3.0</td>\n",
       "    </tr>\n",
       "  </tbody>\n",
       "</table>\n",
       "</div>"
      ],
      "text/plain": [
       "                            user_id   item_id   timestamp  rating\n",
       "0  c93f24e9efb2816c8a7fbe32cfdcafe0  16094882  2022-05-02     3.0\n",
       "1  c93f24e9efb2816c8a7fbe32cfdcafe0  63311776  2022-05-02     3.0\n",
       "2  c93f24e9efb2816c8a7fbe32cfdcafe0  71291041  2022-05-02     3.0"
      ]
     },
     "execution_count": 208,
     "metadata": {},
     "output_type": "execute_result"
    }
   ],
   "source": [
    "ds_ratings = ds_small[['user_id', 'item_id', 'timestamp', 'rating']]\n",
    "ds_ratings.head(3)"
   ]
  },
  {
   "cell_type": "code",
   "execution_count": 209,
   "id": "b186a4a6-9569-4a77-a953-a331dbee0cbc",
   "metadata": {},
   "outputs": [],
   "source": [
    "cache_path = data_path.parent / 'cache'\n",
    "ds_ratings.to_csv(cache_path / 'ratings.csv')"
   ]
  },
  {
   "cell_type": "code",
   "execution_count": null,
   "id": "3acf67fa-b88f-495c-a475-5af08a12bf4c",
   "metadata": {},
   "outputs": [],
   "source": []
  }
 ],
 "metadata": {
  "kernelspec": {
   "display_name": "Python 3 (ipykernel)",
   "language": "python",
   "name": "python3"
  },
  "language_info": {
   "codemirror_mode": {
    "name": "ipython",
    "version": 3
   },
   "file_extension": ".py",
   "mimetype": "text/x-python",
   "name": "python",
   "nbconvert_exporter": "python",
   "pygments_lexer": "ipython3",
   "version": "3.9.13"
  }
 },
 "nbformat": 4,
 "nbformat_minor": 5
}
