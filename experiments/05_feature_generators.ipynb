{
 "cells": [
  {
   "cell_type": "markdown",
   "id": "859b0060",
   "metadata": {},
   "source": [
    "# Feature generators tutorial\n",
    "\n",
    "This notebook presents the RePlay functionality for features preprocessing and generation of new users and item features based on existing features and interactions history. RePlay offers classes:\n",
    "\n",
    "* CatFeaturesTransformer\n",
    "* LogStatFeaturesProcessor\n",
    "\n",
    "\n",
    "### Fit \n",
    "\n",
    "To train a feature generator use the method `.fit()`\n",
    "\n",
    "### Transform the data\n",
    "\n",
    "Method `.transform()` allows you to transform the data based on the train dataset statistics."
   ]
  },
  {
   "cell_type": "code",
   "execution_count": 3,
   "id": "948b058f",
   "metadata": {},
   "outputs": [],
   "source": [
    "import pandas as pd\n",
    "from matplotlib import pyplot as plt\n",
    "import seaborn as sns\n",
    "from pyspark.sql import functions as sf\n",
    "\n",
    "from replay.data_preparator import DataPreparator, Indexer\n",
    "from replay.utils import convert2spark"
   ]
  },
  {
   "cell_type": "markdown",
   "id": "341b7060",
   "metadata": {},
   "source": [
    "## Get started\n",
    "\n",
    "Download the dataset **MovieLens** and preprocess it with `DataPreparator` and `Indexer`"
   ]
  },
  {
   "cell_type": "code",
   "execution_count": 5,
   "id": "430f0915",
   "metadata": {},
   "outputs": [],
   "source": [
    "ratings = pd.read_csv(\"./data/ml1m_ratings.dat\", sep=\"\\t\", names=[\"userId\", \"itemId\",\"relevance\",\"timestamp\"])"
   ]
  },
  {
   "cell_type": "markdown",
   "id": "0f01049a",
   "metadata": {},
   "source": [
    "For each user, we will add the categorical variable `month`"
   ]
  },
  {
   "cell_type": "code",
   "execution_count": 6,
   "id": "efc50982",
   "metadata": {},
   "outputs": [],
   "source": [
    "new_val = pd.to_datetime(ratings[\"timestamp\"], unit='s').map(lambda x: x.month)\n",
    "ratings.loc[:,\"month\"] = new_val"
   ]
  },
  {
   "cell_type": "code",
   "execution_count": 9,
   "id": "21ed6bb0",
   "metadata": {},
   "outputs": [
    {
     "name": "stderr",
     "output_type": "stream",
     "text": [
      "06-Oct-22 17:52:34, replay, INFO: Columns with ids of users or items are present in mapping. The dataframe will be treated as an interactions log.\n"
     ]
    },
    {
     "name": "stdout",
     "output_type": "stream",
     "text": [
      "+-------+-------+---------+-------------------+-----+\n",
      "|user_id|item_id|relevance|          timestamp|month|\n",
      "+-------+-------+---------+-------------------+-----+\n",
      "|      1|   1193|      5.0|2001-01-01 01:12:40|   12|\n",
      "|      1|    661|      3.0|2001-01-01 01:35:09|   12|\n",
      "+-------+-------+---------+-------------------+-----+\n",
      "only showing top 2 rows\n",
      "\n"
     ]
    }
   ],
   "source": [
    "dp = DataPreparator()\n",
    "log = dp.transform(data=ratings,\n",
    "                  columns_mapping={\n",
    "                      \"user_id\": \"userId\",\n",
    "                      \"item_id\":  \"itemId\",\n",
    "                      \"relevance\": \"relevance\",\n",
    "                      \"timestamp\": \"timestamp\"\n",
    "                  })\n",
    "\n",
    "log.show(2)"
   ]
  },
  {
   "cell_type": "code",
   "execution_count": 10,
   "id": "d0c3451c",
   "metadata": {},
   "outputs": [
    {
     "name": "stdout",
     "output_type": "stream",
     "text": [
      "+--------+--------+---------+-------------------+-----+\n",
      "|user_idx|item_idx|relevance|          timestamp|month|\n",
      "+--------+--------+---------+-------------------+-----+\n",
      "|    4131|      43|      5.0|2001-01-01 01:12:40|   12|\n",
      "|    4131|     585|      3.0|2001-01-01 01:35:09|   12|\n",
      "+--------+--------+---------+-------------------+-----+\n",
      "only showing top 2 rows\n",
      "\n"
     ]
    }
   ],
   "source": [
    "indexer = Indexer(user_col='user_id', item_col='item_id')\n",
    "indexer.fit(users=log.select('user_id'),\n",
    "            items=log.select('item_id'))\n",
    "log = indexer.transform(df=log)\n",
    "log.show(2)"
   ]
  },
  {
   "cell_type": "markdown",
   "id": "b3cad651",
   "metadata": {},
   "source": [
    "We will leave only the first 20 users and will not take the 12th month"
   ]
  },
  {
   "cell_type": "code",
   "execution_count": 11,
   "id": "ce1024ac",
   "metadata": {},
   "outputs": [],
   "source": [
    "log_20_users = log.where(\"user_idx < 20 and month != 12\")"
   ]
  },
  {
   "cell_type": "markdown",
   "id": "57312b8c",
   "metadata": {},
   "source": [
    "## class CatFeaturesTransformer()\n",
    "\n",
    "Transform categorical features in ``cat_cols_list`` with one-hot encoding and remove original columns.\n",
    "    \n",
    "Parameters:\n",
    "* `cat_cols_list` - List of categorical columns\n",
    "* `alias` - Prefix of the generated column names (default is \"ohe\")"
   ]
  },
  {
   "cell_type": "code",
   "execution_count": 12,
   "id": "e8fe841c",
   "metadata": {},
   "outputs": [],
   "source": [
    "from replay.data_preparator import CatFeaturesTransformer\n",
    "cft = CatFeaturesTransformer([\"month\"])\n",
    "cft.fit(log_20_users)"
   ]
  },
  {
   "cell_type": "code",
   "execution_count": 13,
   "id": "bb0de255",
   "metadata": {},
   "outputs": [],
   "source": [
    "log_trsfrm = cft.transform(log_20_users)"
   ]
  },
  {
   "cell_type": "markdown",
   "id": "4462d1fb",
   "metadata": {},
   "source": [
    "#### Before"
   ]
  },
  {
   "cell_type": "code",
   "execution_count": 14,
   "id": "587d2c6d",
   "metadata": {},
   "outputs": [
    {
     "name": "stdout",
     "output_type": "stream",
     "text": [
      "-RECORD 0------------------------\n",
      " user_idx  | 16                  \n",
      " item_idx  | 366                 \n",
      " relevance | 4.0                 \n",
      " timestamp | 2001-01-10 21:07:43 \n",
      " month     | 1                   \n",
      "only showing top 1 row\n",
      "\n"
     ]
    }
   ],
   "source": [
    "log_20_users.show(1, vertical=True)"
   ]
  },
  {
   "cell_type": "markdown",
   "id": "09268270",
   "metadata": {},
   "source": [
    "#### After"
   ]
  },
  {
   "cell_type": "code",
   "execution_count": 15,
   "id": "a58dda77",
   "metadata": {},
   "outputs": [
    {
     "name": "stdout",
     "output_type": "stream",
     "text": [
      "-RECORD 0---------------------------\n",
      " user_idx     | 16                  \n",
      " item_idx     | 366                 \n",
      " relevance    | 4.0                 \n",
      " timestamp    | 2001-01-10 21:07:43 \n",
      " ohe_month_9  | 0                   \n",
      " ohe_month_1  | 1                   \n",
      " ohe_month_5  | 0                   \n",
      " ohe_month_2  | 0                   \n",
      " ohe_month_6  | 0                   \n",
      " ohe_month_3  | 0                   \n",
      " ohe_month_10 | 0                   \n",
      " ohe_month_7  | 0                   \n",
      " ohe_month_4  | 0                   \n",
      " ohe_month_11 | 0                   \n",
      " ohe_month_8  | 0                   \n",
      "only showing top 1 row\n",
      "\n"
     ]
    }
   ],
   "source": [
    "log_trsfrm.show(1, vertical=True)"
   ]
  },
  {
   "cell_type": "markdown",
   "id": "5d6e9dd3",
   "metadata": {},
   "source": [
    "### Processing of cold users and items\n",
    "If the dataframe contains new values, not presented in train, those values are ignored (encoded columns will be all zeros)"
   ]
  },
  {
   "cell_type": "markdown",
   "id": "e96cc39c",
   "metadata": {},
   "source": [
    "To show this, add a user to the DataFrame with the value 12 in the \"month\" attribute. The value was absent in the training data."
   ]
  },
  {
   "cell_type": "code",
   "execution_count": 16,
   "id": "d43b0da2",
   "metadata": {},
   "outputs": [],
   "source": [
    "user_with_12_month_attriubute = log.where(\"month == 12\").limit(1)\n",
    "\n",
    "user_idx, item_idx = user_with_12_month_attriubute.select(\"user_idx\", \"item_idx\").first()\n",
    "\n",
    "log_21_users  = log_20_users.union(user_with_12_month_attriubute)"
   ]
  },
  {
   "cell_type": "code",
   "execution_count": 17,
   "id": "04e3a774",
   "metadata": {},
   "outputs": [],
   "source": [
    "log_trsfrm_21_users = cft.transform(log_21_users)"
   ]
  },
  {
   "cell_type": "markdown",
   "id": "85c1ec88",
   "metadata": {},
   "source": [
    "As we can see, for a user with a month value of 12, all attributes are **0**"
   ]
  },
  {
   "cell_type": "code",
   "execution_count": 18,
   "id": "9aa5c527",
   "metadata": {},
   "outputs": [
    {
     "name": "stdout",
     "output_type": "stream",
     "text": [
      "-RECORD 0---------------------------\n",
      " user_idx     | 4131                \n",
      " item_idx     | 43                  \n",
      " relevance    | 5.0                 \n",
      " timestamp    | 2001-01-01 01:12:40 \n",
      " ohe_month_9  | 0                   \n",
      " ohe_month_1  | 0                   \n",
      " ohe_month_5  | 0                   \n",
      " ohe_month_2  | 0                   \n",
      " ohe_month_6  | 0                   \n",
      " ohe_month_3  | 0                   \n",
      " ohe_month_10 | 0                   \n",
      " ohe_month_7  | 0                   \n",
      " ohe_month_4  | 0                   \n",
      " ohe_month_11 | 0                   \n",
      " ohe_month_8  | 0                   \n",
      "\n"
     ]
    }
   ],
   "source": [
    "log_trsfrm_21_users.where(f\"user_idx == {user_idx} and item_idx == {item_idx}\").show(vertical=True)"
   ]
  },
  {
   "cell_type": "markdown",
   "id": "6e512232",
   "metadata": {},
   "source": [
    "## class LogStatFeaturesProcessor()\n",
    "\n",
    "Calculate user and item features based on historical interactions.\n",
    "\n",
    "**Features can start with:**\n",
    "\n",
    "1. `u_` - for user\n",
    "\n",
    "2. `i_` - for item\n",
    "\n",
    "3. `u_i` - user regarding the items\n",
    "\n",
    "4.  `i_u` - item regarding the users\n",
    "\n",
    "**Features:**\n",
    "\n",
    "* `log_num_interact` - logarithm of the number of interactions\n",
    "* `log_interact_days_count` - logarithm of the number of unique dates with user-item interactions \n",
    "* `min_interact_date` - min interaction timestamp\n",
    "* `max_interact_date` - max interaction timestamp\n",
    "* `std` - standard deviation of relevance values for a user/item\n",
    "* `mean` - mean relevance values for a user/item\n",
    "* `quantile_05` - 0.05 percentile of relevance relevance for a user/item\n",
    "* `quantile_5` - 0.5 percentile of relevance relevance for a user/item\n",
    "* `quantile_95` - 0.95 percentile of relevance relevance for a user/item\n",
    "* `history_length_days` - history length\n",
    "* `last_interaction_gap_days` - number of days since last interaction\n",
    "* `mean_log_num_interact` - average logarithm of the number of user/item interactions\n",
    "* `log_num_interact_diff` - difference in the number of interactions\n",
    "* `na_u_log_features` - flag, indicating cold user, absent in training log\n",
    "* `na_i_log_features` - flag, indicating cold item, absent in training log\n",
    "\n",
    "\n",
    "<br>\n",
    "<br>\n",
    "* `abnormality`:\n",
    "  $$Abnormality(u) = \\frac{\\Sigma_{r \\in R_u} | n_{u,r} - \\overline{n_{r}} | }{\\| R_u \\|}$$ <br>\n",
    "  $n_{u,r}$ represents the rating that user $u$ assigned to resource $r$<br>$\\overline{n_{r}}$ is the average rating of $r$<br>$R_u$ is the set of resources rated by $u$ and $\\|Ru\\|$ is their number.<br><br>\n",
    "\n",
    "* `abnormalityCR` \n",
    "  $$Abnormality(u) = \\frac{\\Sigma_{r \\in R_u} (( n_{u,r} - \\overline{n_{r}} ) * contr(r))^2 }{\\| R_u \\|}$$ <br>\n",
    "  \n",
    "  $$contr(r) = 1 - \\frac{\\sigma_r - \\sigma_{min} }{\\sigma_{max} - \\sigma_{min}}$$<br>\n",
    "  $\\sigma_r$ is the standard deviation of the ratings associated with the resource $r$<br>$\\sigma_{min}$ and $\\sigma_{max}$ are respectively the smallest and the largest possible stanard deviation values, among resources.\n",
    "  \n",
    "[More about abnormality, abnormalityCR](https://hal.inria.fr/hal-01254172/document)"
   ]
  },
  {
   "cell_type": "code",
   "execution_count": 19,
   "id": "054ff8e3",
   "metadata": {},
   "outputs": [],
   "source": [
    "from replay.history_based_fp import LogStatFeaturesProcessor\n",
    "lf = LogStatFeaturesProcessor()\n",
    "lf.fit(log_20_users)"
   ]
  },
  {
   "cell_type": "code",
   "execution_count": 20,
   "id": "f17003fc",
   "metadata": {},
   "outputs": [],
   "source": [
    "log_trsfrm = lf.transform(log_20_users)"
   ]
  },
  {
   "cell_type": "markdown",
   "id": "7e975d38",
   "metadata": {},
   "source": [
    "#### Before"
   ]
  },
  {
   "cell_type": "code",
   "execution_count": 21,
   "id": "7ecc8101",
   "metadata": {},
   "outputs": [
    {
     "name": "stdout",
     "output_type": "stream",
     "text": [
      "-RECORD 0------------------------\n",
      " user_idx  | 16                  \n",
      " item_idx  | 366                 \n",
      " relevance | 4.0                 \n",
      " timestamp | 2001-01-10 21:07:43 \n",
      " month     | 1                   \n",
      "only showing top 1 row\n",
      "\n"
     ]
    }
   ],
   "source": [
    "log_20_users.show(1, vertical=True)"
   ]
  },
  {
   "cell_type": "markdown",
   "id": "ad835103",
   "metadata": {},
   "source": [
    "#### After"
   ]
  },
  {
   "cell_type": "code",
   "execution_count": 23,
   "id": "815c7bc2",
   "metadata": {},
   "outputs": [
    {
     "name": "stdout",
     "output_type": "stream",
     "text": [
      "-RECORD 0-------------------------------------------\n",
      " item_idx                    | 366                  \n",
      " user_idx                    | 16                   \n",
      " relevance                   | 4.0                  \n",
      " timestamp                   | 2001-01-10 21:07:43  \n",
      " month                       | 1                    \n",
      " u_log_num_interact          | 6.736966958001855    \n",
      " u_log_interact_days_count   | 4.795790545596741    \n",
      " u_min_interact_date         | 2001-01-10 20:59:24  \n",
      " u_max_interact_date         | 2003-02-27 15:31:39  \n",
      " u_std                       | 0.9460530559956203   \n",
      " u_mean                      | 3.561091340450771    \n",
      " u_quantile_05               | 2.0                  \n",
      " u_quantile_5                | 4.0                  \n",
      " u_quantile_95               | 5.0                  \n",
      " u_history_length_days       | 778                  \n",
      " u_last_interaction_gap_days | 0                    \n",
      " abnormality                 | 0.5423858158630311   \n",
      " abnormalityCR               | 0.19071128887487904  \n",
      " u_mean_i_log_num_interact   | 2.3656028196037595   \n",
      " i_log_num_interact          | 2.833213344056216    \n",
      " i_log_interact_days_count   | 2.70805020110221     \n",
      " i_min_interact_date         | 2000-05-10 00:52:44  \n",
      " i_max_interact_date         | 2001-01-10 21:07:43  \n",
      " i_std                       | 0.7717436331412898   \n",
      " i_mean                      | 3.7058823529411766   \n",
      " i_quantile_05               | 2.0                  \n",
      " i_quantile_5                | 4.0                  \n",
      " i_quantile_95               | 5.0                  \n",
      " i_history_length_days       | 245                  \n",
      " i_last_interaction_gap_days | 778                  \n",
      " i_mean_u_log_num_interact   | 7.147766712715646    \n",
      " na_u_log_features           | 0.0                  \n",
      " na_i_log_features           | 0.0                  \n",
      " u_i_log_num_interact_diff   | -0.41079975471379093 \n",
      " i_u_log_num_interact_diff   | 0.46761052445245666  \n",
      "only showing top 1 row\n",
      "\n"
     ]
    }
   ],
   "source": [
    "log_trsfrm.show(1, vertical=True)"
   ]
  },
  {
   "cell_type": "markdown",
   "id": "efc8d5b0",
   "metadata": {},
   "source": [
    "### Processing of cold users and items\n",
    "\n",
    "There are 3 possible scenarios:\n",
    "\n",
    "1. Cold user - a user which was not presented in the training log.\n",
    "    All items' statistics will be present, but the user statistics will be `0`.<br>Flag `na_u_log_features` will be `1`.\n",
    "<br>\n",
    "<br>\n",
    "2. Cold item - an item which was not presented in the training log.\n",
    "    All the user statistics will be present, but the item statistics will be `0`.<br>Flag `na_i_log_features` will be `1`.\n",
    "<br>\n",
    "<br>\n",
    "3. A pair of cold user cold item - user and item which were not presented in the training log.\n",
    "    All statistics will be `0`.<br>Flags `na_u_log_features`, `na_i_log_features` will be `1`."
   ]
  },
  {
   "cell_type": "markdown",
   "id": "62cf38dd",
   "metadata": {},
   "source": [
    "#### Add cold user"
   ]
  },
  {
   "cell_type": "code",
   "execution_count": 27,
   "id": "105ea9af",
   "metadata": {},
   "outputs": [],
   "source": [
    "user_cold = (\n",
    "    log.join(\n",
    "        log_20_users.select(sf.col(\"user_idx\").alias(\"u_idx\"), sf.col(\"item_idx\").alias(\"i_idx\")),\n",
    "        on=sf.col(\"u_idx\") == sf.col(\"user_idx\"),\n",
    "        how=\"left\"\n",
    "    )\n",
    "    .filter(sf.col(\"i_idx\").isNull())\n",
    "    .select(log.columns)\n",
    "    .limit(1)\n",
    ")\n",
    "\n",
    "user_idx, item_idx = user_cold.select(\"user_idx\", \"item_idx\").first()\n",
    "\n",
    "log_21_users  = log_20_users.union(user_cold)"
   ]
  },
  {
   "cell_type": "code",
   "execution_count": 28,
   "id": "e07b7455",
   "metadata": {},
   "outputs": [],
   "source": [
    "log_trsfrm = lf.transform(log_21_users)"
   ]
  },
  {
   "cell_type": "code",
   "execution_count": 29,
   "id": "5cbf4598",
   "metadata": {},
   "outputs": [
    {
     "name": "stderr",
     "output_type": "stream",
     "text": [
      "[Stage 142:===================================================>   (34 + 2) / 36]\r"
     ]
    },
    {
     "name": "stdout",
     "output_type": "stream",
     "text": [
      "-RECORD 0------------------------------------------\n",
      " item_idx                    | 2001                \n",
      " user_idx                    | 38                  \n",
      " relevance                   | 3.0                 \n",
      " timestamp                   | 2000-07-12 08:05:23 \n",
      " month                       | 7                   \n",
      " u_log_num_interact          | 0.0                 \n",
      " u_log_interact_days_count   | 0.0                 \n",
      " u_min_interact_date         | 1970-01-01 03:00:00 \n",
      " u_max_interact_date         | 1970-01-01 03:00:00 \n",
      " u_std                       | 0.0                 \n",
      " u_mean                      | 0.0                 \n",
      " u_quantile_05               | 0.0                 \n",
      " u_quantile_5                | 0.0                 \n",
      " u_quantile_95               | 0.0                 \n",
      " u_history_length_days       | 0                   \n",
      " u_last_interaction_gap_days | 0                   \n",
      " abnormality                 | 0.0                 \n",
      " abnormalityCR               | 0.0                 \n",
      " u_mean_i_log_num_interact   | 0.0                 \n",
      " i_log_num_interact          | 1.791759469228055   \n",
      " i_log_interact_days_count   | 1.791759469228055   \n",
      " i_min_interact_date         | 2000-05-12 19:38:22 \n",
      " i_max_interact_date         | 2000-11-22 04:03:35 \n",
      " i_std                       | 0.983192080250175   \n",
      " i_mean                      | 2.8333333333333335  \n",
      " i_quantile_05               | 1.0                 \n",
      " i_quantile_5                | 3.0                 \n",
      " i_quantile_95               | 4.0                 \n",
      " i_history_length_days       | 194                 \n",
      " i_last_interaction_gap_days | 827                 \n",
      " i_mean_u_log_num_interact   | 7.195477149106103   \n",
      " na_u_log_features           | 1.0                 \n",
      " na_i_log_features           | 0.0                 \n",
      " u_i_log_num_interact_diff   | -7.195477149106103  \n",
      " i_u_log_num_interact_diff   | 1.791759469228055   \n",
      "\n"
     ]
    },
    {
     "name": "stderr",
     "output_type": "stream",
     "text": [
      "\r",
      "[Stage 142:=====================================================> (35 + 1) / 36]\r",
      "\r",
      "                                                                                \r"
     ]
    }
   ],
   "source": [
    "log_trsfrm.where(f\"user_idx == {user_idx}\").show(1, vertical=True)"
   ]
  },
  {
   "cell_type": "markdown",
   "id": "707c6fd3",
   "metadata": {},
   "source": [
    "#### Add cold item"
   ]
  },
  {
   "cell_type": "code",
   "execution_count": 30,
   "id": "56133e2d",
   "metadata": {},
   "outputs": [],
   "source": [
    "item_cold = (\n",
    "    log.join(\n",
    "        log_20_users.select(sf.col(\"user_idx\").alias(\"u_idx\"), sf.col(\"item_idx\").alias(\"i_idx\")),\n",
    "        on=sf.col(\"i_idx\") == sf.col(\"item_idx\"),\n",
    "        how=\"left\"\n",
    "    )\n",
    "    .filter(sf.col(\"i_idx\").isNull())\n",
    "    .select(log.columns)\n",
    "    .filter(\"user_idx < 20\")\n",
    "    .limit(1)\n",
    ")\n",
    "\n",
    "user_idx, item_idx = item_cold.select(\"user_idx\", \"item_idx\").first()\n",
    "\n",
    "log_21_users  = log_20_users.union(item_cold)"
   ]
  },
  {
   "cell_type": "code",
   "execution_count": 31,
   "id": "4f3cba2c",
   "metadata": {},
   "outputs": [],
   "source": [
    "log_trsfrm = lf.transform(log_21_users)"
   ]
  },
  {
   "cell_type": "code",
   "execution_count": 32,
   "id": "aa08096e",
   "metadata": {},
   "outputs": [
    {
     "name": "stdout",
     "output_type": "stream",
     "text": [
      "-RECORD 0------------------------------------------\n",
      " item_idx                    | 3078                \n",
      " user_idx                    | 4                   \n",
      " relevance                   | 2.0                 \n",
      " timestamp                   | 2000-12-07 03:23:32 \n",
      " month                       | 12                  \n",
      " u_log_num_interact          | 6.911747300251674   \n",
      " u_log_interact_days_count   | 2.6390573296152584  \n",
      " u_min_interact_date         | 2000-11-22 03:47:32 \n",
      " u_max_interact_date         | 2002-05-13 02:30:58 \n",
      " u_std                       | 0.8582482337323498  \n",
      " u_mean                      | 3.0468127490039842  \n",
      " u_quantile_05               | 2.0                 \n",
      " u_quantile_5                | 3.0                 \n",
      " u_quantile_95               | 4.0                 \n",
      " u_history_length_days       | 537                 \n",
      " u_last_interaction_gap_days | 290                 \n",
      " abnormality                 | 0.696032092299538   \n",
      " abnormalityCR               | 0.30599330777137257 \n",
      " u_mean_i_log_num_interact   | 2.3843670209191963  \n",
      " i_log_num_interact          | 0.0                 \n",
      " i_log_interact_days_count   | 0.0                 \n",
      " i_min_interact_date         | 1970-01-01 03:00:00 \n",
      " i_max_interact_date         | 1970-01-01 03:00:00 \n",
      " i_std                       | 0.0                 \n",
      " i_mean                      | 0.0                 \n",
      " i_quantile_05               | 0.0                 \n",
      " i_quantile_5                | 0.0                 \n",
      " i_quantile_95               | 0.0                 \n",
      " i_history_length_days       | 0                   \n",
      " i_last_interaction_gap_days | 0                   \n",
      " i_mean_u_log_num_interact   | 0.0                 \n",
      " na_u_log_features           | 0.0                 \n",
      " na_i_log_features           | 1.0                 \n",
      " u_i_log_num_interact_diff   | 6.911747300251674   \n",
      " i_u_log_num_interact_diff   | -2.3843670209191963 \n",
      "\n"
     ]
    }
   ],
   "source": [
    "log_trsfrm.where(f\"item_idx == {item_idx}\").show(1, vertical=True)"
   ]
  },
  {
   "cell_type": "markdown",
   "id": "d22cb61e",
   "metadata": {},
   "source": [
    "#### Add cold item and user"
   ]
  },
  {
   "cell_type": "code",
   "execution_count": 33,
   "id": "5f404f31",
   "metadata": {},
   "outputs": [],
   "source": [
    "item_user_cold = (\n",
    "    log.join(\n",
    "        log_20_users.select(sf.col(\"user_idx\").alias(\"u_idx\"), sf.col(\"item_idx\").alias(\"i_idx\")),\n",
    "        on=sf.col(\"i_idx\") == sf.col(\"item_idx\"),\n",
    "        how=\"left\"\n",
    "    )\n",
    "    .filter(sf.col(\"i_idx\").isNull())\n",
    "    .select(log.columns)\n",
    "    .filter(\"user_idx > 20\")\n",
    "    .limit(1)\n",
    ")\n",
    "\n",
    "user_idx, item_idx = item_user_cold.select(\"user_idx\", \"item_idx\").first()\n",
    "\n",
    "log_21_users  = log_20_users.union(item_user_cold)"
   ]
  },
  {
   "cell_type": "code",
   "execution_count": 34,
   "id": "dc08e373",
   "metadata": {},
   "outputs": [],
   "source": [
    "log_trsfrm = lf.transform(log_21_users)"
   ]
  },
  {
   "cell_type": "code",
   "execution_count": 36,
   "id": "7bffa56e",
   "metadata": {},
   "outputs": [
    {
     "name": "stdout",
     "output_type": "stream",
     "text": [
      "-RECORD 0------------------------------------------\n",
      " item_idx                    | 3078                \n",
      " user_idx                    | 1335                \n",
      " relevance                   | 1.0                 \n",
      " timestamp                   | 2000-12-02 02:41:14 \n",
      " month                       | 12                  \n",
      " u_log_num_interact          | 0.0                 \n",
      " u_log_interact_days_count   | 0.0                 \n",
      " u_min_interact_date         | 1970-01-01 03:00:00 \n",
      " u_max_interact_date         | 1970-01-01 03:00:00 \n",
      " u_std                       | 0.0                 \n",
      " u_mean                      | 0.0                 \n",
      " u_quantile_05               | 0.0                 \n",
      " u_quantile_5                | 0.0                 \n",
      " u_quantile_95               | 0.0                 \n",
      " u_history_length_days       | 0                   \n",
      " u_last_interaction_gap_days | 0                   \n",
      " abnormality                 | 0.0                 \n",
      " abnormalityCR               | 0.0                 \n",
      " u_mean_i_log_num_interact   | 0.0                 \n",
      " i_log_num_interact          | 0.0                 \n",
      " i_log_interact_days_count   | 0.0                 \n",
      " i_min_interact_date         | 1970-01-01 03:00:00 \n",
      " i_max_interact_date         | 1970-01-01 03:00:00 \n",
      " i_std                       | 0.0                 \n",
      " i_mean                      | 0.0                 \n",
      " i_quantile_05               | 0.0                 \n",
      " i_quantile_5                | 0.0                 \n",
      " i_quantile_95               | 0.0                 \n",
      " i_history_length_days       | 0                   \n",
      " i_last_interaction_gap_days | 0                   \n",
      " i_mean_u_log_num_interact   | 0.0                 \n",
      " na_u_log_features           | 1.0                 \n",
      " na_i_log_features           | 1.0                 \n",
      " u_i_log_num_interact_diff   | 0.0                 \n",
      " i_u_log_num_interact_diff   | 0.0                 \n",
      "\n"
     ]
    }
   ],
   "source": [
    "log_trsfrm.where(f\"item_idx == {item_idx} and user_idx == {user_idx}\").show(1, vertical=True)"
   ]
  }
 ],
 "metadata": {
  "kernelspec": {
   "display_name": "Python 3 (ipykernel)",
   "language": "python",
   "name": "python3"
  },
  "language_info": {
   "codemirror_mode": {
    "name": "ipython",
    "version": 3
   },
   "file_extension": ".py",
   "mimetype": "text/x-python",
   "name": "python",
   "nbconvert_exporter": "python",
   "pygments_lexer": "ipython3",
   "version": "3.9.8"
  }
 },
 "nbformat": 4,
 "nbformat_minor": 5
}
