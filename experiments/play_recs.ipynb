{
 "cells": [
  {
   "cell_type": "code",
   "execution_count": 1,
   "id": "23d4a7af-6012-4dbf-8e05-28f74e91f742",
   "metadata": {},
   "outputs": [
    {
     "name": "stderr",
     "output_type": "stream",
     "text": [
      "/Users/kuderov/mambaforge/envs/offrl/lib/python3.9/site-packages/lightfm/_lightfm_fast.py:9: UserWarning: LightFM was compiled without OpenMP support. Only a single thread will be used.\n",
      "  warnings.warn(\n"
     ]
    }
   ],
   "source": [
    "import logging\n",
    "import time\n",
    "import warnings\n",
    "\n",
    "import pandas as pd\n",
    "import torch\n",
    "import tqdm\n",
    "from optuna.exceptions import ExperimentalWarning\n",
    "from pyspark.sql import functions as sf\n",
    "\n",
    "from replay.data_preparator import DataPreparator, Indexer\n",
    "from replay.experiment import Experiment\n",
    "from replay.metrics import HitRate, NDCG, MAP, MRR, Coverage, Surprisal\n",
    "from replay.models import ALSWrap, KNN, LightFMWrap, SLIM, UCB, CQL, Wilson\n",
    "from replay.session_handler import State\n",
    "from replay.splitters import DateSplitter\n",
    "from replay.utils import get_log_info\n",
    "\n",
    "warnings.filterwarnings(\"ignore\", category=UserWarning)\n",
    "warnings.filterwarnings(\"ignore\", category=ExperimentalWarning)\n",
    "use_gpu = torch.cuda.is_available()"
   ]
  },
  {
   "cell_type": "markdown",
   "id": "d66ef7c7-ed32-4d67-930b-56da141a63bd",
   "metadata": {},
   "source": [
    "## Set Spark log level"
   ]
  },
  {
   "cell_type": "code",
   "execution_count": 2,
   "id": "20c0208f-add3-4a20-ab24-3be0e685e245",
   "metadata": {},
   "outputs": [
    {
     "name": "stderr",
     "output_type": "stream",
     "text": [
      "WARNING: An illegal reflective access operation has occurred\n",
      "WARNING: Illegal reflective access by org.apache.spark.unsafe.Platform (file:/Users/kuderov/mambaforge/envs/offrl/lib/python3.9/site-packages/pyspark/jars/spark-unsafe_2.12-3.0.3.jar) to constructor java.nio.DirectByteBuffer(long,int)\n",
      "WARNING: Please consider reporting this to the maintainers of org.apache.spark.unsafe.Platform\n",
      "WARNING: Use --illegal-access=warn to enable warnings of further illegal reflective access operations\n",
      "WARNING: All illegal access operations will be denied in a future release\n",
      "22/08/01 11:51:04 WARN NativeCodeLoader: Unable to load native-hadoop library for your platform... using builtin-java classes where applicable\n",
      "Using Spark's default log4j profile: org/apache/spark/log4j-defaults.properties\n",
      "Setting default log level to \"WARN\".\n",
      "To adjust logging level use sc.setLogLevel(newLevel). For SparkR, use setLogLevel(newLevel).\n",
      "22/08/01 11:51:05 WARN SparkConf: Note that spark.local.dir will be overridden by the value set by the cluster manager (via SPARK_LOCAL_DIRS in mesos/standalone/kubernetes and LOCAL_DIRS in YARN).\n",
      "22/08/01 11:51:06 WARN Utils: Service 'SparkUI' could not bind on port 4040. Attempting port 4041.\n"
     ]
    }
   ],
   "source": [
    "spark = State().session\n",
    "spark.sparkContext.setLogLevel('ERROR')"
   ]
  },
  {
   "cell_type": "markdown",
   "id": "493b5d2e-c8c0-473d-8ff1-71ed4d4ea877",
   "metadata": {},
   "source": [
    "## Read ML1M dataset"
   ]
  },
  {
   "cell_type": "code",
   "execution_count": 3,
   "id": "f7b4a13f-16c1-4d46-a247-fe02237ec0de",
   "metadata": {},
   "outputs": [],
   "source": [
    "prefix = \"./data/\"\n",
    "df_log = pd.read_csv(f'{prefix}/ml1m_ratings.dat', sep='\\t', names=['user_id', 'item_id', 'relevance', 'timestamp'])\n",
    "# df_items = pd.read_csv(f'{prefix}/ml1m_items.dat', sep='\\t', names=['item_id', 'name', 'genre'])\n",
    "# df_users = pd.read_csv(f'{prefix}/ml1m_users.dat', sep='\\t', names=['user_id', 'gender', 'age', 'occupation', 'zip_code'])"
   ]
  },
  {
   "cell_type": "code",
   "execution_count": 4,
   "id": "a7d92ce7-ed45-4a28-80c4-e8221c2e416b",
   "metadata": {},
   "outputs": [
    {
     "name": "stderr",
     "output_type": "stream",
     "text": [
      "01-Aug-22 11:51:07, replay, INFO: Columns with ids of users or items are present in mapping. The dataframe will be treated as an interactions log.\n",
      "/Users/kuderov/mambaforge/envs/offrl/lib/python3.9/site-packages/pyspark/sql/pandas/utils.py:34: DeprecationWarning: distutils Version classes are deprecated. Use packaging.version instead.\n",
      "  if LooseVersion(pandas.__version__) < LooseVersion(minimum_pandas_version):\n",
      "                                                                                \r"
     ]
    }
   ],
   "source": [
    "col_mapping = {key: key for key in ['user_id', 'item_id', 'relevance', 'timestamp']}\n",
    "\n",
    "data_preparator = DataPreparator()\n",
    "log = data_preparator.transform(columns_mapping=col_mapping, data=df_log)"
   ]
  },
  {
   "cell_type": "code",
   "execution_count": 5,
   "id": "dc31ae8c-862c-4247-a1d0-d8a8291a4e33",
   "metadata": {},
   "outputs": [
    {
     "name": "stdout",
     "output_type": "stream",
     "text": [
      "+-------+-------+---------+-------------------+\n",
      "|user_id|item_id|relevance|          timestamp|\n",
      "+-------+-------+---------+-------------------+\n",
      "|      1|   1193|      5.0|2001-01-01 01:12:40|\n",
      "|      1|    661|      3.0|2001-01-01 01:35:09|\n",
      "+-------+-------+---------+-------------------+\n",
      "only showing top 2 rows\n",
      "\n"
     ]
    }
   ],
   "source": [
    "log.show(2)"
   ]
  },
  {
   "cell_type": "code",
   "execution_count": 6,
   "id": "73581cf0-5257-4a33-8b04-77e44f871fbb",
   "metadata": {},
   "outputs": [
    {
     "name": "stdout",
     "output_type": "stream",
     "text": [
      "root\n",
      " |-- user_id: long (nullable = true)\n",
      " |-- item_id: long (nullable = true)\n",
      " |-- relevance: double (nullable = true)\n",
      " |-- timestamp: timestamp (nullable = true)\n",
      "\n"
     ]
    }
   ],
   "source": [
    "log.printSchema()"
   ]
  },
  {
   "cell_type": "code",
   "execution_count": 7,
   "id": "a0c26d71-2268-4795-9e1e-cfe8b562945d",
   "metadata": {},
   "outputs": [
    {
     "name": "stderr",
     "output_type": "stream",
     "text": [
      "                                                                                \r"
     ]
    },
    {
     "data": {
      "text/plain": [
       "'total lines: 1000209, total users: 6040, total items: 3706'"
      ]
     },
     "execution_count": 7,
     "metadata": {},
     "output_type": "execute_result"
    }
   ],
   "source": [
    "get_log_info(log, user_col='user_id', item_col='item_id')"
   ]
  },
  {
   "cell_type": "markdown",
   "id": "d863e4d9-6a44-47c4-9925-a16d130d867c",
   "metadata": {},
   "source": [
    "Experiment constants/hyperparams"
   ]
  },
  {
   "cell_type": "code",
   "execution_count": 8,
   "id": "347bbd0d-fe98-4362-a487-a3a4df158186",
   "metadata": {},
   "outputs": [],
   "source": [
    "K = 10\n",
    "K_list_metrics = [1, 5, 10]\n",
    "SEED = 12345"
   ]
  },
  {
   "cell_type": "markdown",
   "id": "669b8881-9eaf-49d8-9b23-cf554680aea4",
   "metadata": {},
   "source": [
    "## Prepare data for training/testing\n",
    "\n",
    "Apply PySpark indexing, then split randomly into train/test datasets"
   ]
  },
  {
   "cell_type": "code",
   "execution_count": 9,
   "id": "2d0020e4-1892-4908-8cfe-7df7240dd712",
   "metadata": {},
   "outputs": [
    {
     "name": "stderr",
     "output_type": "stream",
     "text": [
      "                                                                                \r"
     ]
    }
   ],
   "source": [
    "indexer = Indexer()\n",
    "indexer.fit(users=log.select('user_id'), items=log.select('item_id'))"
   ]
  },
  {
   "cell_type": "code",
   "execution_count": 10,
   "id": "5bf8cb70-ed9c-4c51-8d27-288a143669ce",
   "metadata": {},
   "outputs": [
    {
     "data": {
      "text/plain": [
       "(836478, 163731)"
      ]
     },
     "execution_count": 10,
     "metadata": {},
     "output_type": "execute_result"
    }
   ],
   "source": [
    "# will consider ratings >= 3 as positive feedback. A positive feedback is treated with relevance = 1\n",
    "only_positives_log = log.filter(sf.col('relevance') >= 3).withColumn('relevance', sf.lit(1.))\n",
    "# negative feedback will be used for Wilson and UCB models\n",
    "only_negatives_log = log.filter(sf.col('relevance') < 3).withColumn('relevance', sf.lit(0.))\n",
    "\n",
    "only_positives_log.count(), only_negatives_log.count()"
   ]
  },
  {
   "cell_type": "code",
   "execution_count": 11,
   "id": "322e1fd8-1c3b-4e65-8ab2-d1780199776e",
   "metadata": {},
   "outputs": [
    {
     "name": "stderr",
     "output_type": "stream",
     "text": [
      "/Users/kuderov/mambaforge/envs/offrl/lib/python3.9/site-packages/pyspark/sql/pandas/utils.py:34: DeprecationWarning: distutils Version classes are deprecated. Use packaging.version instead.\n",
      "  if LooseVersion(pandas.__version__) < LooseVersion(minimum_pandas_version):\n",
      "                                                                                \r"
     ]
    },
    {
     "name": "stdout",
     "output_type": "stream",
     "text": [
      "+--------+--------+---------+-------------------+\n",
      "|user_idx|item_idx|relevance|          timestamp|\n",
      "+--------+--------+---------+-------------------+\n",
      "|    4131|      43|      1.0|2001-01-01 01:12:40|\n",
      "|    4131|     585|      1.0|2001-01-01 01:35:09|\n",
      "+--------+--------+---------+-------------------+\n",
      "only showing top 2 rows\n",
      "\n"
     ]
    }
   ],
   "source": [
    "pos_log = indexer.transform(df=only_positives_log)\n",
    "pos_log.show(2)"
   ]
  },
  {
   "cell_type": "code",
   "execution_count": 12,
   "id": "e2ff3042-08b0-4062-aecf-640989393ea3",
   "metadata": {},
   "outputs": [
    {
     "name": "stderr",
     "output_type": "stream",
     "text": [
      "                                                                                \r"
     ]
    },
    {
     "name": "stdout",
     "output_type": "stream",
     "text": [
      "train info:\n",
      " total lines: 669181, total users: 5397, total items: 3569\n"
     ]
    },
    {
     "name": "stderr",
     "output_type": "stream",
     "text": [
      "[Stage 56:>                                                         (0 + 8) / 8]\r"
     ]
    },
    {
     "name": "stdout",
     "output_type": "stream",
     "text": [
      "test info:\n",
      " total lines: 86542, total users: 1139, total items: 3279\n"
     ]
    },
    {
     "name": "stderr",
     "output_type": "stream",
     "text": [
      "                                                                                \r"
     ]
    }
   ],
   "source": [
    "# train/test split \n",
    "date_splitter = DateSplitter(\n",
    "    test_start=0.2,\n",
    "    drop_cold_items=True,\n",
    "    drop_cold_users=True,\n",
    "\n",
    ")\n",
    "train, test = date_splitter.split(pos_log)\n",
    "train.cache(), test.cache()\n",
    "print('train info:\\n', get_log_info(train))\n",
    "print('test info:\\n', get_log_info(test))"
   ]
  },
  {
   "cell_type": "code",
   "execution_count": 13,
   "id": "3f7ebb2b-7fc8-4744-9bfe-d6ef2ce6860c",
   "metadata": {},
   "outputs": [
    {
     "name": "stderr",
     "output_type": "stream",
     "text": [
      "/Users/kuderov/mambaforge/envs/offrl/lib/python3.9/site-packages/pyspark/sql/pandas/utils.py:34: DeprecationWarning: distutils Version classes are deprecated. Use packaging.version instead.\n",
      "  if LooseVersion(pandas.__version__) < LooseVersion(minimum_pandas_version):\n",
      "/Users/kuderov/mambaforge/envs/offrl/lib/python3.9/site-packages/pyspark/sql/pandas/utils.py:34: DeprecationWarning: distutils Version classes are deprecated. Use packaging.version instead.\n",
      "  if LooseVersion(pandas.__version__) < LooseVersion(minimum_pandas_version):\n",
      "                                                                                \r"
     ]
    },
    {
     "data": {
      "text/plain": [
       "798993"
      ]
     },
     "execution_count": 13,
     "metadata": {},
     "output_type": "execute_result"
    }
   ],
   "source": [
    "test_start = test.agg(sf.min('timestamp')).collect()[0][0]\n",
    "\n",
    "# train with both positive and negative feedback\n",
    "pos_neg_train=(\n",
    "    train\n",
    "    .withColumn('relevance', sf.lit(1.))\n",
    "    .union(\n",
    "        indexer.transform(\n",
    "            only_negatives_log.filter(sf.col('timestamp') < test_start)\n",
    "        )\n",
    "    )\n",
    ")\n",
    "pos_neg_train.cache()\n",
    "pos_neg_train.count()"
   ]
  },
  {
   "cell_type": "markdown",
   "id": "52ecac1b-c4d9-46ca-bf73-6b7ae693944e",
   "metadata": {},
   "source": [
    "## Run training"
   ]
  },
  {
   "cell_type": "code",
   "execution_count": 14,
   "id": "13b3a353-13ac-4bc3-a903-93a82f9280ec",
   "metadata": {},
   "outputs": [],
   "source": [
    "def fit_predict_add_res(name, model, experiment, train, top_k, test_users):\n",
    "    \"\"\"\n",
    "    Run fit_predict for the `model`, measure time on fit_predict and evaluate metrics\n",
    "    \"\"\"\n",
    "    start_time=time.time()\n",
    "    \n",
    "    model.fit(log=train)\n",
    "    fit_time = time.time() - start_time\n",
    "\n",
    "    pred=model.predict(log=train, k=top_k, users=test_users)\n",
    "    pred.cache()\n",
    "    pred.count()\n",
    "    predict_time = time.time() - start_time - fit_time\n",
    "\n",
    "    experiment.add_result(name, pred)\n",
    "    metric_time = time.time() - start_time - fit_time - predict_time\n",
    "    \n",
    "    experiment.results.loc[name, 'fit_time'] = fit_time\n",
    "    experiment.results.loc[name, 'predict_time'] = predict_time\n",
    "    experiment.results.loc[name, 'metric_time'] = metric_time\n",
    "    experiment.results.loc[name, 'full_time'] = (fit_time + predict_time + metric_time)\n",
    "    pred.unpersist()"
   ]
  },
  {
   "cell_type": "code",
   "execution_count": 15,
   "id": "b0dc2024-ae7e-47ab-b5aa-d474315eee1f",
   "metadata": {},
   "outputs": [
    {
     "name": "stderr",
     "output_type": "stream",
     "text": [
      "01-Aug-22 11:52:02, replay, INFO: The model is neural network with non-distributed training\n"
     ]
    }
   ],
   "source": [
    "experiment = Experiment(test, {MAP(): K, NDCG(): K, HitRate(): K_list_metrics, Coverage(train): K, Surprisal(train): K, MRR(): K})\n",
    "\n",
    "algorithms = {\n",
    "    'CQL': CQL(use_gpu=use_gpu, k=K, n_epochs=3),\n",
    "    'ALS': ALSWrap(seed=SEED),\n",
    "    'KNN': KNN(num_neighbours=K),\n",
    "    'LightFM': LightFMWrap(random_state=SEED), \n",
    "    'SLIM': SLIM(seed=SEED),\n",
    "    'UCB': UCB(exploration_coef=0.5)\n",
    "}"
   ]
  },
  {
   "cell_type": "code",
   "execution_count": 16,
   "id": "4c752104-62cb-4584-973f-387ed6915ae3",
   "metadata": {},
   "outputs": [
    {
     "data": {
      "application/vnd.jupyter.widget-view+json": {
       "model_id": "30c3f3ee32154d5c800d3e27842d2875",
       "version_major": 2,
       "version_minor": 0
      },
      "text/plain": [
       "Model:   0%|          | 0/6 [00:00<?, ?it/s]"
      ]
     },
     "metadata": {},
     "output_type": "display_data"
    },
    {
     "name": "stderr",
     "output_type": "stream",
     "text": [
      "01-Aug-22 11:52:02, replay, INFO: CQL started\n",
      "/Users/kuderov/mambaforge/envs/offrl/lib/python3.9/site-packages/pyspark/sql/pandas/utils.py:34: DeprecationWarning: distutils Version classes are deprecated. Use packaging.version instead.\n",
      "  if LooseVersion(pandas.__version__) < LooseVersion(minimum_pandas_version):\n",
      "/Users/kuderov/mambaforge/envs/offrl/lib/python3.9/site-packages/pyspark/sql/pandas/utils.py:34: DeprecationWarning: distutils Version classes are deprecated. Use packaging.version instead.\n",
      "  if LooseVersion(pandas.__version__) < LooseVersion(minimum_pandas_version):\n"
     ]
    },
    {
     "name": "stdout",
     "output_type": "stream",
     "text": [
      "2022-08-01 11:52.10 [debug    ] RoundIterator is selected.\n",
      "2022-08-01 11:52.10 [info     ] Directory is created at d3rlpy_logs/CQL_20220801115210\n",
      "2022-08-01 11:52.10 [debug    ] Building models...\n",
      "2022-08-01 11:52.10 [debug    ] Models have been built.\n",
      "2022-08-01 11:52.10 [info     ] Parameters are saved to d3rlpy_logs/CQL_20220801115210/params.json params={'action_scaler': None, 'actor_encoder_factory': {'type': 'default', 'params': {'activation': 'relu', 'use_batch_norm': False, 'dropout_rate': None}}, 'actor_learning_rate': 0.0001, 'actor_optim_factory': {'optim_cls': 'Adam', 'betas': (0.9, 0.999), 'eps': 1e-08, 'weight_decay': 0, 'amsgrad': False}, 'alpha_learning_rate': 0.0001, 'alpha_optim_factory': {'optim_cls': 'Adam', 'betas': (0.9, 0.999), 'eps': 1e-08, 'weight_decay': 0, 'amsgrad': False}, 'alpha_threshold': 10.0, 'batch_size': 256, 'conservative_weight': 5.0, 'critic_encoder_factory': {'type': 'default', 'params': {'activation': 'relu', 'use_batch_norm': False, 'dropout_rate': None}}, 'critic_learning_rate': 0.0003, 'critic_optim_factory': {'optim_cls': 'Adam', 'betas': (0.9, 0.999), 'eps': 1e-08, 'weight_decay': 0, 'amsgrad': False}, 'gamma': 0.99, 'generated_maxlen': 100000, 'initial_alpha': 1.0, 'initial_temperature': 1.0, 'n_action_samples': 10, 'n_critics': 2, 'n_frames': 1, 'n_steps': 1, 'q_func_factory': {'type': 'mean', 'params': {'share_encoder': False}}, 'real_ratio': 1.0, 'reward_scaler': None, 'scaler': None, 'soft_q_backup': False, 'tau': 0.005, 'temp_learning_rate': 0.0001, 'temp_optim_factory': {'optim_cls': 'Adam', 'betas': (0.9, 0.999), 'eps': 1e-08, 'weight_decay': 0, 'amsgrad': False}, 'use_gpu': None, 'algorithm': 'CQL', 'observation_shape': (2,), 'action_size': 1}\n"
     ]
    },
    {
     "data": {
      "application/vnd.jupyter.widget-view+json": {
       "model_id": "cd0a2312050a4e9187da49ed84ad0473",
       "version_major": 2,
       "version_minor": 0
      },
      "text/plain": [
       "Epoch 1/3:   0%|          | 0/2613 [00:00<?, ?it/s]"
      ]
     },
     "metadata": {},
     "output_type": "display_data"
    },
    {
     "name": "stdout",
     "output_type": "stream",
     "text": [
      "2022-08-01 11:54.19 [info     ] CQL_20220801115210: epoch=1 step=2613 epoch=1 metrics={'time_sample_batch': 0.0005153620603483297, 'time_algorithm_update': 0.04833759907511884, 'temp_loss': -8.16541134468695, 'temp': 1.0999085514015317, 'alpha_loss': -3.906728253722561, 'alpha': 1.1031546600924294, 'critic_loss': 1043.9835001169563, 'actor_loss': -85.92551019216377, 'time_step': 0.04899401378230121} step=2613\n",
      "2022-08-01 11:54.19 [info     ] Model parameters are saved to d3rlpy_logs/CQL_20220801115210/model_2613.pt\n"
     ]
    },
    {
     "data": {
      "application/vnd.jupyter.widget-view+json": {
       "model_id": "754d9f28104f489c8864cc2883957837",
       "version_major": 2,
       "version_minor": 0
      },
      "text/plain": [
       "Epoch 2/3:   0%|          | 0/2613 [00:00<?, ?it/s]"
      ]
     },
     "metadata": {},
     "output_type": "display_data"
    },
    {
     "name": "stdout",
     "output_type": "stream",
     "text": [
      "2022-08-01 11:56.29 [info     ] CQL_20220801115210: epoch=2 step=5226 epoch=2 metrics={'time_sample_batch': 0.00036586749795475, 'time_algorithm_update': 0.04915278896809172, 'temp_loss': -16.152804303570722, 'temp': 1.393520092900302, 'alpha_loss': -0.7929469443660927, 'alpha': 1.2729923209603884, 'critic_loss': 563.4292250758973, 'actor_loss': -49.61606520260379, 'time_step': 0.04965846866106923} step=5226\n",
      "2022-08-01 11:56.29 [info     ] Model parameters are saved to d3rlpy_logs/CQL_20220801115210/model_5226.pt\n"
     ]
    },
    {
     "data": {
      "application/vnd.jupyter.widget-view+json": {
       "model_id": "3ca5d21183f348ff9ecdd89b451764c3",
       "version_major": 2,
       "version_minor": 0
      },
      "text/plain": [
       "Epoch 3/3:   0%|          | 0/2613 [00:00<?, ?it/s]"
      ]
     },
     "metadata": {},
     "output_type": "display_data"
    },
    {
     "name": "stdout",
     "output_type": "stream",
     "text": [
      "2022-08-01 11:58.36 [info     ] CQL_20220801115210: epoch=3 step=7839 epoch=3 metrics={'time_sample_batch': 0.0003811867812835892, 'time_algorithm_update': 0.04784268362057697, 'temp_loss': -13.015149033211038, 'temp': 1.7171559768575295, 'alpha_loss': -0.22509111286533384, 'alpha': 1.3313270318658699, 'critic_loss': 237.90978991764055, 'actor_loss': -19.166483826116952, 'time_step': 0.04836500142663546} step=7839\n",
      "2022-08-01 11:58.36 [info     ] Model parameters are saved to d3rlpy_logs/CQL_20220801115210/model_7839.pt\n"
     ]
    },
    {
     "name": "stderr",
     "output_type": "stream",
     "text": [
      "/Users/kuderov/mambaforge/envs/offrl/lib/python3.9/site-packages/pyspark/sql/pandas/utils.py:34: DeprecationWarning: distutils Version classes are deprecated. Use packaging.version instead.\n",
      "  if LooseVersion(pandas.__version__) < LooseVersion(minimum_pandas_version):\n",
      "/Users/kuderov/mambaforge/envs/offrl/lib/python3.9/site-packages/pyspark/sql/pandas/utils.py:34: DeprecationWarning: distutils Version classes are deprecated. Use packaging.version instead.\n",
      "  if LooseVersion(pandas.__version__) < LooseVersion(minimum_pandas_version):\n",
      "/Users/kuderov/mambaforge/envs/offrl/lib/python3.9/site-packages/pyspark/sql/pandas/utils.py:34: DeprecationWarning: distutils Version classes are deprecated. Use packaging.version instead.\n",
      "  if LooseVersion(pandas.__version__) < LooseVersion(minimum_pandas_version):\n",
      "01-Aug-22 11:59:34, replay, INFO: ALS started                                   \n"
     ]
    },
    {
     "name": "stdout",
     "output_type": "stream",
     "text": [
      "      NDCG@10    MRR@10  Coverage@10    fit_time\n",
      "CQL  0.033492  0.078719     0.207341  393.981391\n"
     ]
    },
    {
     "name": "stderr",
     "output_type": "stream",
     "text": [
      "/Users/kuderov/mambaforge/envs/offrl/lib/python3.9/site-packages/pyspark/sql/context.py:118: DeprecationWarning: Deprecated in 3.0.0. Use SparkSession.builder.getOrCreate() instead.\n",
      "  warnings.warn(\n",
      "01-Aug-22 12:00:47, replay, INFO: KNN started                                   \n"
     ]
    },
    {
     "name": "stdout",
     "output_type": "stream",
     "text": [
      "      NDCG@10    MRR@10  Coverage@10    fit_time\n",
      "ALS  0.255471  0.413317     0.147380   20.821820\n",
      "CQL  0.033492  0.078719     0.207341  393.981391\n"
     ]
    },
    {
     "name": "stderr",
     "output_type": "stream",
     "text": [
      "01-Aug-22 12:02:04, replay, INFO: LightFM started                               \n"
     ]
    },
    {
     "name": "stdout",
     "output_type": "stream",
     "text": [
      "      NDCG@10    MRR@10  Coverage@10    fit_time\n",
      "ALS  0.255471  0.413317     0.147380   20.821820\n",
      "KNN  0.246561  0.404074     0.102550   40.617612\n",
      "CQL  0.033492  0.078719     0.207341  393.981391\n"
     ]
    },
    {
     "name": "stderr",
     "output_type": "stream",
     "text": [
      "/Users/kuderov/mambaforge/envs/offrl/lib/python3.9/site-packages/pyspark/sql/pandas/utils.py:34: DeprecationWarning: distutils Version classes are deprecated. Use packaging.version instead.\n",
      "  if LooseVersion(pandas.__version__) < LooseVersion(minimum_pandas_version):\n",
      "/Users/kuderov/mambaforge/envs/offrl/lib/python3.9/site-packages/pyspark/sql/pandas/utils.py:34: DeprecationWarning: distutils Version classes are deprecated. Use packaging.version instead.\n",
      "  if LooseVersion(pandas.__version__) < LooseVersion(minimum_pandas_version):\n",
      "/Users/kuderov/mambaforge/envs/offrl/lib/python3.9/site-packages/lightfm/_lightfm_fast.py:9: UserWarning: LightFM was compiled without OpenMP support. Only a single thread will be used.\n",
      "  warnings.warn(\n",
      "/Users/kuderov/mambaforge/envs/offrl/lib/python3.9/site-packages/lightfm/_lightfm_fast.py:9: UserWarning: LightFM was compiled without OpenMP support. Only a single thread will be used.\n",
      "  warnings.warn(\n",
      "/Users/kuderov/mambaforge/envs/offrl/lib/python3.9/site-packages/lightfm/_lightfm_fast.py:9: UserWarning: LightFM was compiled without OpenMP support. Only a single thread will be used.\n",
      "  warnings.warn(\n",
      "/Users/kuderov/mambaforge/envs/offrl/lib/python3.9/site-packages/lightfm/_lightfm_fast.py:9: UserWarning: LightFM was compiled without OpenMP support. Only a single thread will be used.\n",
      "  warnings.warn(\n",
      "/Users/kuderov/mambaforge/envs/offrl/lib/python3.9/site-packages/lightfm/_lightfm_fast.py:9: UserWarning: LightFM was compiled without OpenMP support. Only a single thread will be used.\n",
      "  warnings.warn(\n",
      "/Users/kuderov/mambaforge/envs/offrl/lib/python3.9/site-packages/lightfm/_lightfm_fast.py:9: UserWarning: LightFM was compiled without OpenMP support. Only a single thread will be used.\n",
      "  warnings.warn(\n",
      "/Users/kuderov/mambaforge/envs/offrl/lib/python3.9/site-packages/lightfm/_lightfm_fast.py:9: UserWarning: LightFM was compiled without OpenMP support. Only a single thread will be used.\n",
      "  warnings.warn(\n",
      "/Users/kuderov/mambaforge/envs/offrl/lib/python3.9/site-packages/lightfm/_lightfm_fast.py:9: UserWarning: LightFM was compiled without OpenMP support. Only a single thread will be used.\n",
      "  warnings.warn(\n",
      "/Users/kuderov/mambaforge/envs/offrl/lib/python3.9/site-packages/lightfm/_lightfm_fast.py:9: UserWarning: LightFM was compiled without OpenMP support. Only a single thread will be used.\n",
      "  warnings.warn(\n",
      "/Users/kuderov/mambaforge/envs/offrl/lib/python3.9/site-packages/lightfm/_lightfm_fast.py:9: UserWarning: LightFM was compiled without OpenMP support. Only a single thread will be used.\n",
      "  warnings.warn(\n",
      "/Users/kuderov/mambaforge/envs/offrl/lib/python3.9/site-packages/lightfm/_lightfm_fast.py:9: UserWarning: LightFM was compiled without OpenMP support. Only a single thread will be used.\n",
      "  warnings.warn(\n",
      "/Users/kuderov/mambaforge/envs/offrl/lib/python3.9/site-packages/lightfm/_lightfm_fast.py:9: UserWarning: LightFM was compiled without OpenMP support. Only a single thread will be used.\n",
      "  warnings.warn(\n",
      "/Users/kuderov/mambaforge/envs/offrl/lib/python3.9/site-packages/lightfm/_lightfm_fast.py:9: UserWarning: LightFM was compiled without OpenMP support. Only a single thread will be used.\n",
      "  warnings.warn(\n",
      "/Users/kuderov/mambaforge/envs/offrl/lib/python3.9/site-packages/lightfm/_lightfm_fast.py:9: UserWarning: LightFM was compiled without OpenMP support. Only a single thread will be used.\n",
      "  warnings.warn(\n",
      "/Users/kuderov/mambaforge/envs/offrl/lib/python3.9/site-packages/lightfm/_lightfm_fast.py:9: UserWarning: LightFM was compiled without OpenMP support. Only a single thread will be used.\n",
      "  warnings.warn(\n",
      "/Users/kuderov/mambaforge/envs/offrl/lib/python3.9/site-packages/lightfm/_lightfm_fast.py:9: UserWarning: LightFM was compiled without OpenMP support. Only a single thread will be used.\n",
      "  warnings.warn(\n",
      "01-Aug-22 12:03:20, replay, INFO: SLIM started                                  \n"
     ]
    },
    {
     "name": "stdout",
     "output_type": "stream",
     "text": [
      "          NDCG@10    MRR@10  Coverage@10    fit_time\n",
      "ALS      0.255471  0.413317     0.147380   20.821820\n",
      "KNN      0.246561  0.404074     0.102550   40.617612\n",
      "LightFM  0.238080  0.395384     0.298123   39.239888\n",
      "CQL      0.033492  0.078719     0.207341  393.981391\n"
     ]
    },
    {
     "name": "stderr",
     "output_type": "stream",
     "text": [
      "/Users/kuderov/mambaforge/envs/offrl/lib/python3.9/site-packages/pyspark/sql/pandas/utils.py:34: DeprecationWarning: distutils Version classes are deprecated. Use packaging.version instead.\n",
      "  if LooseVersion(pandas.__version__) < LooseVersion(minimum_pandas_version):\n",
      "/Users/kuderov/mambaforge/envs/offrl/lib/python3.9/site-packages/pyspark/sql/pandas/utils.py:34: DeprecationWarning: distutils Version classes are deprecated. Use packaging.version instead.\n",
      "  if LooseVersion(pandas.__version__) < LooseVersion(minimum_pandas_version):\n",
      "01-Aug-22 12:04:20, replay, INFO: UCB started                                   \n"
     ]
    },
    {
     "name": "stdout",
     "output_type": "stream",
     "text": [
      "          NDCG@10    MRR@10  Coverage@10    fit_time\n",
      "ALS      0.255471  0.413317     0.147380   20.821820\n",
      "KNN      0.246561  0.404074     0.102550   40.617612\n",
      "SLIM     0.239382  0.414097     0.149902   26.352801\n",
      "LightFM  0.238080  0.395384     0.298123   39.239888\n",
      "CQL      0.033492  0.078719     0.207341  393.981391\n"
     ]
    },
    {
     "name": "stderr",
     "output_type": "stream",
     "text": [
      "[Stage 1272:=================================================>    (22 + 2) / 24]\r"
     ]
    },
    {
     "name": "stdout",
     "output_type": "stream",
     "text": [
      "          NDCG@10    MRR@10  Coverage@10    fit_time\n",
      "ALS      0.255471  0.413317     0.147380   20.821820\n",
      "KNN      0.246561  0.404074     0.102550   40.617612\n",
      "SLIM     0.239382  0.414097     0.149902   26.352801\n",
      "LightFM  0.238080  0.395384     0.298123   39.239888\n",
      "CQL      0.033492  0.078719     0.207341  393.981391\n",
      "UCB      0.000193  0.000878     0.019894   10.527998\n",
      "CPU times: user 6min 52s, sys: 3min 2s, total: 9min 54s\n",
      "Wall time: 13min 5s\n"
     ]
    },
    {
     "name": "stderr",
     "output_type": "stream",
     "text": [
      "                                                                                \r"
     ]
    }
   ],
   "source": [
    "%%time\n",
    "logger = logging.getLogger(\"replay\")\n",
    "test_users = test.select('user_idx').distinct()\n",
    "\n",
    "for name in tqdm.auto.tqdm(algorithms.keys(), desc='Model'):\n",
    "    model = algorithms[name]\n",
    "    \n",
    "    logger.info(msg='{} started'.format(name))\n",
    "    \n",
    "    train_ = train\n",
    "    if isinstance(model, (Wilson, UCB)):\n",
    "        train_ = pos_neg_train\n",
    "    fit_predict_add_res(name, model, experiment, train=train_, top_k=K, test_users=test_users)\n",
    "    print(experiment.results[['NDCG@{}'.format(K), 'MRR@{}'.format(K), 'Coverage@{}'.format(K), 'fit_time']].sort_values('NDCG@{}'.format(K), ascending=False))"
   ]
  },
  {
   "cell_type": "code",
   "execution_count": 17,
   "id": "c4048961-4d6b-4dc1-8ac0-3ea52ea2b779",
   "metadata": {},
   "outputs": [
    {
     "data": {
      "text/html": [
       "<div>\n",
       "<style scoped>\n",
       "    .dataframe tbody tr th:only-of-type {\n",
       "        vertical-align: middle;\n",
       "    }\n",
       "\n",
       "    .dataframe tbody tr th {\n",
       "        vertical-align: top;\n",
       "    }\n",
       "\n",
       "    .dataframe thead th {\n",
       "        text-align: right;\n",
       "    }\n",
       "</style>\n",
       "<table border=\"1\" class=\"dataframe\">\n",
       "  <thead>\n",
       "    <tr style=\"text-align: right;\">\n",
       "      <th></th>\n",
       "      <th>Coverage@10</th>\n",
       "      <th>HitRate@1</th>\n",
       "      <th>HitRate@5</th>\n",
       "      <th>HitRate@10</th>\n",
       "      <th>MAP@10</th>\n",
       "      <th>MRR@10</th>\n",
       "      <th>NDCG@10</th>\n",
       "      <th>Surprisal@10</th>\n",
       "      <th>fit_time</th>\n",
       "      <th>predict_time</th>\n",
       "      <th>metric_time</th>\n",
       "      <th>full_time</th>\n",
       "    </tr>\n",
       "  </thead>\n",
       "  <tbody>\n",
       "    <tr>\n",
       "      <th>ALS</th>\n",
       "      <td>0.147380</td>\n",
       "      <td>0.303775</td>\n",
       "      <td>0.569798</td>\n",
       "      <td>0.673398</td>\n",
       "      <td>0.163541</td>\n",
       "      <td>0.413317</td>\n",
       "      <td>0.255471</td>\n",
       "      <td>0.170315</td>\n",
       "      <td>20.821820</td>\n",
       "      <td>31.702029</td>\n",
       "      <td>19.725200</td>\n",
       "      <td>72.249049</td>\n",
       "    </tr>\n",
       "    <tr>\n",
       "      <th>KNN</th>\n",
       "      <td>0.102550</td>\n",
       "      <td>0.290606</td>\n",
       "      <td>0.560140</td>\n",
       "      <td>0.650571</td>\n",
       "      <td>0.156526</td>\n",
       "      <td>0.404074</td>\n",
       "      <td>0.246561</td>\n",
       "      <td>0.164692</td>\n",
       "      <td>40.617612</td>\n",
       "      <td>16.521744</td>\n",
       "      <td>19.747590</td>\n",
       "      <td>76.886946</td>\n",
       "    </tr>\n",
       "    <tr>\n",
       "      <th>SLIM</th>\n",
       "      <td>0.149902</td>\n",
       "      <td>0.298507</td>\n",
       "      <td>0.569798</td>\n",
       "      <td>0.668130</td>\n",
       "      <td>0.144292</td>\n",
       "      <td>0.414097</td>\n",
       "      <td>0.239382</td>\n",
       "      <td>0.176250</td>\n",
       "      <td>26.352801</td>\n",
       "      <td>19.759773</td>\n",
       "      <td>13.910726</td>\n",
       "      <td>60.023300</td>\n",
       "    </tr>\n",
       "    <tr>\n",
       "      <th>LightFM</th>\n",
       "      <td>0.298123</td>\n",
       "      <td>0.268657</td>\n",
       "      <td>0.553995</td>\n",
       "      <td>0.677788</td>\n",
       "      <td>0.144336</td>\n",
       "      <td>0.395384</td>\n",
       "      <td>0.238080</td>\n",
       "      <td>0.208283</td>\n",
       "      <td>39.239888</td>\n",
       "      <td>23.265942</td>\n",
       "      <td>13.916489</td>\n",
       "      <td>76.422319</td>\n",
       "    </tr>\n",
       "    <tr>\n",
       "      <th>CQL</th>\n",
       "      <td>0.207341</td>\n",
       "      <td>0.031607</td>\n",
       "      <td>0.146620</td>\n",
       "      <td>0.208955</td>\n",
       "      <td>0.013220</td>\n",
       "      <td>0.078719</td>\n",
       "      <td>0.033492</td>\n",
       "      <td>0.455415</td>\n",
       "      <td>393.981391</td>\n",
       "      <td>31.513767</td>\n",
       "      <td>26.960444</td>\n",
       "      <td>452.455602</td>\n",
       "    </tr>\n",
       "    <tr>\n",
       "      <th>UCB</th>\n",
       "      <td>0.019894</td>\n",
       "      <td>0.000878</td>\n",
       "      <td>0.000878</td>\n",
       "      <td>0.000878</td>\n",
       "      <td>0.000088</td>\n",
       "      <td>0.000878</td>\n",
       "      <td>0.000193</td>\n",
       "      <td>1.000000</td>\n",
       "      <td>10.527998</td>\n",
       "      <td>18.765398</td>\n",
       "      <td>17.631306</td>\n",
       "      <td>46.924702</td>\n",
       "    </tr>\n",
       "  </tbody>\n",
       "</table>\n",
       "</div>"
      ],
      "text/plain": [
       "         Coverage@10  HitRate@1  HitRate@5  HitRate@10    MAP@10    MRR@10  \\\n",
       "ALS         0.147380   0.303775   0.569798    0.673398  0.163541  0.413317   \n",
       "KNN         0.102550   0.290606   0.560140    0.650571  0.156526  0.404074   \n",
       "SLIM        0.149902   0.298507   0.569798    0.668130  0.144292  0.414097   \n",
       "LightFM     0.298123   0.268657   0.553995    0.677788  0.144336  0.395384   \n",
       "CQL         0.207341   0.031607   0.146620    0.208955  0.013220  0.078719   \n",
       "UCB         0.019894   0.000878   0.000878    0.000878  0.000088  0.000878   \n",
       "\n",
       "          NDCG@10  Surprisal@10    fit_time  predict_time  metric_time  \\\n",
       "ALS      0.255471      0.170315   20.821820     31.702029    19.725200   \n",
       "KNN      0.246561      0.164692   40.617612     16.521744    19.747590   \n",
       "SLIM     0.239382      0.176250   26.352801     19.759773    13.910726   \n",
       "LightFM  0.238080      0.208283   39.239888     23.265942    13.916489   \n",
       "CQL      0.033492      0.455415  393.981391     31.513767    26.960444   \n",
       "UCB      0.000193      1.000000   10.527998     18.765398    17.631306   \n",
       "\n",
       "          full_time  \n",
       "ALS       72.249049  \n",
       "KNN       76.886946  \n",
       "SLIM      60.023300  \n",
       "LightFM   76.422319  \n",
       "CQL      452.455602  \n",
       "UCB       46.924702  "
      ]
     },
     "execution_count": 17,
     "metadata": {},
     "output_type": "execute_result"
    }
   ],
   "source": [
    "experiment.results.sort_values('NDCG@10', ascending=False)"
   ]
  }
 ],
 "metadata": {
  "kernelspec": {
   "display_name": "Python 3 (ipykernel)",
   "language": "python",
   "name": "python3"
  },
  "language_info": {
   "codemirror_mode": {
    "name": "ipython",
    "version": 3
   },
   "file_extension": ".py",
   "mimetype": "text/x-python",
   "name": "python",
   "nbconvert_exporter": "python",
   "pygments_lexer": "ipython3",
   "version": "3.9.13"
  }
 },
 "nbformat": 4,
 "nbformat_minor": 5
}
